{
 "cells": [
  {
   "cell_type": "markdown",
   "id": "7723aa69-6e24-4d3b-9c58-5772c66a4788",
   "metadata": {},
   "source": [
    "# Trial and Error Fun with Model Optimization"
   ]
  },
  {
   "cell_type": "markdown",
   "id": "b0b4d37f-a01a-495c-99a4-f9bbd176c638",
   "metadata": {},
   "source": [
    "#### Import libraries and modules"
   ]
  },
  {
   "cell_type": "code",
   "execution_count": 186,
   "id": "be3f3397-ce5a-446f-a627-8f04f1af7364",
   "metadata": {},
   "outputs": [],
   "source": [
    "import numpy as np\n",
    "import matplotlib.pyplot as plt\n",
    "import matplotlib.patches as mpatches\n",
    "from plotly import express as px\n",
    "\n",
    "import pandas as pd\n",
    "\n",
    "from sklearn.model_selection import train_test_split\n",
    "from sklearn.preprocessing import MinMaxScaler\n",
    "from sklearn.metrics import ConfusionMatrixDisplay, confusion_matrix,accuracy_score, recall_score, roc_auc_score, precision_score\n",
    "\n",
    "from tensorflow.keras.models import Sequential\n",
    "from tensorflow.keras.layers import Dense, Dropout, Flatten, Conv2D, MaxPooling2D\n",
    "from tensorflow.keras import utils\n",
    "from tensorflow.keras.callbacks import EarlyStopping\n",
    "from tensorflow.keras.regularizers import l2\n",
    "from tensorflow.keras.metrics import FalseNegatives, AUC, Precision"
   ]
  },
  {
   "cell_type": "markdown",
   "id": "7b72d6fd-5426-4238-946b-cc4e96f576fc",
   "metadata": {},
   "source": [
    "#### Import dataMinMaxScaler"
   ]
  },
  {
   "cell_type": "code",
   "execution_count": 5,
   "id": "dd319c4a-1cc8-4c1f-bf5e-77e9da206ebf",
   "metadata": {},
   "outputs": [],
   "source": [
    "data = pd.read_csv('../data/clean_data.csv')"
   ]
  },
  {
   "cell_type": "code",
   "execution_count": 6,
   "id": "8cbc89b3-5070-4229-9f36-6712f84d2338",
   "metadata": {},
   "outputs": [
    {
     "data": {
      "text/html": [
       "<div>\n",
       "<style scoped>\n",
       "    .dataframe tbody tr th:only-of-type {\n",
       "        vertical-align: middle;\n",
       "    }\n",
       "\n",
       "    .dataframe tbody tr th {\n",
       "        vertical-align: top;\n",
       "    }\n",
       "\n",
       "    .dataframe thead th {\n",
       "        text-align: right;\n",
       "    }\n",
       "</style>\n",
       "<table border=\"1\" class=\"dataframe\">\n",
       "  <thead>\n",
       "    <tr style=\"text-align: right;\">\n",
       "      <th></th>\n",
       "      <th>file_path</th>\n",
       "      <th>file_name</th>\n",
       "      <th>label</th>\n",
       "      <th>shape</th>\n",
       "      <th>0</th>\n",
       "      <th>1</th>\n",
       "      <th>2</th>\n",
       "      <th>3</th>\n",
       "      <th>4</th>\n",
       "      <th>5</th>\n",
       "      <th>6</th>\n",
       "      <th>7</th>\n",
       "      <th>8</th>\n",
       "      <th>9</th>\n",
       "      <th>10</th>\n",
       "      <th>11</th>\n",
       "      <th>12</th>\n",
       "      <th>13</th>\n",
       "      <th>14</th>\n",
       "      <th>15</th>\n",
       "      <th>16</th>\n",
       "      <th>17</th>\n",
       "      <th>18</th>\n",
       "      <th>19</th>\n",
       "      <th>20</th>\n",
       "      <th>21</th>\n",
       "      <th>22</th>\n",
       "      <th>23</th>\n",
       "      <th>24</th>\n",
       "      <th>25</th>\n",
       "      <th>26</th>\n",
       "      <th>27</th>\n",
       "      <th>28</th>\n",
       "      <th>29</th>\n",
       "      <th>30</th>\n",
       "      <th>31</th>\n",
       "      <th>32</th>\n",
       "      <th>33</th>\n",
       "      <th>34</th>\n",
       "      <th>35</th>\n",
       "      <th>...</th>\n",
       "      <th>95012</th>\n",
       "      <th>95013</th>\n",
       "      <th>95014</th>\n",
       "      <th>95015</th>\n",
       "      <th>95016</th>\n",
       "      <th>95017</th>\n",
       "      <th>95018</th>\n",
       "      <th>95019</th>\n",
       "      <th>95020</th>\n",
       "      <th>95021</th>\n",
       "      <th>95022</th>\n",
       "      <th>95023</th>\n",
       "      <th>95024</th>\n",
       "      <th>95025</th>\n",
       "      <th>95026</th>\n",
       "      <th>95027</th>\n",
       "      <th>95028</th>\n",
       "      <th>95029</th>\n",
       "      <th>95030</th>\n",
       "      <th>95031</th>\n",
       "      <th>95032</th>\n",
       "      <th>95033</th>\n",
       "      <th>95034</th>\n",
       "      <th>95035</th>\n",
       "      <th>95036</th>\n",
       "      <th>95037</th>\n",
       "      <th>95038</th>\n",
       "      <th>95039</th>\n",
       "      <th>95040</th>\n",
       "      <th>95041</th>\n",
       "      <th>95042</th>\n",
       "      <th>95043</th>\n",
       "      <th>95044</th>\n",
       "      <th>95045</th>\n",
       "      <th>95046</th>\n",
       "      <th>95047</th>\n",
       "      <th>95048</th>\n",
       "      <th>95049</th>\n",
       "      <th>95050</th>\n",
       "      <th>95051</th>\n",
       "    </tr>\n",
       "  </thead>\n",
       "  <tbody>\n",
       "    <tr>\n",
       "      <th>0</th>\n",
       "      <td>../data/Images\\Im001_ACRIMA.jpg</td>\n",
       "      <td>Im001_ACRIMA.jpg</td>\n",
       "      <td>0</td>\n",
       "      <td>(178, 178, 3)</td>\n",
       "      <td>162</td>\n",
       "      <td>115</td>\n",
       "      <td>50</td>\n",
       "      <td>163</td>\n",
       "      <td>115</td>\n",
       "      <td>51</td>\n",
       "      <td>169</td>\n",
       "      <td>119</td>\n",
       "      <td>56</td>\n",
       "      <td>171</td>\n",
       "      <td>121</td>\n",
       "      <td>58</td>\n",
       "      <td>169</td>\n",
       "      <td>117</td>\n",
       "      <td>54</td>\n",
       "      <td>170</td>\n",
       "      <td>117</td>\n",
       "      <td>54</td>\n",
       "      <td>170</td>\n",
       "      <td>116</td>\n",
       "      <td>54</td>\n",
       "      <td>170</td>\n",
       "      <td>114</td>\n",
       "      <td>53</td>\n",
       "      <td>171</td>\n",
       "      <td>118</td>\n",
       "      <td>53</td>\n",
       "      <td>172</td>\n",
       "      <td>117</td>\n",
       "      <td>52</td>\n",
       "      <td>173</td>\n",
       "      <td>118</td>\n",
       "      <td>51</td>\n",
       "      <td>177</td>\n",
       "      <td>121</td>\n",
       "      <td>54</td>\n",
       "      <td>...</td>\n",
       "      <td>68</td>\n",
       "      <td>190</td>\n",
       "      <td>129</td>\n",
       "      <td>66</td>\n",
       "      <td>186</td>\n",
       "      <td>124</td>\n",
       "      <td>62</td>\n",
       "      <td>186</td>\n",
       "      <td>121</td>\n",
       "      <td>60</td>\n",
       "      <td>192</td>\n",
       "      <td>125</td>\n",
       "      <td>66</td>\n",
       "      <td>194</td>\n",
       "      <td>123</td>\n",
       "      <td>67</td>\n",
       "      <td>194</td>\n",
       "      <td>122</td>\n",
       "      <td>67</td>\n",
       "      <td>184</td>\n",
       "      <td>107</td>\n",
       "      <td>60</td>\n",
       "      <td>169</td>\n",
       "      <td>87</td>\n",
       "      <td>44</td>\n",
       "      <td>159</td>\n",
       "      <td>72</td>\n",
       "      <td>32</td>\n",
       "      <td>164</td>\n",
       "      <td>73</td>\n",
       "      <td>34</td>\n",
       "      <td>167</td>\n",
       "      <td>72</td>\n",
       "      <td>34</td>\n",
       "      <td>168</td>\n",
       "      <td>71</td>\n",
       "      <td>33</td>\n",
       "      <td>163</td>\n",
       "      <td>67</td>\n",
       "      <td>28</td>\n",
       "    </tr>\n",
       "    <tr>\n",
       "      <th>1</th>\n",
       "      <td>../data/Images\\Im002_ACRIMA.jpg</td>\n",
       "      <td>Im002_ACRIMA.jpg</td>\n",
       "      <td>0</td>\n",
       "      <td>(178, 178, 3)</td>\n",
       "      <td>144</td>\n",
       "      <td>108</td>\n",
       "      <td>56</td>\n",
       "      <td>145</td>\n",
       "      <td>109</td>\n",
       "      <td>57</td>\n",
       "      <td>147</td>\n",
       "      <td>111</td>\n",
       "      <td>59</td>\n",
       "      <td>151</td>\n",
       "      <td>116</td>\n",
       "      <td>62</td>\n",
       "      <td>154</td>\n",
       "      <td>119</td>\n",
       "      <td>65</td>\n",
       "      <td>153</td>\n",
       "      <td>118</td>\n",
       "      <td>63</td>\n",
       "      <td>149</td>\n",
       "      <td>114</td>\n",
       "      <td>58</td>\n",
       "      <td>150</td>\n",
       "      <td>115</td>\n",
       "      <td>59</td>\n",
       "      <td>153</td>\n",
       "      <td>118</td>\n",
       "      <td>62</td>\n",
       "      <td>150</td>\n",
       "      <td>115</td>\n",
       "      <td>57</td>\n",
       "      <td>153</td>\n",
       "      <td>113</td>\n",
       "      <td>57</td>\n",
       "      <td>159</td>\n",
       "      <td>118</td>\n",
       "      <td>62</td>\n",
       "      <td>...</td>\n",
       "      <td>31</td>\n",
       "      <td>136</td>\n",
       "      <td>83</td>\n",
       "      <td>31</td>\n",
       "      <td>132</td>\n",
       "      <td>79</td>\n",
       "      <td>27</td>\n",
       "      <td>132</td>\n",
       "      <td>76</td>\n",
       "      <td>25</td>\n",
       "      <td>132</td>\n",
       "      <td>75</td>\n",
       "      <td>24</td>\n",
       "      <td>132</td>\n",
       "      <td>73</td>\n",
       "      <td>23</td>\n",
       "      <td>131</td>\n",
       "      <td>71</td>\n",
       "      <td>21</td>\n",
       "      <td>130</td>\n",
       "      <td>67</td>\n",
       "      <td>18</td>\n",
       "      <td>131</td>\n",
       "      <td>67</td>\n",
       "      <td>19</td>\n",
       "      <td>136</td>\n",
       "      <td>71</td>\n",
       "      <td>23</td>\n",
       "      <td>140</td>\n",
       "      <td>73</td>\n",
       "      <td>25</td>\n",
       "      <td>145</td>\n",
       "      <td>75</td>\n",
       "      <td>26</td>\n",
       "      <td>145</td>\n",
       "      <td>75</td>\n",
       "      <td>26</td>\n",
       "      <td>146</td>\n",
       "      <td>76</td>\n",
       "      <td>27</td>\n",
       "    </tr>\n",
       "    <tr>\n",
       "      <th>2</th>\n",
       "      <td>../data/Images\\Im003_ACRIMA.jpg</td>\n",
       "      <td>Im003_ACRIMA.jpg</td>\n",
       "      <td>0</td>\n",
       "      <td>(178, 178, 3)</td>\n",
       "      <td>254</td>\n",
       "      <td>155</td>\n",
       "      <td>26</td>\n",
       "      <td>254</td>\n",
       "      <td>156</td>\n",
       "      <td>27</td>\n",
       "      <td>254</td>\n",
       "      <td>158</td>\n",
       "      <td>28</td>\n",
       "      <td>253</td>\n",
       "      <td>158</td>\n",
       "      <td>28</td>\n",
       "      <td>254</td>\n",
       "      <td>159</td>\n",
       "      <td>29</td>\n",
       "      <td>255</td>\n",
       "      <td>161</td>\n",
       "      <td>31</td>\n",
       "      <td>255</td>\n",
       "      <td>164</td>\n",
       "      <td>32</td>\n",
       "      <td>253</td>\n",
       "      <td>167</td>\n",
       "      <td>32</td>\n",
       "      <td>254</td>\n",
       "      <td>166</td>\n",
       "      <td>32</td>\n",
       "      <td>255</td>\n",
       "      <td>165</td>\n",
       "      <td>32</td>\n",
       "      <td>255</td>\n",
       "      <td>165</td>\n",
       "      <td>32</td>\n",
       "      <td>255</td>\n",
       "      <td>165</td>\n",
       "      <td>32</td>\n",
       "      <td>...</td>\n",
       "      <td>53</td>\n",
       "      <td>227</td>\n",
       "      <td>146</td>\n",
       "      <td>55</td>\n",
       "      <td>221</td>\n",
       "      <td>139</td>\n",
       "      <td>52</td>\n",
       "      <td>216</td>\n",
       "      <td>131</td>\n",
       "      <td>48</td>\n",
       "      <td>214</td>\n",
       "      <td>131</td>\n",
       "      <td>47</td>\n",
       "      <td>215</td>\n",
       "      <td>133</td>\n",
       "      <td>46</td>\n",
       "      <td>215</td>\n",
       "      <td>135</td>\n",
       "      <td>48</td>\n",
       "      <td>217</td>\n",
       "      <td>137</td>\n",
       "      <td>48</td>\n",
       "      <td>220</td>\n",
       "      <td>142</td>\n",
       "      <td>51</td>\n",
       "      <td>220</td>\n",
       "      <td>143</td>\n",
       "      <td>51</td>\n",
       "      <td>220</td>\n",
       "      <td>146</td>\n",
       "      <td>51</td>\n",
       "      <td>220</td>\n",
       "      <td>146</td>\n",
       "      <td>51</td>\n",
       "      <td>220</td>\n",
       "      <td>146</td>\n",
       "      <td>52</td>\n",
       "      <td>219</td>\n",
       "      <td>146</td>\n",
       "      <td>52</td>\n",
       "    </tr>\n",
       "  </tbody>\n",
       "</table>\n",
       "<p>3 rows × 95056 columns</p>\n",
       "</div>"
      ],
      "text/plain": [
       "                         file_path         file_name  ...  95050 95051\n",
       "0  ../data/Images\\Im001_ACRIMA.jpg  Im001_ACRIMA.jpg  ...     67    28\n",
       "1  ../data/Images\\Im002_ACRIMA.jpg  Im002_ACRIMA.jpg  ...     76    27\n",
       "2  ../data/Images\\Im003_ACRIMA.jpg  Im003_ACRIMA.jpg  ...    146    52\n",
       "\n",
       "[3 rows x 95056 columns]"
      ]
     },
     "execution_count": 6,
     "metadata": {},
     "output_type": "execute_result"
    }
   ],
   "source": [
    "data.head(3)"
   ]
  },
  {
   "cell_type": "markdown",
   "id": "ecb80688-a23c-4578-a332-e6bf8ebd4872",
   "metadata": {},
   "source": [
    "#### Define X and y for model"
   ]
  },
  {
   "cell_type": "code",
   "execution_count": 7,
   "id": "56d1c6bd-bc29-44d6-862c-21813ed76fd2",
   "metadata": {},
   "outputs": [],
   "source": [
    "X = data.drop(columns=['file_path', 'file_name', 'label', 'shape'])\n",
    "y = data['label']"
   ]
  },
  {
   "cell_type": "code",
   "execution_count": 8,
   "id": "099ba848-80fe-4542-8d54-3d6d3f67cf96",
   "metadata": {},
   "outputs": [],
   "source": [
    "# scale X data to be between 0 and 1\n",
    "X = X.astype('float32')/255"
   ]
  },
  {
   "cell_type": "code",
   "execution_count": 9,
   "id": "a763755f-9ebf-43d5-ae2f-5704cafd33df",
   "metadata": {},
   "outputs": [
    {
     "data": {
      "text/plain": [
       "(705, 178, 178, 3)"
      ]
     },
     "execution_count": 9,
     "metadata": {},
     "output_type": "execute_result"
    }
   ],
   "source": [
    "# convert X into a numpy array where each element \n",
    "# is a figure that has the dimensions (178, 178, 3)\n",
    "\n",
    "image_vectors = np.array(X) # each element is a vector of pixel values\n",
    "\n",
    "X_array = np.array([row.reshape(178, 178, 3) for row in image_vectors])\n",
    "\n",
    "X_array.shape # needs to be (705, 178, 178, 3)\n",
    "              # (number of images, (pixel xy dimensions), RGB)"
   ]
  },
  {
   "cell_type": "code",
   "execution_count": 10,
   "id": "d387aa8a-b503-41e4-b455-35c76fdc5aba",
   "metadata": {},
   "outputs": [
    {
     "data": {
      "image/png": "[encoded data removed]",
      "text/plain": [
       "<Figure size 432x288 with 1 Axes>"
      ]
     },
     "metadata": {
      "needs_background": "light"
     },
     "output_type": "display_data"
    }
   ],
   "source": [
    "# Check to make sure image is not distorted\n",
    "plt.imshow(X_array[0]);"
   ]
  },
  {
   "cell_type": "code",
   "execution_count": 11,
   "id": "18f274c2-4ed3-474d-9f27-395c85d701d1",
   "metadata": {},
   "outputs": [],
   "source": [
    "# split into train and test sets\n",
    "\n",
    "X_train, X_test, y_train, y_test = train_test_split(X_array, y, \n",
    "                                                    test_size=0.2, \n",
    "                                                    stratify=y, \n",
    "                                                    random_state=42)"
   ]
  },
  {
   "cell_type": "code",
   "execution_count": 12,
   "id": "8a9138e7-d0c3-459a-bceb-e873a8433ac9",
   "metadata": {},
   "outputs": [
    {
     "data": {
      "image/png": "[encoded data removed]",
      "text/plain": [
       "<Figure size 432x288 with 1 Axes>"
      ]
     },
     "metadata": {
      "needs_background": "light"
     },
     "output_type": "display_data"
    }
   ],
   "source": [
    "# checking again to make sure images are intact\n",
    "plt.imshow(X_train[0]);"
   ]
  },
  {
   "cell_type": "code",
   "execution_count": 13,
   "id": "2a85ae87-3d62-4274-bc3c-dcfc7ff34c2d",
   "metadata": {},
   "outputs": [
    {
     "data": {
      "text/plain": [
       "105    0\n",
       "499    1\n",
       "49     0\n",
       "610    1\n",
       "484    1\n",
       "      ..\n",
       "362    1\n",
       "321    1\n",
       "459    1\n",
       "87     0\n",
       "357    1\n",
       "Name: label, Length: 141, dtype: int64"
      ]
     },
     "execution_count": 13,
     "metadata": {},
     "output_type": "execute_result"
    }
   ],
   "source": [
    "y_test"
   ]
  },
  {
   "cell_type": "markdown",
   "id": "fb5f6c56-51e4-4ca2-848b-56e79ebc0d0b",
   "metadata": {},
   "source": [
    "#### Define Model"
   ]
  },
  {
   "cell_type": "code",
   "execution_count": 14,
   "id": "0db1ab4b-99bd-445b-b2cd-8b58aa2a67f2",
   "metadata": {},
   "outputs": [
    {
     "name": "stdout",
     "output_type": "stream",
     "text": [
      "Epoch 1/20\n",
      "3/3 [==============================] - 12s 3s/step - loss: 2.9685 - accuracy: 0.4628 - false_negatives_1: 174.0000 - precision_1: 0.5257 - auc_1: 0.4566 - val_loss: 1.2005 - val_accuracy: 0.4397 - val_false_negatives_1: 79.0000 - val_precision_1: 0.0000e+00 - val_auc_1: 0.6491\n",
      "Epoch 2/20\n",
      "3/3 [==============================] - 8s 2s/step - loss: 0.9783 - accuracy: 0.4858 - false_negatives_1: 290.0000 - precision_1: 1.0000 - auc_1: 0.5913 - val_loss: 0.6469 - val_accuracy: 0.5603 - val_false_negatives_1: 0.0000e+00 - val_precision_1: 0.5603 - val_auc_1: 0.8184\n",
      "Epoch 3/20\n",
      "3/3 [==============================] - 8s 2s/step - loss: 0.6386 - accuracy: 0.5621 - false_negatives_1: 0.0000e+00 - precision_1: 0.5621 - auc_1: 0.8329 - val_loss: 0.6657 - val_accuracy: 0.5603 - val_false_negatives_1: 0.0000e+00 - val_precision_1: 0.5603 - val_auc_1: 0.7943\n",
      "Epoch 4/20\n",
      "3/3 [==============================] - 9s 2s/step - loss: 0.6052 - accuracy: 0.6277 - false_negatives_1: 1.0000 - precision_1: 0.6019 - auc_1: 0.8131 - val_loss: 0.5428 - val_accuracy: 0.7872 - val_false_negatives_1: 14.0000 - val_precision_1: 0.8025 - val_auc_1: 0.8406\n",
      "Epoch 5/20\n",
      "3/3 [==============================] - 9s 2s/step - loss: 0.4955 - accuracy: 0.8050 - false_negatives_1: 70.0000 - precision_1: 0.8606 - auc_1: 0.8949 - val_loss: 0.5488 - val_accuracy: 0.7234 - val_false_negatives_1: 7.0000 - val_precision_1: 0.6923 - val_auc_1: 0.8365\n",
      "Epoch 6/20\n",
      "3/3 [==============================] - 8s 2s/step - loss: 0.4706 - accuracy: 0.7801 - false_negatives_1: 19.0000 - precision_1: 0.7395 - auc_1: 0.8886 - val_loss: 0.5081 - val_accuracy: 0.7518 - val_false_negatives_1: 24.0000 - val_precision_1: 0.8333 - val_auc_1: 0.8520\n",
      "Epoch 7/20\n",
      "3/3 [==============================] - 9s 2s/step - loss: 0.4403 - accuracy: 0.8298 - false_negatives_1: 78.0000 - precision_1: 0.9300 - auc_1: 0.9069 - val_loss: 0.5124 - val_accuracy: 0.7730 - val_false_negatives_1: 5.0000 - val_precision_1: 0.7327 - val_auc_1: 0.8781\n",
      "Epoch 8/20\n",
      "3/3 [==============================] - 9s 2s/step - loss: 0.3867 - accuracy: 0.8245 - false_negatives_1: 23.0000 - precision_1: 0.7946 - auc_1: 0.9269 - val_loss: 0.4126 - val_accuracy: 0.7872 - val_false_negatives_1: 17.0000 - val_precision_1: 0.8267 - val_auc_1: 0.8892\n",
      "Epoch 9/20\n",
      "3/3 [==============================] - 8s 2s/step - loss: 0.3357 - accuracy: 0.8564 - false_negatives_1: 45.0000 - precision_1: 0.8831 - auc_1: 0.9359 - val_loss: 0.3789 - val_accuracy: 0.7872 - val_false_negatives_1: 16.0000 - val_precision_1: 0.8182 - val_auc_1: 0.9069\n",
      "Epoch 10/20\n",
      "3/3 [==============================] - 8s 2s/step - loss: 0.2889 - accuracy: 0.8794 - false_negatives_1: 46.0000 - precision_1: 0.9249 - auc_1: 0.9480 - val_loss: 0.6466 - val_accuracy: 0.8085 - val_false_negatives_1: 3.0000 - val_precision_1: 0.7600 - val_auc_1: 0.8846\n",
      "Epoch 11/20\n",
      "3/3 [==============================] - 8s 2s/step - loss: 0.3181 - accuracy: 0.8670 - false_negatives_1: 32.0000 - precision_1: 0.8689 - auc_1: 0.9470 - val_loss: 0.3791 - val_accuracy: 0.8156 - val_false_negatives_1: 24.0000 - val_precision_1: 0.9649 - val_auc_1: 0.9419\n",
      "Epoch 12/20\n",
      "3/3 [==============================] - 8s 2s/step - loss: 0.3034 - accuracy: 0.8528 - false_negatives_1: 67.0000 - precision_1: 0.9398 - auc_1: 0.9534 - val_loss: 0.3823 - val_accuracy: 0.8511 - val_false_negatives_1: 3.0000 - val_precision_1: 0.8085 - val_auc_1: 0.9406\n",
      "Epoch 13/20\n",
      "3/3 [==============================] - 8s 2s/step - loss: 0.2802 - accuracy: 0.8901 - false_negatives_1: 21.0000 - precision_1: 0.8783 - auc_1: 0.9681 - val_loss: 0.3527 - val_accuracy: 0.8511 - val_false_negatives_1: 3.0000 - val_precision_1: 0.8085 - val_auc_1: 0.9456\n",
      "Epoch 14/20\n",
      "3/3 [==============================] - 8s 2s/step - loss: 0.2226 - accuracy: 0.9060 - false_negatives_1: 25.0000 - precision_1: 0.9125 - auc_1: 0.9713 - val_loss: 0.2568 - val_accuracy: 0.8652 - val_false_negatives_1: 7.0000 - val_precision_1: 0.8571 - val_auc_1: 0.9576\n",
      "Epoch 15/20\n",
      "3/3 [==============================] - 8s 2s/step - loss: 0.1830 - accuracy: 0.9255 - false_negatives_1: 23.0000 - precision_1: 0.9393 - auc_1: 0.9796 - val_loss: 0.3005 - val_accuracy: 0.8652 - val_false_negatives_1: 1.0000 - val_precision_1: 0.8125 - val_auc_1: 0.9631\n",
      "Epoch 16/20\n",
      "3/3 [==============================] - 8s 2s/step - loss: 0.1662 - accuracy: 0.9415 - false_negatives_1: 17.0000 - precision_1: 0.9494 - auc_1: 0.9837 - val_loss: 0.1981 - val_accuracy: 0.9149 - val_false_negatives_1: 6.0000 - val_precision_1: 0.9241 - val_auc_1: 0.9734\n",
      "Epoch 17/20\n",
      "3/3 [==============================] - 8s 2s/step - loss: 0.1601 - accuracy: 0.9344 - false_negatives_1: 18.0000 - precision_1: 0.9403 - auc_1: 0.9834 - val_loss: 0.1664 - val_accuracy: 0.9291 - val_false_negatives_1: 6.0000 - val_precision_1: 0.9481 - val_auc_1: 0.9837\n",
      "Epoch 18/20\n",
      "3/3 [==============================] - 8s 2s/step - loss: 0.1508 - accuracy: 0.9415 - false_negatives_1: 18.0000 - precision_1: 0.9522 - auc_1: 0.9871 - val_loss: 0.1581 - val_accuracy: 0.9433 - val_false_negatives_1: 3.0000 - val_precision_1: 0.9383 - val_auc_1: 0.9852\n",
      "Epoch 19/20\n",
      "3/3 [==============================] - 8s 2s/step - loss: 0.1299 - accuracy: 0.9486 - false_negatives_1: 21.0000 - precision_1: 0.9737 - auc_1: 0.9909 - val_loss: 0.5651 - val_accuracy: 0.8511 - val_false_negatives_1: 0.0000e+00 - val_precision_1: 0.7900 - val_auc_1: 0.9598\n",
      "Epoch 20/20\n",
      "3/3 [==============================] - 8s 2s/step - loss: 0.1799 - accuracy: 0.9273 - false_negatives_1: 15.0000 - precision_1: 0.9207 - auc_1: 0.9809 - val_loss: 0.1671 - val_accuracy: 0.9220 - val_false_negatives_1: 1.0000 - val_precision_1: 0.8864 - val_auc_1: 0.9865\n"
     ]
    }
   ],
   "source": [
    "# test 1: change filters for conv layer 1 from 16 to 32 --> improved recall from 0.92 to 0.98; decreased auc from 0.88 to 0.86\n",
    "# test 2: change filters for conv layer 1 from 32 to 36 --> nope\n",
    "# test 3: keep filters for conv layer 1 at 32, change kernal size frm (3, 3) to (4, 4) --> improved things dramatically: \n",
    "#         recall: 1.0, roc_auc: 0.9\n",
    "# test 4: add second convolution layer: changed everything!! Keeping this one\n",
    "\n",
    "cnn = Sequential()\n",
    "\n",
    "# convolution layer 1\n",
    "cnn.add(Conv2D(filters=32,\n",
    "              kernel_size=(4, 4),\n",
    "              activation='relu',\n",
    "              input_shape=(178, 178, 3)\n",
    "              ))\n",
    "# pooling layer 1\n",
    "cnn.add(MaxPooling2D(pool_size=(2, 2)))\n",
    "\n",
    "\n",
    "# convolution layer 2\n",
    "cnn.add(Conv2D(filters=32,\n",
    "              kernel_size=(4, 4),\n",
    "              activation='relu',\n",
    "              input_shape=(178, 178, 3)\n",
    "              ))\n",
    "# pooling layer 2\n",
    "cnn.add(MaxPooling2D(pool_size=(2, 2)))\n",
    "\n",
    "#flatten layer\n",
    "cnn.add(Flatten())\n",
    "\n",
    "#dense layers\n",
    "cnn.add(Dense(units=128, activation='relu'))\n",
    "\n",
    "#output layer\n",
    "cnn.add(Dense(units=1, activation='sigmoid'))\n",
    "\n",
    "# early stopping\n",
    "early_stop = EarlyStopping(patience=5)\n",
    "\n",
    "# Compile model\n",
    "cnn.compile(loss='bce', \n",
    "            optimizer='adam', \n",
    "            metrics=['accuracy', FalseNegatives(), Precision(), AUC()])\n",
    "\n",
    "# Fit model on training data\n",
    "history = cnn.fit(X_train, y_train,\n",
    "               batch_size=256,\n",
    "               epochs=20,\n",
    "               validation_data=(X_test, y_test),\n",
    "               callbacks=[early_stop])"
   ]
  },
  {
   "cell_type": "code",
   "execution_count": 103,
   "id": "b3e4b076-cc96-494d-94e4-c5dc966dbb3d",
   "metadata": {},
   "outputs": [
    {
     "name": "stdout",
     "output_type": "stream",
     "text": [
      "INFO:tensorflow:Assets written to: ../models/model_03_auc93\\assets\n"
     ]
    }
   ],
   "source": [
    "# uncomment below to save model to directory\n",
    "# cnn.save('../models/model_03_auc93')"
   ]
  },
  {
   "cell_type": "code",
   "execution_count": 15,
   "id": "9638c9a7-fd8a-4ca0-9b1a-d12affd217fe",
   "metadata": {},
   "outputs": [],
   "source": [
    "preds = cnn.predict(X_test)"
   ]
  },
  {
   "cell_type": "markdown",
   "id": "452afcaa-f413-440f-8515-11fb080f96d1",
   "metadata": {},
   "source": [
    "**Plot distribution of predicted probabilities to get a sense of how separated the two groups are**"
   ]
  },
  {
   "cell_type": "code",
   "execution_count": 112,
   "id": "2178d6d9-a5a0-4025-884f-58a526f44c3e",
   "metadata": {},
   "outputs": [],
   "source": [
    "# create dataframe to make plotting easier\n",
    "predictions_df = pd.DataFrame(y_test)\n",
    "predictions_df['preds'] = preds\n",
    "\n",
    "# replace 1 and 0 with strings indicating class\n",
    "predictions_df['label'].replace({1:'Glaucoma', 0:'Healthy'}, inplace=True)\n",
    "\n",
    "# uncomment below to save predictions to file\n",
    "# predictions_df.to_csv('../data/test_predictions.csv', index=False)"
   ]
  },
  {
   "cell_type": "code",
   "execution_count": 183,
   "id": "ec180f4b-1b27-4a51-96c1-88849d4657a5",
   "metadata": {},
   "outputs": [
    {
     "data": {
      "text/plain": [
       "Text(0.35, 3.1, 'threshold for\\nclassification')"
      ]
     },
     "execution_count": 183,
     "metadata": {},
     "output_type": "execute_result"
    },
    {
     "data": {
      "image/png": "[encoded data removed]",
      "text/plain": [
       "<Figure size 360x360 with 1 Axes>"
      ]
     },
     "metadata": {},
     "output_type": "display_data"
    }
   ],
   "source": [
    "# predictions_df = pd.read_csv('../data/test_predictions.csv')\n",
    "\n",
    "sns.set_style('whitegrid')\n",
    "sns.displot(data=predictions_df, x='preds', hue='label', kind='kde', height=5, legend=False);\n",
    "# plt.axvline(0.65, color='green', linestyle='--')\n",
    "plt.title('Predicted Probabilities for Pathological and Healthy Retinas', size=15);\n",
    "plt.xlabel('Probability of Glaucoma Pathology', size=15)\n",
    "plt.ylabel('Density', size=15)\n",
    "plt.legend(['Glaucoma', 'Healthy'], fontsize=13);\n",
    "plt.xticks(size=12)\n",
    "plt.yticks(size=12);\n",
    "\n",
    "# generate a rectangle area where the potential threshold for predicted probability would be \n",
    "left, bottom, width, height = (0.3, 0, 0.5, 3.5)\n",
    "rect=mpatches.Rectangle((left,bottom),width,height, \n",
    "                        #fill=False,\n",
    "                        alpha=0.1,\n",
    "                       facecolor=\"green\")\n",
    "plt.gca().add_patch(rect)\n",
    "plt.text(0.35, 3.1,'threshold for\\nclassification',fontsize=13, color=\"green\")\n",
    "\n",
    "\n",
    "# uncomment below to save figure\n",
    "# plt.savefig('../figures/prob_distribution.png', bbox_inches='tight', dpi=300)"
   ]
  },
  {
   "cell_type": "markdown",
   "id": "3540ca42-981f-4276-bd8b-10b9f421b540",
   "metadata": {},
   "source": [
    "**Determine what the optimal threshold for predicted probability is that maximizes performance metrics of the model**"
   ]
  },
  {
   "cell_type": "markdown",
   "id": "577fb34e-0fb1-4c8a-a5d2-bb1119ee94dd",
   "metadata": {},
   "source": [
    "First, I calculate all metrics (recall (for false-negatives), precision(for false-positives), accuracy (for overall classifictation since classes are more or less balanced), and auc_roc), for all values of threshold between 0.3 and 0.8. I picked these values because this is the area inbetween the two curves. "
   ]
  },
  {
   "cell_type": "code",
   "execution_count": 184,
   "id": "cffa46a4-b223-46f5-8e15-79da01406190",
   "metadata": {},
   "outputs": [],
   "source": [
    "recall = []\n",
    "precision = []\n",
    "auc = []\n",
    "accuracy = []\n",
    "thresh = []\n",
    "for th in np.linspace(0.3, 0.8, 20):\n",
    "    y_pred = [0 if p<th else 1 for p in preds]\n",
    "    recall.append(recall_score(y_test, y_pred))\n",
    "    precision.append(precision_score(y_test, y_pred))\n",
    "    auc.append(roc_auc_score(y_test, y_pred))\n",
    "    accuracy.append(accuracy_score(y_test, y_pred))\n",
    "    thresh.append(th)\n",
    "metrics_df = pd.DataFrame(dict(threshold=thresh,\n",
    "                              recall=recall,\n",
    "                              precision=precision,\n",
    "                              auc=auc,\n",
    "                              accuracy=accuracy))"
   ]
  },
  {
   "cell_type": "markdown",
   "id": "330684f8-5521-48be-8ab7-78046a02699b",
   "metadata": {},
   "source": [
    "Visualize the dataframe of values"
   ]
  },
  {
   "cell_type": "code",
   "execution_count": 185,
   "id": "d39cc5da-7b0b-4493-b9f9-fcde85985d45",
   "metadata": {},
   "outputs": [
    {
     "data": {
      "text/html": [
       "<div>\n",
       "<style scoped>\n",
       "    .dataframe tbody tr th:only-of-type {\n",
       "        vertical-align: middle;\n",
       "    }\n",
       "\n",
       "    .dataframe tbody tr th {\n",
       "        vertical-align: top;\n",
       "    }\n",
       "\n",
       "    .dataframe thead th {\n",
       "        text-align: right;\n",
       "    }\n",
       "</style>\n",
       "<table border=\"1\" class=\"dataframe\">\n",
       "  <thead>\n",
       "    <tr style=\"text-align: right;\">\n",
       "      <th></th>\n",
       "      <th>threshold</th>\n",
       "      <th>recall</th>\n",
       "      <th>precision</th>\n",
       "      <th>auc</th>\n",
       "      <th>accuracy</th>\n",
       "    </tr>\n",
       "  </thead>\n",
       "  <tbody>\n",
       "    <tr>\n",
       "      <th>12</th>\n",
       "      <td>0.615789</td>\n",
       "      <td>0.962025</td>\n",
       "      <td>0.926829</td>\n",
       "      <td>0.932626</td>\n",
       "      <td>0.936170</td>\n",
       "    </tr>\n",
       "    <tr>\n",
       "      <th>17</th>\n",
       "      <td>0.747368</td>\n",
       "      <td>0.911392</td>\n",
       "      <td>0.960000</td>\n",
       "      <td>0.931503</td>\n",
       "      <td>0.929078</td>\n",
       "    </tr>\n",
       "    <tr>\n",
       "      <th>11</th>\n",
       "      <td>0.589474</td>\n",
       "      <td>0.974684</td>\n",
       "      <td>0.916667</td>\n",
       "      <td>0.930890</td>\n",
       "      <td>0.936170</td>\n",
       "    </tr>\n",
       "    <tr>\n",
       "      <th>16</th>\n",
       "      <td>0.721053</td>\n",
       "      <td>0.924051</td>\n",
       "      <td>0.948052</td>\n",
       "      <td>0.929767</td>\n",
       "      <td>0.929078</td>\n",
       "    </tr>\n",
       "    <tr>\n",
       "      <th>15</th>\n",
       "      <td>0.694737</td>\n",
       "      <td>0.936709</td>\n",
       "      <td>0.936709</td>\n",
       "      <td>0.928032</td>\n",
       "      <td>0.929078</td>\n",
       "    </tr>\n",
       "  </tbody>\n",
       "</table>\n",
       "</div>"
      ],
      "text/plain": [
       "    threshold    recall  precision       auc  accuracy\n",
       "12   0.615789  0.962025   0.926829  0.932626  0.936170\n",
       "17   0.747368  0.911392   0.960000  0.931503  0.929078\n",
       "11   0.589474  0.974684   0.916667  0.930890  0.936170\n",
       "16   0.721053  0.924051   0.948052  0.929767  0.929078\n",
       "15   0.694737  0.936709   0.936709  0.928032  0.929078"
      ]
     },
     "execution_count": 185,
     "metadata": {},
     "output_type": "execute_result"
    }
   ],
   "source": [
    "metrics_df.sort_values('auc', ascending=False).head()"
   ]
  },
  {
   "cell_type": "code",
   "execution_count": 277,
   "id": "d374f8f5-08ed-4309-8b47-a646f1640583",
   "metadata": {},
   "outputs": [
    {
     "data": {
      "application/vnd.plotly.v1+json": {
       "config": {
        "plotlyServerURL": "https://plot.ly"
       },
       "data": [
        {
         "legendgroup": "recall",
         "line": {
          "color": "#636efa",
          "dash": "solid"
         },
         "marker": {
          "symbol": "circle"
         },
         "mode": "markers+lines",
         "name": "recall",
         "orientation": "v",
         "showlegend": true,
         "type": "scatter",
         "x": [
          0.3,
          0.3263157894736842,
          0.3526315789473684,
          0.3789473684210526,
          0.4052631578947368,
          0.43157894736842106,
          0.45789473684210524,
          0.4842105263157894,
          0.5105263157894737,
          0.5368421052631579,
          0.5631578947368421,
          0.5894736842105264,
          0.6157894736842104,
          0.6421052631578947,
          0.6684210526315789,
          0.6947368421052631,
          0.7210526315789474,
          0.7473684210526315,
          0.7736842105263158,
          0.8
         ],
         "xaxis": "x",
         "y": [
          1,
          0.9873417721518988,
          0.9873417721518988,
          0.9873417721518988,
          0.9873417721518988,
          0.9873417721518988,
          0.9873417721518988,
          0.9873417721518988,
          0.9873417721518988,
          0.9746835443037974,
          0.9746835443037974,
          0.9746835443037974,
          0.9620253164556962,
          0.9493670886075949,
          0.9493670886075949,
          0.9367088607594937,
          0.9240506329113924,
          0.9113924050632911,
          0.8987341772151899,
          0.8734177215189873
         ],
         "yaxis": "y"
        },
        {
         "legendgroup": "precision",
         "line": {
          "color": "#EF553B",
          "dash": "solid"
         },
         "marker": {
          "symbol": "circle"
         },
         "mode": "markers+lines",
         "name": "precision",
         "orientation": "v",
         "showlegend": true,
         "type": "scatter",
         "x": [
          0.3,
          0.3263157894736842,
          0.3526315789473684,
          0.3789473684210526,
          0.4052631578947368,
          0.43157894736842106,
          0.45789473684210524,
          0.4842105263157894,
          0.5105263157894737,
          0.5368421052631579,
          0.5631578947368421,
          0.5894736842105264,
          0.6157894736842104,
          0.6421052631578947,
          0.6684210526315789,
          0.6947368421052631,
          0.7210526315789474,
          0.7473684210526315,
          0.7736842105263158,
          0.8
         ],
         "xaxis": "x",
         "y": [
          0.8586956521739131,
          0.8571428571428571,
          0.8666666666666667,
          0.8666666666666667,
          0.8666666666666667,
          0.8764044943820225,
          0.8863636363636364,
          0.8863636363636364,
          0.8863636363636364,
          0.8953488372093024,
          0.9058823529411765,
          0.9166666666666666,
          0.926829268292683,
          0.9259259259259259,
          0.9259259259259259,
          0.9367088607594937,
          0.948051948051948,
          0.96,
          0.9594594594594594,
          0.9583333333333334
         ],
         "yaxis": "y"
        },
        {
         "legendgroup": "auc",
         "line": {
          "color": "#00cc96",
          "dash": "solid"
         },
         "marker": {
          "symbol": "circle"
         },
         "mode": "markers+lines",
         "name": "auc",
         "orientation": "v",
         "showlegend": true,
         "type": "scatter",
         "x": [
          0.3,
          0.3263157894736842,
          0.3526315789473684,
          0.3789473684210526,
          0.4052631578947368,
          0.43157894736842106,
          0.45789473684210524,
          0.4842105263157894,
          0.5105263157894737,
          0.5368421052631579,
          0.5631578947368421,
          0.5894736842105264,
          0.6157894736842104,
          0.6421052631578947,
          0.6684210526315789,
          0.6947368421052631,
          0.7210526315789474,
          0.7473684210526315,
          0.7736842105263158,
          0.8
         ],
         "xaxis": "x",
         "y": [
          0.8951612903225806,
          0.88883217639853,
          0.8968966925275622,
          0.8968966925275622,
          0.8968966925275622,
          0.9049612086565945,
          0.9130257247856268,
          0.9130257247856268,
          0.9130257247856268,
          0.9147611269906083,
          0.9228256431196405,
          0.9308901592486729,
          0.9326255614536545,
          0.9262964475296038,
          0.9262964475296038,
          0.9280318497345855,
          0.9297672519395672,
          0.9315026541445488,
          0.9251735402204981,
          0.9125153123723969
         ],
         "yaxis": "y"
        },
        {
         "legendgroup": "accuracy",
         "line": {
          "color": "#ab63fa",
          "dash": "solid"
         },
         "marker": {
          "symbol": "circle"
         },
         "mode": "markers+lines",
         "name": "accuracy",
         "orientation": "v",
         "showlegend": true,
         "type": "scatter",
         "x": [
          0.3,
          0.3263157894736842,
          0.3526315789473684,
          0.3789473684210526,
          0.4052631578947368,
          0.43157894736842106,
          0.45789473684210524,
          0.4842105263157894,
          0.5105263157894737,
          0.5368421052631579,
          0.5631578947368421,
          0.5894736842105264,
          0.6157894736842104,
          0.6421052631578947,
          0.6684210526315789,
          0.6947368421052631,
          0.7210526315789474,
          0.7473684210526315,
          0.7736842105263158,
          0.8
         ],
         "xaxis": "x",
         "y": [
          0.9078014184397163,
          0.900709219858156,
          0.9078014184397163,
          0.9078014184397163,
          0.9078014184397163,
          0.9148936170212766,
          0.9219858156028369,
          0.9219858156028369,
          0.9219858156028369,
          0.9219858156028369,
          0.9290780141843972,
          0.9361702127659575,
          0.9361702127659575,
          0.9290780141843972,
          0.9290780141843972,
          0.9290780141843972,
          0.9290780141843972,
          0.9290780141843972,
          0.9219858156028369,
          0.9078014184397163
         ],
         "yaxis": "y"
        }
       ],
       "layout": {
        "annotations": [
         {
          "bgcolor": "olivedrab",
          "showarrow": false,
          "text": "best recall",
          "x": 0.58,
          "xanchor": "right",
          "xref": "x",
          "y": 0.95,
          "yanchor": "top",
          "yref": "y domain"
         },
         {
          "bgcolor": "lightcoral",
          "showarrow": false,
          "text": "best auc",
          "x": 0.68,
          "xanchor": "right",
          "xref": "x",
          "y": 0.87,
          "yanchor": "top",
          "yref": "y domain"
         }
        ],
        "height": 400,
        "hovermode": "x unified",
        "legend": {
         "font": {
          "size": 15
         },
         "title": {
          "text": "variable"
         },
         "tracegroupgap": 0
        },
        "margin": {
         "b": 10,
         "l": 10,
         "r": 0,
         "t": 60
        },
        "paper_bgcolor": "lightsteelblue",
        "shapes": [
         {
          "fillcolor": "olivedrab",
          "line": {
           "width": 0
          },
          "opacity": 0.2,
          "type": "rect",
          "x0": 0.3,
          "x1": 0.59,
          "xref": "x",
          "y0": 0,
          "y1": 1,
          "yref": "y domain"
         },
         {
          "fillcolor": "salmon",
          "line": {
           "width": 0
          },
          "opacity": 0.2,
          "type": "rect",
          "x0": 0.589,
          "x1": 0.615,
          "xref": "x",
          "y0": 0,
          "y1": 1,
          "yref": "y domain"
         }
        ],
        "template": {
         "data": {
          "bar": [
           {
            "error_x": {
             "color": "#2a3f5f"
            },
            "error_y": {
             "color": "#2a3f5f"
            },
            "marker": {
             "line": {
              "color": "#E5ECF6",
              "width": 0.5
             },
             "pattern": {
              "fillmode": "overlay",
              "size": 10,
              "solidity": 0.2
             }
            },
            "type": "bar"
           }
          ],
          "barpolar": [
           {
            "marker": {
             "line": {
              "color": "#E5ECF6",
              "width": 0.5
             },
             "pattern": {
              "fillmode": "overlay",
              "size": 10,
              "solidity": 0.2
             }
            },
            "type": "barpolar"
           }
          ],
          "carpet": [
           {
            "aaxis": {
             "endlinecolor": "#2a3f5f",
             "gridcolor": "white",
             "linecolor": "white",
             "minorgridcolor": "white",
             "startlinecolor": "#2a3f5f"
            },
            "baxis": {
             "endlinecolor": "#2a3f5f",
             "gridcolor": "white",
             "linecolor": "white",
             "minorgridcolor": "white",
             "startlinecolor": "#2a3f5f"
            },
            "type": "carpet"
           }
          ],
          "choropleth": [
           {
            "colorbar": {
             "outlinewidth": 0,
             "ticks": ""
            },
            "type": "choropleth"
           }
          ],
          "contour": [
           {
            "colorbar": {
             "outlinewidth": 0,
             "ticks": ""
            },
            "colorscale": [
             [
              0,
              "#0d0887"
             ],
             [
              0.1111111111111111,
              "#46039f"
             ],
             [
              0.2222222222222222,
              "#7201a8"
             ],
             [
              0.3333333333333333,
              "#9c179e"
             ],
             [
              0.4444444444444444,
              "#bd3786"
             ],
             [
              0.5555555555555556,
              "#d8576b"
             ],
             [
              0.6666666666666666,
              "#ed7953"
             ],
             [
              0.7777777777777778,
              "#fb9f3a"
             ],
             [
              0.8888888888888888,
              "#fdca26"
             ],
             [
              1,
              "#f0f921"
             ]
            ],
            "type": "contour"
           }
          ],
          "contourcarpet": [
           {
            "colorbar": {
             "outlinewidth": 0,
             "ticks": ""
            },
            "type": "contourcarpet"
           }
          ],
          "heatmap": [
           {
            "colorbar": {
             "outlinewidth": 0,
             "ticks": ""
            },
            "colorscale": [
             [
              0,
              "#0d0887"
             ],
             [
              0.1111111111111111,
              "#46039f"
             ],
             [
              0.2222222222222222,
              "#7201a8"
             ],
             [
              0.3333333333333333,
              "#9c179e"
             ],
             [
              0.4444444444444444,
              "#bd3786"
             ],
             [
              0.5555555555555556,
              "#d8576b"
             ],
             [
              0.6666666666666666,
              "#ed7953"
             ],
             [
              0.7777777777777778,
              "#fb9f3a"
             ],
             [
              0.8888888888888888,
              "#fdca26"
             ],
             [
              1,
              "#f0f921"
             ]
            ],
            "type": "heatmap"
           }
          ],
          "heatmapgl": [
           {
            "colorbar": {
             "outlinewidth": 0,
             "ticks": ""
            },
            "colorscale": [
             [
              0,
              "#0d0887"
             ],
             [
              0.1111111111111111,
              "#46039f"
             ],
             [
              0.2222222222222222,
              "#7201a8"
             ],
             [
              0.3333333333333333,
              "#9c179e"
             ],
             [
              0.4444444444444444,
              "#bd3786"
             ],
             [
              0.5555555555555556,
              "#d8576b"
             ],
             [
              0.6666666666666666,
              "#ed7953"
             ],
             [
              0.7777777777777778,
              "#fb9f3a"
             ],
             [
              0.8888888888888888,
              "#fdca26"
             ],
             [
              1,
              "#f0f921"
             ]
            ],
            "type": "heatmapgl"
           }
          ],
          "histogram": [
           {
            "marker": {
             "pattern": {
              "fillmode": "overlay",
              "size": 10,
              "solidity": 0.2
             }
            },
            "type": "histogram"
           }
          ],
          "histogram2d": [
           {
            "colorbar": {
             "outlinewidth": 0,
             "ticks": ""
            },
            "colorscale": [
             [
              0,
              "#0d0887"
             ],
             [
              0.1111111111111111,
              "#46039f"
             ],
             [
              0.2222222222222222,
              "#7201a8"
             ],
             [
              0.3333333333333333,
              "#9c179e"
             ],
             [
              0.4444444444444444,
              "#bd3786"
             ],
             [
              0.5555555555555556,
              "#d8576b"
             ],
             [
              0.6666666666666666,
              "#ed7953"
             ],
             [
              0.7777777777777778,
              "#fb9f3a"
             ],
             [
              0.8888888888888888,
              "#fdca26"
             ],
             [
              1,
              "#f0f921"
             ]
            ],
            "type": "histogram2d"
           }
          ],
          "histogram2dcontour": [
           {
            "colorbar": {
             "outlinewidth": 0,
             "ticks": ""
            },
            "colorscale": [
             [
              0,
              "#0d0887"
             ],
             [
              0.1111111111111111,
              "#46039f"
             ],
             [
              0.2222222222222222,
              "#7201a8"
             ],
             [
              0.3333333333333333,
              "#9c179e"
             ],
             [
              0.4444444444444444,
              "#bd3786"
             ],
             [
              0.5555555555555556,
              "#d8576b"
             ],
             [
              0.6666666666666666,
              "#ed7953"
             ],
             [
              0.7777777777777778,
              "#fb9f3a"
             ],
             [
              0.8888888888888888,
              "#fdca26"
             ],
             [
              1,
              "#f0f921"
             ]
            ],
            "type": "histogram2dcontour"
           }
          ],
          "mesh3d": [
           {
            "colorbar": {
             "outlinewidth": 0,
             "ticks": ""
            },
            "type": "mesh3d"
           }
          ],
          "parcoords": [
           {
            "line": {
             "colorbar": {
              "outlinewidth": 0,
              "ticks": ""
             }
            },
            "type": "parcoords"
           }
          ],
          "pie": [
           {
            "automargin": true,
            "type": "pie"
           }
          ],
          "scatter": [
           {
            "marker": {
             "colorbar": {
              "outlinewidth": 0,
              "ticks": ""
             }
            },
            "type": "scatter"
           }
          ],
          "scatter3d": [
           {
            "line": {
             "colorbar": {
              "outlinewidth": 0,
              "ticks": ""
             }
            },
            "marker": {
             "colorbar": {
              "outlinewidth": 0,
              "ticks": ""
             }
            },
            "type": "scatter3d"
           }
          ],
          "scattercarpet": [
           {
            "marker": {
             "colorbar": {
              "outlinewidth": 0,
              "ticks": ""
             }
            },
            "type": "scattercarpet"
           }
          ],
          "scattergeo": [
           {
            "marker": {
             "colorbar": {
              "outlinewidth": 0,
              "ticks": ""
             }
            },
            "type": "scattergeo"
           }
          ],
          "scattergl": [
           {
            "marker": {
             "colorbar": {
              "outlinewidth": 0,
              "ticks": ""
             }
            },
            "type": "scattergl"
           }
          ],
          "scattermapbox": [
           {
            "marker": {
             "colorbar": {
              "outlinewidth": 0,
              "ticks": ""
             }
            },
            "type": "scattermapbox"
           }
          ],
          "scatterpolar": [
           {
            "marker": {
             "colorbar": {
              "outlinewidth": 0,
              "ticks": ""
             }
            },
            "type": "scatterpolar"
           }
          ],
          "scatterpolargl": [
           {
            "marker": {
             "colorbar": {
              "outlinewidth": 0,
              "ticks": ""
             }
            },
            "type": "scatterpolargl"
           }
          ],
          "scatterternary": [
           {
            "marker": {
             "colorbar": {
              "outlinewidth": 0,
              "ticks": ""
             }
            },
            "type": "scatterternary"
           }
          ],
          "surface": [
           {
            "colorbar": {
             "outlinewidth": 0,
             "ticks": ""
            },
            "colorscale": [
             [
              0,
              "#0d0887"
             ],
             [
              0.1111111111111111,
              "#46039f"
             ],
             [
              0.2222222222222222,
              "#7201a8"
             ],
             [
              0.3333333333333333,
              "#9c179e"
             ],
             [
              0.4444444444444444,
              "#bd3786"
             ],
             [
              0.5555555555555556,
              "#d8576b"
             ],
             [
              0.6666666666666666,
              "#ed7953"
             ],
             [
              0.7777777777777778,
              "#fb9f3a"
             ],
             [
              0.8888888888888888,
              "#fdca26"
             ],
             [
              1,
              "#f0f921"
             ]
            ],
            "type": "surface"
           }
          ],
          "table": [
           {
            "cells": {
             "fill": {
              "color": "#EBF0F8"
             },
             "line": {
              "color": "white"
             }
            },
            "header": {
             "fill": {
              "color": "#C8D4E3"
             },
             "line": {
              "color": "white"
             }
            },
            "type": "table"
           }
          ]
         },
         "layout": {
          "annotationdefaults": {
           "arrowcolor": "#2a3f5f",
           "arrowhead": 0,
           "arrowwidth": 1
          },
          "autotypenumbers": "strict",
          "coloraxis": {
           "colorbar": {
            "outlinewidth": 0,
            "ticks": ""
           }
          },
          "colorscale": {
           "diverging": [
            [
             0,
             "#8e0152"
            ],
            [
             0.1,
             "#c51b7d"
            ],
            [
             0.2,
             "#de77ae"
            ],
            [
             0.3,
             "#f1b6da"
            ],
            [
             0.4,
             "#fde0ef"
            ],
            [
             0.5,
             "#f7f7f7"
            ],
            [
             0.6,
             "#e6f5d0"
            ],
            [
             0.7,
             "#b8e186"
            ],
            [
             0.8,
             "#7fbc41"
            ],
            [
             0.9,
             "#4d9221"
            ],
            [
             1,
             "#276419"
            ]
           ],
           "sequential": [
            [
             0,
             "#0d0887"
            ],
            [
             0.1111111111111111,
             "#46039f"
            ],
            [
             0.2222222222222222,
             "#7201a8"
            ],
            [
             0.3333333333333333,
             "#9c179e"
            ],
            [
             0.4444444444444444,
             "#bd3786"
            ],
            [
             0.5555555555555556,
             "#d8576b"
            ],
            [
             0.6666666666666666,
             "#ed7953"
            ],
            [
             0.7777777777777778,
             "#fb9f3a"
            ],
            [
             0.8888888888888888,
             "#fdca26"
            ],
            [
             1,
             "#f0f921"
            ]
           ],
           "sequentialminus": [
            [
             0,
             "#0d0887"
            ],
            [
             0.1111111111111111,
             "#46039f"
            ],
            [
             0.2222222222222222,
             "#7201a8"
            ],
            [
             0.3333333333333333,
             "#9c179e"
            ],
            [
             0.4444444444444444,
             "#bd3786"
            ],
            [
             0.5555555555555556,
             "#d8576b"
            ],
            [
             0.6666666666666666,
             "#ed7953"
            ],
            [
             0.7777777777777778,
             "#fb9f3a"
            ],
            [
             0.8888888888888888,
             "#fdca26"
            ],
            [
             1,
             "#f0f921"
            ]
           ]
          },
          "colorway": [
           "#636efa",
           "#EF553B",
           "#00cc96",
           "#ab63fa",
           "#FFA15A",
           "#19d3f3",
           "#FF6692",
           "#B6E880",
           "#FF97FF",
           "#FECB52"
          ],
          "font": {
           "color": "#2a3f5f"
          },
          "geo": {
           "bgcolor": "white",
           "lakecolor": "white",
           "landcolor": "#E5ECF6",
           "showlakes": true,
           "showland": true,
           "subunitcolor": "white"
          },
          "hoverlabel": {
           "align": "left"
          },
          "hovermode": "closest",
          "mapbox": {
           "style": "light"
          },
          "paper_bgcolor": "white",
          "plot_bgcolor": "#E5ECF6",
          "polar": {
           "angularaxis": {
            "gridcolor": "white",
            "linecolor": "white",
            "ticks": ""
           },
           "bgcolor": "#E5ECF6",
           "radialaxis": {
            "gridcolor": "white",
            "linecolor": "white",
            "ticks": ""
           }
          },
          "scene": {
           "xaxis": {
            "backgroundcolor": "#E5ECF6",
            "gridcolor": "white",
            "gridwidth": 2,
            "linecolor": "white",
            "showbackground": true,
            "ticks": "",
            "zerolinecolor": "white"
           },
           "yaxis": {
            "backgroundcolor": "#E5ECF6",
            "gridcolor": "white",
            "gridwidth": 2,
            "linecolor": "white",
            "showbackground": true,
            "ticks": "",
            "zerolinecolor": "white"
           },
           "zaxis": {
            "backgroundcolor": "#E5ECF6",
            "gridcolor": "white",
            "gridwidth": 2,
            "linecolor": "white",
            "showbackground": true,
            "ticks": "",
            "zerolinecolor": "white"
           }
          },
          "shapedefaults": {
           "line": {
            "color": "#2a3f5f"
           }
          },
          "ternary": {
           "aaxis": {
            "gridcolor": "white",
            "linecolor": "white",
            "ticks": ""
           },
           "baxis": {
            "gridcolor": "white",
            "linecolor": "white",
            "ticks": ""
           },
           "bgcolor": "#E5ECF6",
           "caxis": {
            "gridcolor": "white",
            "linecolor": "white",
            "ticks": ""
           }
          },
          "title": {
           "x": 0.05
          },
          "xaxis": {
           "automargin": true,
           "gridcolor": "white",
           "linecolor": "white",
           "ticks": "",
           "title": {
            "standoff": 15
           },
           "zerolinecolor": "white",
           "zerolinewidth": 2
          },
          "yaxis": {
           "automargin": true,
           "gridcolor": "white",
           "linecolor": "white",
           "ticks": "",
           "title": {
            "standoff": 15
           },
           "zerolinecolor": "white",
           "zerolinewidth": 2
          }
         }
        },
        "title": {
         "font": {
          "size": 15
         },
         "text": "Model Performance Metrics at different Thresholds for Classification",
         "x": 0.45,
         "y": 0.92
        },
        "width": 600,
        "xaxis": {
         "anchor": "y",
         "autorange": true,
         "domain": [
          0,
          1
         ],
         "range": [
          0.2664303586321935,
          0.8335696413678065
         ],
         "tickfont": {
          "size": 15
         },
         "ticks": "outside",
         "title": {
          "font": {
           "size": 18
          },
          "text": "Threshold value for Perdicted Probability"
         },
         "type": "linear"
        },
        "yaxis": {
         "anchor": "x",
         "autorange": true,
         "domain": [
          0,
          1
         ],
         "range": [
          0.846815834767642,
          1.0103270223752152
         ],
         "tickfont": {
          "size": 15
         },
         "ticks": "outside",
         "title": {
          "font": {
           "size": 18
          },
          "text": "Metric Value"
         },
         "type": "linear"
        }
       }
      },
      "image/png": "[encoded data removed]",
      "text/html": [
       "<div>                            <div id=\"8917c8c2-4f45-4fd7-8c17-8f68a3d29083\" class=\"plotly-graph-div\" style=\"height:400px; width:600px;\"></div>            <script type=\"text/javascript\">                require([\"plotly\"], function(Plotly) {                    window.PLOTLYENV=window.PLOTLYENV || {};                                    if (document.getElementById(\"8917c8c2-4f45-4fd7-8c17-8f68a3d29083\")) {                    Plotly.newPlot(                        \"8917c8c2-4f45-4fd7-8c17-8f68a3d29083\",                        [{\"legendgroup\":\"recall\",\"line\":{\"color\":\"#636efa\",\"dash\":\"solid\"},\"marker\":{\"symbol\":\"circle\"},\"mode\":\"markers+lines\",\"name\":\"recall\",\"orientation\":\"v\",\"showlegend\":true,\"x\":[0.3,0.3263157894736842,0.3526315789473684,0.3789473684210526,0.4052631578947368,0.43157894736842106,0.45789473684210524,0.4842105263157894,0.5105263157894737,0.5368421052631579,0.5631578947368421,0.5894736842105264,0.6157894736842104,0.6421052631578947,0.6684210526315789,0.6947368421052631,0.7210526315789474,0.7473684210526315,0.7736842105263158,0.8],\"xaxis\":\"x\",\"y\":[1.0,0.9873417721518988,0.9873417721518988,0.9873417721518988,0.9873417721518988,0.9873417721518988,0.9873417721518988,0.9873417721518988,0.9873417721518988,0.9746835443037974,0.9746835443037974,0.9746835443037974,0.9620253164556962,0.9493670886075949,0.9493670886075949,0.9367088607594937,0.9240506329113924,0.9113924050632911,0.8987341772151899,0.8734177215189873],\"yaxis\":\"y\",\"type\":\"scatter\"},{\"legendgroup\":\"precision\",\"line\":{\"color\":\"#EF553B\",\"dash\":\"solid\"},\"marker\":{\"symbol\":\"circle\"},\"mode\":\"markers+lines\",\"name\":\"precision\",\"orientation\":\"v\",\"showlegend\":true,\"x\":[0.3,0.3263157894736842,0.3526315789473684,0.3789473684210526,0.4052631578947368,0.43157894736842106,0.45789473684210524,0.4842105263157894,0.5105263157894737,0.5368421052631579,0.5631578947368421,0.5894736842105264,0.6157894736842104,0.6421052631578947,0.6684210526315789,0.6947368421052631,0.7210526315789474,0.7473684210526315,0.7736842105263158,0.8],\"xaxis\":\"x\",\"y\":[0.8586956521739131,0.8571428571428571,0.8666666666666667,0.8666666666666667,0.8666666666666667,0.8764044943820225,0.8863636363636364,0.8863636363636364,0.8863636363636364,0.8953488372093024,0.9058823529411765,0.9166666666666666,0.926829268292683,0.9259259259259259,0.9259259259259259,0.9367088607594937,0.948051948051948,0.96,0.9594594594594594,0.9583333333333334],\"yaxis\":\"y\",\"type\":\"scatter\"},{\"legendgroup\":\"auc\",\"line\":{\"color\":\"#00cc96\",\"dash\":\"solid\"},\"marker\":{\"symbol\":\"circle\"},\"mode\":\"markers+lines\",\"name\":\"auc\",\"orientation\":\"v\",\"showlegend\":true,\"x\":[0.3,0.3263157894736842,0.3526315789473684,0.3789473684210526,0.4052631578947368,0.43157894736842106,0.45789473684210524,0.4842105263157894,0.5105263157894737,0.5368421052631579,0.5631578947368421,0.5894736842105264,0.6157894736842104,0.6421052631578947,0.6684210526315789,0.6947368421052631,0.7210526315789474,0.7473684210526315,0.7736842105263158,0.8],\"xaxis\":\"x\",\"y\":[0.8951612903225806,0.88883217639853,0.8968966925275622,0.8968966925275622,0.8968966925275622,0.9049612086565945,0.9130257247856268,0.9130257247856268,0.9130257247856268,0.9147611269906083,0.9228256431196405,0.9308901592486729,0.9326255614536545,0.9262964475296038,0.9262964475296038,0.9280318497345855,0.9297672519395672,0.9315026541445488,0.9251735402204981,0.9125153123723969],\"yaxis\":\"y\",\"type\":\"scatter\"},{\"legendgroup\":\"accuracy\",\"line\":{\"color\":\"#ab63fa\",\"dash\":\"solid\"},\"marker\":{\"symbol\":\"circle\"},\"mode\":\"markers+lines\",\"name\":\"accuracy\",\"orientation\":\"v\",\"showlegend\":true,\"x\":[0.3,0.3263157894736842,0.3526315789473684,0.3789473684210526,0.4052631578947368,0.43157894736842106,0.45789473684210524,0.4842105263157894,0.5105263157894737,0.5368421052631579,0.5631578947368421,0.5894736842105264,0.6157894736842104,0.6421052631578947,0.6684210526315789,0.6947368421052631,0.7210526315789474,0.7473684210526315,0.7736842105263158,0.8],\"xaxis\":\"x\",\"y\":[0.9078014184397163,0.900709219858156,0.9078014184397163,0.9078014184397163,0.9078014184397163,0.9148936170212766,0.9219858156028369,0.9219858156028369,0.9219858156028369,0.9219858156028369,0.9290780141843972,0.9361702127659575,0.9361702127659575,0.9290780141843972,0.9290780141843972,0.9290780141843972,0.9290780141843972,0.9290780141843972,0.9219858156028369,0.9078014184397163],\"yaxis\":\"y\",\"type\":\"scatter\"}],                        {\"template\":{\"data\":{\"bar\":[{\"error_x\":{\"color\":\"#2a3f5f\"},\"error_y\":{\"color\":\"#2a3f5f\"},\"marker\":{\"line\":{\"color\":\"#E5ECF6\",\"width\":0.5},\"pattern\":{\"fillmode\":\"overlay\",\"size\":10,\"solidity\":0.2}},\"type\":\"bar\"}],\"barpolar\":[{\"marker\":{\"line\":{\"color\":\"#E5ECF6\",\"width\":0.5},\"pattern\":{\"fillmode\":\"overlay\",\"size\":10,\"solidity\":0.2}},\"type\":\"barpolar\"}],\"carpet\":[{\"aaxis\":{\"endlinecolor\":\"#2a3f5f\",\"gridcolor\":\"white\",\"linecolor\":\"white\",\"minorgridcolor\":\"white\",\"startlinecolor\":\"#2a3f5f\"},\"baxis\":{\"endlinecolor\":\"#2a3f5f\",\"gridcolor\":\"white\",\"linecolor\":\"white\",\"minorgridcolor\":\"white\",\"startlinecolor\":\"#2a3f5f\"},\"type\":\"carpet\"}],\"choropleth\":[{\"colorbar\":{\"outlinewidth\":0,\"ticks\":\"\"},\"type\":\"choropleth\"}],\"contour\":[{\"colorbar\":{\"outlinewidth\":0,\"ticks\":\"\"},\"colorscale\":[[0.0,\"#0d0887\"],[0.1111111111111111,\"#46039f\"],[0.2222222222222222,\"#7201a8\"],[0.3333333333333333,\"#9c179e\"],[0.4444444444444444,\"#bd3786\"],[0.5555555555555556,\"#d8576b\"],[0.6666666666666666,\"#ed7953\"],[0.7777777777777778,\"#fb9f3a\"],[0.8888888888888888,\"#fdca26\"],[1.0,\"#f0f921\"]],\"type\":\"contour\"}],\"contourcarpet\":[{\"colorbar\":{\"outlinewidth\":0,\"ticks\":\"\"},\"type\":\"contourcarpet\"}],\"heatmap\":[{\"colorbar\":{\"outlinewidth\":0,\"ticks\":\"\"},\"colorscale\":[[0.0,\"#0d0887\"],[0.1111111111111111,\"#46039f\"],[0.2222222222222222,\"#7201a8\"],[0.3333333333333333,\"#9c179e\"],[0.4444444444444444,\"#bd3786\"],[0.5555555555555556,\"#d8576b\"],[0.6666666666666666,\"#ed7953\"],[0.7777777777777778,\"#fb9f3a\"],[0.8888888888888888,\"#fdca26\"],[1.0,\"#f0f921\"]],\"type\":\"heatmap\"}],\"heatmapgl\":[{\"colorbar\":{\"outlinewidth\":0,\"ticks\":\"\"},\"colorscale\":[[0.0,\"#0d0887\"],[0.1111111111111111,\"#46039f\"],[0.2222222222222222,\"#7201a8\"],[0.3333333333333333,\"#9c179e\"],[0.4444444444444444,\"#bd3786\"],[0.5555555555555556,\"#d8576b\"],[0.6666666666666666,\"#ed7953\"],[0.7777777777777778,\"#fb9f3a\"],[0.8888888888888888,\"#fdca26\"],[1.0,\"#f0f921\"]],\"type\":\"heatmapgl\"}],\"histogram\":[{\"marker\":{\"pattern\":{\"fillmode\":\"overlay\",\"size\":10,\"solidity\":0.2}},\"type\":\"histogram\"}],\"histogram2d\":[{\"colorbar\":{\"outlinewidth\":0,\"ticks\":\"\"},\"colorscale\":[[0.0,\"#0d0887\"],[0.1111111111111111,\"#46039f\"],[0.2222222222222222,\"#7201a8\"],[0.3333333333333333,\"#9c179e\"],[0.4444444444444444,\"#bd3786\"],[0.5555555555555556,\"#d8576b\"],[0.6666666666666666,\"#ed7953\"],[0.7777777777777778,\"#fb9f3a\"],[0.8888888888888888,\"#fdca26\"],[1.0,\"#f0f921\"]],\"type\":\"histogram2d\"}],\"histogram2dcontour\":[{\"colorbar\":{\"outlinewidth\":0,\"ticks\":\"\"},\"colorscale\":[[0.0,\"#0d0887\"],[0.1111111111111111,\"#46039f\"],[0.2222222222222222,\"#7201a8\"],[0.3333333333333333,\"#9c179e\"],[0.4444444444444444,\"#bd3786\"],[0.5555555555555556,\"#d8576b\"],[0.6666666666666666,\"#ed7953\"],[0.7777777777777778,\"#fb9f3a\"],[0.8888888888888888,\"#fdca26\"],[1.0,\"#f0f921\"]],\"type\":\"histogram2dcontour\"}],\"mesh3d\":[{\"colorbar\":{\"outlinewidth\":0,\"ticks\":\"\"},\"type\":\"mesh3d\"}],\"parcoords\":[{\"line\":{\"colorbar\":{\"outlinewidth\":0,\"ticks\":\"\"}},\"type\":\"parcoords\"}],\"pie\":[{\"automargin\":true,\"type\":\"pie\"}],\"scatter\":[{\"marker\":{\"colorbar\":{\"outlinewidth\":0,\"ticks\":\"\"}},\"type\":\"scatter\"}],\"scatter3d\":[{\"line\":{\"colorbar\":{\"outlinewidth\":0,\"ticks\":\"\"}},\"marker\":{\"colorbar\":{\"outlinewidth\":0,\"ticks\":\"\"}},\"type\":\"scatter3d\"}],\"scattercarpet\":[{\"marker\":{\"colorbar\":{\"outlinewidth\":0,\"ticks\":\"\"}},\"type\":\"scattercarpet\"}],\"scattergeo\":[{\"marker\":{\"colorbar\":{\"outlinewidth\":0,\"ticks\":\"\"}},\"type\":\"scattergeo\"}],\"scattergl\":[{\"marker\":{\"colorbar\":{\"outlinewidth\":0,\"ticks\":\"\"}},\"type\":\"scattergl\"}],\"scattermapbox\":[{\"marker\":{\"colorbar\":{\"outlinewidth\":0,\"ticks\":\"\"}},\"type\":\"scattermapbox\"}],\"scatterpolar\":[{\"marker\":{\"colorbar\":{\"outlinewidth\":0,\"ticks\":\"\"}},\"type\":\"scatterpolar\"}],\"scatterpolargl\":[{\"marker\":{\"colorbar\":{\"outlinewidth\":0,\"ticks\":\"\"}},\"type\":\"scatterpolargl\"}],\"scatterternary\":[{\"marker\":{\"colorbar\":{\"outlinewidth\":0,\"ticks\":\"\"}},\"type\":\"scatterternary\"}],\"surface\":[{\"colorbar\":{\"outlinewidth\":0,\"ticks\":\"\"},\"colorscale\":[[0.0,\"#0d0887\"],[0.1111111111111111,\"#46039f\"],[0.2222222222222222,\"#7201a8\"],[0.3333333333333333,\"#9c179e\"],[0.4444444444444444,\"#bd3786\"],[0.5555555555555556,\"#d8576b\"],[0.6666666666666666,\"#ed7953\"],[0.7777777777777778,\"#fb9f3a\"],[0.8888888888888888,\"#fdca26\"],[1.0,\"#f0f921\"]],\"type\":\"surface\"}],\"table\":[{\"cells\":{\"fill\":{\"color\":\"#EBF0F8\"},\"line\":{\"color\":\"white\"}},\"header\":{\"fill\":{\"color\":\"#C8D4E3\"},\"line\":{\"color\":\"white\"}},\"type\":\"table\"}]},\"layout\":{\"annotationdefaults\":{\"arrowcolor\":\"#2a3f5f\",\"arrowhead\":0,\"arrowwidth\":1},\"autotypenumbers\":\"strict\",\"coloraxis\":{\"colorbar\":{\"outlinewidth\":0,\"ticks\":\"\"}},\"colorscale\":{\"diverging\":[[0,\"#8e0152\"],[0.1,\"#c51b7d\"],[0.2,\"#de77ae\"],[0.3,\"#f1b6da\"],[0.4,\"#fde0ef\"],[0.5,\"#f7f7f7\"],[0.6,\"#e6f5d0\"],[0.7,\"#b8e186\"],[0.8,\"#7fbc41\"],[0.9,\"#4d9221\"],[1,\"#276419\"]],\"sequential\":[[0.0,\"#0d0887\"],[0.1111111111111111,\"#46039f\"],[0.2222222222222222,\"#7201a8\"],[0.3333333333333333,\"#9c179e\"],[0.4444444444444444,\"#bd3786\"],[0.5555555555555556,\"#d8576b\"],[0.6666666666666666,\"#ed7953\"],[0.7777777777777778,\"#fb9f3a\"],[0.8888888888888888,\"#fdca26\"],[1.0,\"#f0f921\"]],\"sequentialminus\":[[0.0,\"#0d0887\"],[0.1111111111111111,\"#46039f\"],[0.2222222222222222,\"#7201a8\"],[0.3333333333333333,\"#9c179e\"],[0.4444444444444444,\"#bd3786\"],[0.5555555555555556,\"#d8576b\"],[0.6666666666666666,\"#ed7953\"],[0.7777777777777778,\"#fb9f3a\"],[0.8888888888888888,\"#fdca26\"],[1.0,\"#f0f921\"]]},\"colorway\":[\"#636efa\",\"#EF553B\",\"#00cc96\",\"#ab63fa\",\"#FFA15A\",\"#19d3f3\",\"#FF6692\",\"#B6E880\",\"#FF97FF\",\"#FECB52\"],\"font\":{\"color\":\"#2a3f5f\"},\"geo\":{\"bgcolor\":\"white\",\"lakecolor\":\"white\",\"landcolor\":\"#E5ECF6\",\"showlakes\":true,\"showland\":true,\"subunitcolor\":\"white\"},\"hoverlabel\":{\"align\":\"left\"},\"hovermode\":\"closest\",\"mapbox\":{\"style\":\"light\"},\"paper_bgcolor\":\"white\",\"plot_bgcolor\":\"#E5ECF6\",\"polar\":{\"angularaxis\":{\"gridcolor\":\"white\",\"linecolor\":\"white\",\"ticks\":\"\"},\"bgcolor\":\"#E5ECF6\",\"radialaxis\":{\"gridcolor\":\"white\",\"linecolor\":\"white\",\"ticks\":\"\"}},\"scene\":{\"xaxis\":{\"backgroundcolor\":\"#E5ECF6\",\"gridcolor\":\"white\",\"gridwidth\":2,\"linecolor\":\"white\",\"showbackground\":true,\"ticks\":\"\",\"zerolinecolor\":\"white\"},\"yaxis\":{\"backgroundcolor\":\"#E5ECF6\",\"gridcolor\":\"white\",\"gridwidth\":2,\"linecolor\":\"white\",\"showbackground\":true,\"ticks\":\"\",\"zerolinecolor\":\"white\"},\"zaxis\":{\"backgroundcolor\":\"#E5ECF6\",\"gridcolor\":\"white\",\"gridwidth\":2,\"linecolor\":\"white\",\"showbackground\":true,\"ticks\":\"\",\"zerolinecolor\":\"white\"}},\"shapedefaults\":{\"line\":{\"color\":\"#2a3f5f\"}},\"ternary\":{\"aaxis\":{\"gridcolor\":\"white\",\"linecolor\":\"white\",\"ticks\":\"\"},\"baxis\":{\"gridcolor\":\"white\",\"linecolor\":\"white\",\"ticks\":\"\"},\"bgcolor\":\"#E5ECF6\",\"caxis\":{\"gridcolor\":\"white\",\"linecolor\":\"white\",\"ticks\":\"\"}},\"title\":{\"x\":0.05},\"xaxis\":{\"automargin\":true,\"gridcolor\":\"white\",\"linecolor\":\"white\",\"ticks\":\"\",\"title\":{\"standoff\":15},\"zerolinecolor\":\"white\",\"zerolinewidth\":2},\"yaxis\":{\"automargin\":true,\"gridcolor\":\"white\",\"linecolor\":\"white\",\"ticks\":\"\",\"title\":{\"standoff\":15},\"zerolinecolor\":\"white\",\"zerolinewidth\":2}}},\"xaxis\":{\"anchor\":\"y\",\"domain\":[0.0,1.0],\"title\":{\"text\":\"Threshold value for Perdicted Probability\",\"font\":{\"size\":18}},\"tickfont\":{\"size\":15},\"ticks\":\"outside\"},\"yaxis\":{\"anchor\":\"x\",\"domain\":[0.0,1.0],\"title\":{\"text\":\"Metric Value\",\"font\":{\"size\":18}},\"tickfont\":{\"size\":15},\"ticks\":\"outside\"},\"legend\":{\"title\":{\"text\":\"variable\"},\"tracegroupgap\":0,\"font\":{\"size\":15}},\"margin\":{\"t\":60,\"l\":10,\"r\":0,\"b\":10},\"title\":{\"font\":{\"size\":15},\"text\":\"Model Performance Metrics at different Thresholds for Classification\",\"y\":0.92,\"x\":0.45},\"width\":600,\"height\":400,\"paper_bgcolor\":\"lightsteelblue\",\"hovermode\":\"x unified\",\"shapes\":[{\"fillcolor\":\"olivedrab\",\"line\":{\"width\":0},\"opacity\":0.2,\"type\":\"rect\",\"x0\":0.3,\"x1\":0.59,\"xref\":\"x\",\"y0\":0,\"y1\":1,\"yref\":\"y domain\"},{\"fillcolor\":\"salmon\",\"line\":{\"width\":0},\"opacity\":0.2,\"type\":\"rect\",\"x0\":0.589,\"x1\":0.615,\"xref\":\"x\",\"y0\":0,\"y1\":1,\"yref\":\"y domain\"}],\"annotations\":[{\"bgcolor\":\"olivedrab\",\"showarrow\":false,\"text\":\"best recall\",\"x\":0.58,\"xanchor\":\"right\",\"xref\":\"x\",\"y\":0.95,\"yanchor\":\"top\",\"yref\":\"y domain\"},{\"bgcolor\":\"lightcoral\",\"showarrow\":false,\"text\":\"best auc\",\"x\":0.68,\"xanchor\":\"right\",\"xref\":\"x\",\"y\":0.87,\"yanchor\":\"top\",\"yref\":\"y domain\"}]},                        {\"responsive\": true}                    ).then(function(){\n",
       "                            \n",
       "var gd = document.getElementById('8917c8c2-4f45-4fd7-8c17-8f68a3d29083');\n",
       "var x = new MutationObserver(function (mutations, observer) {{\n",
       "        var display = window.getComputedStyle(gd).display;\n",
       "        if (!display || display === 'none') {{\n",
       "            console.log([gd, 'removed!']);\n",
       "            Plotly.purge(gd);\n",
       "            observer.disconnect();\n",
       "        }}\n",
       "}});\n",
       "\n",
       "// Listen for the removal of the full notebook cells\n",
       "var notebookContainer = gd.closest('#notebook-container');\n",
       "if (notebookContainer) {{\n",
       "    x.observe(notebookContainer, {childList: true});\n",
       "}}\n",
       "\n",
       "// Listen for the clearing of the current output cell\n",
       "var outputEl = gd.closest('.output');\n",
       "if (outputEl) {{\n",
       "    x.observe(outputEl, {childList: true});\n",
       "}}\n",
       "\n",
       "                        })                };                });            </script>        </div>"
      ]
     },
     "metadata": {},
     "output_type": "display_data"
    }
   ],
   "source": [
    "# use melt to convert the dataframe with different columns for each metric into a \n",
    "# dataframe with a single column of metric values and a second column of metric labels.\n",
    "# This makes it easy to plot the data in plotly. \n",
    "\n",
    "df = pd.melt(metrics_df, id_vars='threshold', value_vars=metrics_df.columns[:])\n",
    "\n",
    "fig = px.line(df, x='threshold', y='value', color='variable')\n",
    "\n",
    "fig.update_layout(width=600, \n",
    "                  height=400,\n",
    "                  title_text='Model Performance Metrics at different Thresholds for Classification',\n",
    "                  title_y=0.92,\n",
    "                  title_x=0.45,\n",
    "                  margin=dict(l=10, r=0, t=60, b=10),\n",
    "                  paper_bgcolor=\"lightsteelblue\",\n",
    "                  legend=dict(font=dict(size=15)),\n",
    "                  title_font=dict(size=15)\n",
    "                 )\n",
    "\n",
    "# set axes labels\n",
    "fig.update_xaxes(title='Threshold value for Perdicted Probability', title_font_size=18, tickfont_size=15, ticks='outside')\n",
    "fig.update_yaxes(title='Metric Value', title_font_size=18, tickfont_size=15, ticks='outside')\n",
    "\n",
    "fig.update_traces(mode=\"markers+lines\", hovertemplate=None)\n",
    "fig.update_layout(hovermode=\"x unified\")\n",
    "\n",
    "# add retangles\n",
    "fig.add_vrect(x0=0.3, x1=0.59, line_width=0, fillcolor=\"olivedrab\", opacity=0.2, annotation=dict(text='best recall', x=0.58, y=0.95, bgcolor='olivedrab'))\n",
    "fig.add_vrect(x0=0.589, x1=0.615, line_width=0, fillcolor=\"salmon\", opacity=0.2, annotation=dict(text='best auc', x=0.68, y=0.87, bgcolor='lightcoral'))\n",
    "\n",
    "# # add marker at position where two shaded areas overlap \n",
    "# fig.add_vline(x=0.589, line_width=2, line_dash=\"dash\", line_color=\"mediumblue\", annotation=dict(text='best threshold', x=0.55, y=0.3, bgcolor='lightblue'))\n",
    "# # fig.add_scatter(x=[0.589, 0.589], \n",
    "# #                 y=[1, 0.85], \n",
    "# #                 name='best threshold', \n",
    "# #                 marker=dict(size=2, \n",
    "# #                             line=dict(width=2),\n",
    "# #                             color='blue', \n",
    "# #                             symbol=\"circle-dot\"))\n",
    "\n",
    "\n",
    "fig.show()"
   ]
  },
  {
   "cell_type": "markdown",
   "id": "7d28c7f0-b1b3-4807-a796-684703935d99",
   "metadata": {},
   "source": [
    "**Pick a threshold using the interactive plotly plot**\n",
    "From the figure above, best threshold appears to be 0.589"
   ]
  },
  {
   "cell_type": "code",
   "execution_count": 284,
   "id": "0541c7d1-cfec-4a61-a12c-79df842ea01e",
   "metadata": {},
   "outputs": [],
   "source": [
    "# generate a y_pred variable which is 0 (or Healthy) for all observations that have a predicted probability of less than the threshold\n",
    "# and a value of 1 (or Glaucoma) for all observations with a predicted probability of greater than the threshold\n",
    "y_pred = [0 if p<0.589 else 1 for p in preds]\n",
    "y_pred_train = [0 if p<0.589 else 1 for p in cnn.predict(X_train)]"
   ]
  },
  {
   "cell_type": "code",
   "execution_count": 287,
   "id": "2b49a4a0-831d-4ea9-aaa7-bb7052765d59",
   "metadata": {},
   "outputs": [
    {
     "data": {
      "text/html": [
       "<div>\n",
       "<style scoped>\n",
       "    .dataframe tbody tr th:only-of-type {\n",
       "        vertical-align: middle;\n",
       "    }\n",
       "\n",
       "    .dataframe tbody tr th {\n",
       "        vertical-align: top;\n",
       "    }\n",
       "\n",
       "    .dataframe thead th {\n",
       "        text-align: right;\n",
       "    }\n",
       "</style>\n",
       "<table border=\"1\" class=\"dataframe\">\n",
       "  <thead>\n",
       "    <tr style=\"text-align: right;\">\n",
       "      <th></th>\n",
       "      <th>test set</th>\n",
       "      <th>train set</th>\n",
       "    </tr>\n",
       "  </thead>\n",
       "  <tbody>\n",
       "    <tr>\n",
       "      <th>recall</th>\n",
       "      <td>0.974684</td>\n",
       "      <td>0.911672</td>\n",
       "    </tr>\n",
       "    <tr>\n",
       "      <th>accuracy</th>\n",
       "      <td>0.936170</td>\n",
       "      <td>0.932624</td>\n",
       "    </tr>\n",
       "    <tr>\n",
       "      <th>roc_auc</th>\n",
       "      <td>0.930890</td>\n",
       "      <td>1.000000</td>\n",
       "    </tr>\n",
       "    <tr>\n",
       "      <th>precision</th>\n",
       "      <td>0.916667</td>\n",
       "      <td>1.000000</td>\n",
       "    </tr>\n",
       "  </tbody>\n",
       "</table>\n",
       "</div>"
      ],
      "text/plain": [
       "           test set  train set\n",
       "recall     0.974684   0.911672\n",
       "accuracy   0.936170   0.932624\n",
       "roc_auc    0.930890   1.000000\n",
       "precision  0.916667   1.000000"
      ]
     },
     "execution_count": 287,
     "metadata": {},
     "output_type": "execute_result"
    }
   ],
   "source": [
    "# calculate metrics for test and train sets\n",
    "\n",
    "pd.DataFrame(index=['recall', 'accuracy', 'roc_auc', 'precision'], \n",
    "             data={'test set': [recall_score(y_test, y_pred),\n",
    "                        accuracy_score(y_test, y_pred),\n",
    "                        roc_auc_score(y_test, y_pred),\n",
    "                        precision_score(y_test, y_pred)],\n",
    "                  'train set': [recall_score(y_train, y_pred_train),\n",
    "                        accuracy_score(y_train, y_pred_train),\n",
    "                        roc_auc_score(y_train, y_train),\n",
    "                        precision_score(y_train, y_train)]})"
   ]
  },
  {
   "cell_type": "code",
   "execution_count": 334,
   "id": "30d646f7-63f2-4ef4-baa0-3cbdae0328b1",
   "metadata": {},
   "outputs": [
    {
     "data": {
      "image/png": "[encoded data removed]",
      "text/plain": [
       "<Figure size 432x288 with 2 Axes>"
      ]
     },
     "metadata": {},
     "output_type": "display_data"
    }
   ],
   "source": [
    "fig = sns.heatmap(confusion_matrix(y_test, y_pred), \n",
    "                  annot=True, \n",
    "                  annot_kws={\"size\": 18},\n",
    "                  cbar_kws={'label': 'Number of Observations'},\n",
    "                  xticklabels=['Healthy', 'Glaucoma'], \n",
    "                  yticklabels=['Healthy', 'Glaucoma'],\n",
    "                  vmin=0, vmax=79, \n",
    "                  cmap='PuBuGn');\n",
    "\n",
    "fig.figure.axes[-1].yaxis.label.set_size(15)\n",
    "fig.set_xticklabels(fig.get_xmajorticklabels(), fontsize = 18)\n",
    "fig.set_yticklabels(fig.get_ymajorticklabels(), fontsize = 18);"
   ]
  },
  {
   "cell_type": "markdown",
   "id": "bdff38e9-7967-467e-8d59-859b5a217fa8",
   "metadata": {},
   "source": [
    "Plotly Figure"
   ]
  },
  {
   "cell_type": "code",
   "execution_count": 114,
   "id": "94c0e996-b422-4fc2-80a6-57caa382f6ac",
   "metadata": {},
   "outputs": [],
   "source": [
    "glauc = predictions_df[predictions_df['label']=='Glaucoma']['preds']\n",
    "healthy = predictions_df[predictions_df['label']=='Healthy']['preds']"
   ]
  },
  {
   "cell_type": "code",
   "execution_count": 120,
   "id": "3aec8d20-c9da-4f94-accd-31c5af1d3c48",
   "metadata": {},
   "outputs": [],
   "source": [
    "# to plot a point, we know the probability value for the figure, ex 0.2\n",
    "\n",
    "def find_y(val, fig):\n",
    "    threshold = 0.589 # threshold of predicted probability for classification\n",
    "    if val > threshold: # model would predict as 'Glaucoma'\n",
    "        arr_0 = np.array(fig.data[0]['x'])\n",
    "        ind_0 = abs(val - arr_0).argmin()\n",
    "        # min_0 = arr_0[ind_0]\n",
    "        y = fig.data[0]['y'][ind_0] \n",
    "    else:    # model would predict as 'Healthy'\n",
    "        arr_1 = np.array(fig.data[1]['x'])\n",
    "        ind_1 = abs(val - arr_1).argmin()\n",
    "        # min_1 = arr_1[ind_1]\n",
    "        y = fig.data[1]['y'][ind_1]\n",
    "    \n",
    "    return y"
   ]
  },
  {
   "cell_type": "code",
   "execution_count": 116,
   "id": "4b9758d4-f0d2-41a1-b075-0ce3409ce91d",
   "metadata": {},
   "outputs": [
    {
     "data": {
      "text/plain": [
       "0.6199856"
      ]
     },
     "execution_count": 116,
     "metadata": {},
     "output_type": "execute_result"
    },
    {
     "data": {
      "image/png": "[encoded data removed]",
      "text/plain": [
       "<Figure size 432x288 with 1 Axes>"
      ]
     },
     "metadata": {},
     "output_type": "display_data"
    }
   ],
   "source": [
    "# make prediction on new image that the model has not seen\n",
    "from PIL import Image\n",
    "\n",
    "img = '../data/test_images/LA_left_eye.jpg'\n",
    "image_data = np.asarray(Image.open(img).resize((178,178))) # resize to a size the network can accept and convert to np.array\n",
    "image_data = image_data.astype('float32')/255 # normalize pixel values to [0, 1]\n",
    "plt.imshow(image_data)\n",
    "image_data = image_data.reshape(1, 178, 178, 3) # reshape array to appropriate shape for network \n",
    "prediction = cnn.predict(image_data)[0][0]\n",
    "prediction"
   ]
  },
  {
   "cell_type": "code",
   "execution_count": 152,
   "id": "1b65b696-2427-46cb-a304-f3fdf16d9c41",
   "metadata": {},
   "outputs": [
    {
     "data": {
      "application/vnd.plotly.v1+json": {
       "config": {
        "plotlyServerURL": "https://plot.ly"
       },
       "data": [
        {
         "legendgroup": "Glaucoma",
         "marker": {
          "color": "rgb(31, 119, 180)"
         },
         "mode": "lines",
         "name": "Glaucoma",
         "showlegend": true,
         "type": "scatter",
         "x": [
          0.3114631474018097,
          0.312840219438076,
          0.31421729147434235,
          0.31559436351060866,
          0.316971435546875,
          0.3183485075831413,
          0.3197255796194077,
          0.321102651655674,
          0.32247972369194033,
          0.32385679572820664,
          0.32523386776447294,
          0.3266109398007393,
          0.3279880118370056,
          0.32936508387327196,
          0.33074215590953826,
          0.3321192279458046,
          0.3334962999820709,
          0.3348733720183372,
          0.3362504440546036,
          0.3376275160908699,
          0.33900458812713624,
          0.34038166016340254,
          0.3417587321996689,
          0.3431358042359352,
          0.3445128762722015,
          0.34588994830846786,
          0.3472670203447342,
          0.3486440923810005,
          0.35002116441726683,
          0.3513982364535332,
          0.3527753084897995,
          0.35415238052606585,
          0.35552945256233215,
          0.3569065245985985,
          0.3582835966348648,
          0.3596606686711311,
          0.36103774070739747,
          0.3624148127436638,
          0.36379188477993013,
          0.36516895681619643,
          0.3665460288524628,
          0.3679231008887291,
          0.3693001729249954,
          0.37067724496126175,
          0.37205431699752806,
          0.3734313890337944,
          0.3748084610700607,
          0.3761855331063271,
          0.3775626051425934,
          0.3789396771788597,
          0.38031674921512604,
          0.3816938212513924,
          0.3830708932876587,
          0.384447965323925,
          0.38582503736019136,
          0.38720210939645766,
          0.388579181432724,
          0.3899562534689903,
          0.3913333255052567,
          0.392710397541523,
          0.3940874695777893,
          0.39546454161405564,
          0.39684161365032194,
          0.3982186856865883,
          0.3995957577228546,
          0.40097282975912096,
          0.40234990179538727,
          0.40372697383165357,
          0.4051040458679199,
          0.40648111790418623,
          0.4078581899404526,
          0.4092352619767189,
          0.41061233401298525,
          0.41198940604925155,
          0.41336647808551785,
          0.4147435501217842,
          0.41612062215805057,
          0.41749769419431687,
          0.4188747662305832,
          0.42025183826684953,
          0.42162891030311583,
          0.4230059823393822,
          0.4243830543756485,
          0.42576012641191485,
          0.42713719844818115,
          0.42851427048444746,
          0.4298913425207138,
          0.4312684145569801,
          0.4326454865932465,
          0.4340225586295128,
          0.43539963066577914,
          0.43677670270204544,
          0.43815377473831174,
          0.4395308467745781,
          0.44090791881084446,
          0.44228499084711076,
          0.44366206288337706,
          0.4450391349196434,
          0.4464162069559097,
          0.447793278992176,
          0.4491703510284424,
          0.45054742306470874,
          0.45192449510097504,
          0.45330156713724135,
          0.4546786391735077,
          0.456055711209774,
          0.4574327832460403,
          0.45880985528230667,
          0.460186927318573,
          0.4615639993548393,
          0.46294107139110563,
          0.464318143427372,
          0.46569521546363835,
          0.4670722874999046,
          0.46844935953617095,
          0.4698264315724373,
          0.4712035036087036,
          0.4725805756449699,
          0.47395764768123627,
          0.47533471971750263,
          0.47671179175376893,
          0.47808886379003523,
          0.4794659358263016,
          0.4808430078625679,
          0.4822200798988342,
          0.48359715193510056,
          0.4849742239713669,
          0.4863512960076332,
          0.4877283680438995,
          0.4891054400801659,
          0.4904825121164322,
          0.4918595841526985,
          0.49323665618896484,
          0.4946137282252312,
          0.4959908002614975,
          0.4973678722977638,
          0.49874494433403016,
          0.5001220163702965,
          0.5014990884065628,
          0.5028761604428291,
          0.5042532324790955,
          0.5056303045153618,
          0.5070073765516281,
          0.5083844485878944,
          0.5097615206241608,
          0.511138592660427,
          0.5125156646966934,
          0.5138927367329598,
          0.515269808769226,
          0.5166468808054924,
          0.5180239528417587,
          0.5194010248780251,
          0.5207780969142914,
          0.5221551689505577,
          0.523532240986824,
          0.5249093130230904,
          0.5262863850593567,
          0.527663457095623,
          0.5290405291318894,
          0.5304176011681556,
          0.531794673204422,
          0.5331717452406883,
          0.5345488172769547,
          0.5359258893132209,
          0.5373029613494873,
          0.5386800333857537,
          0.54005710542202,
          0.5414341774582863,
          0.5428112494945526,
          0.544188321530819,
          0.5455653935670852,
          0.5469424656033516,
          0.5483195376396179,
          0.5496966096758842,
          0.5510736817121505,
          0.5524507537484169,
          0.5538278257846833,
          0.5552048978209496,
          0.5565819698572159,
          0.5579590418934822,
          0.5593361139297486,
          0.5607131859660148,
          0.5620902580022812,
          0.5634673300385475,
          0.5648444020748138,
          0.5662214741110801,
          0.5675985461473465,
          0.5689756181836128,
          0.5703526902198792,
          0.5717297622561455,
          0.5731068342924118,
          0.5744839063286782,
          0.5758609783649444,
          0.5772380504012108,
          0.5786151224374771,
          0.5799921944737434,
          0.5813692665100098,
          0.5827463385462761,
          0.5841234105825424,
          0.5855004826188088,
          0.5868775546550751,
          0.5882546266913413,
          0.5896316987276078,
          0.591008770763874,
          0.5923858428001404,
          0.5937629148364068,
          0.595139986872673,
          0.5965170589089394,
          0.5978941309452057,
          0.599271202981472,
          0.6006482750177383,
          0.6020253470540047,
          0.6034024190902709,
          0.6047794911265374,
          0.6061565631628036,
          0.60753363519907,
          0.6089107072353364,
          0.6102877792716026,
          0.611664851307869,
          0.6130419233441353,
          0.6144189953804016,
          0.6157960674166679,
          0.6171731394529343,
          0.6185502114892005,
          0.619927283525467,
          0.6213043555617332,
          0.6226814275979995,
          0.624058499634266,
          0.6254355716705322,
          0.6268126437067986,
          0.6281897157430649,
          0.6295667877793312,
          0.6309438598155975,
          0.6323209318518639,
          0.6336980038881301,
          0.6350750759243965,
          0.6364521479606629,
          0.6378292199969291,
          0.6392062920331956,
          0.6405833640694618,
          0.6419604361057282,
          0.6433375081419945,
          0.6447145801782608,
          0.6460916522145271,
          0.6474687242507935,
          0.6488457962870597,
          0.6502228683233261,
          0.6515999403595925,
          0.6529770123958587,
          0.6543540844321252,
          0.6557311564683914,
          0.6571082285046577,
          0.6584853005409241,
          0.6598623725771904,
          0.6612394446134567,
          0.6626165166497231,
          0.6639935886859893,
          0.6653706607222557,
          0.6667477327585221,
          0.6681248047947883,
          0.6695018768310547,
          0.670878948867321,
          0.6722560209035873,
          0.6736330929398537,
          0.67501016497612,
          0.6763872370123863,
          0.6777643090486527,
          0.679141381084919,
          0.6805184531211853,
          0.6818955251574517,
          0.6832725971937179,
          0.6846496692299843,
          0.6860267412662506,
          0.6874038133025169,
          0.6887808853387833,
          0.6901579573750496,
          0.6915350294113158,
          0.6929121014475823,
          0.6942891734838486,
          0.6956662455201149,
          0.6970433175563813,
          0.6984203895926475,
          0.6997974616289139,
          0.7011745336651802,
          0.7025516057014465,
          0.7039286777377128,
          0.7053057497739792,
          0.7066828218102454,
          0.7080598938465119,
          0.7094369658827782,
          0.7108140379190445,
          0.7121911099553109,
          0.7135681819915771,
          0.7149452540278435,
          0.7163223260641098,
          0.7176993981003761,
          0.7190764701366424,
          0.7204535421729088,
          0.721830614209175,
          0.7232076862454415,
          0.7245847582817078,
          0.725961830317974,
          0.7273389023542405,
          0.7287159743905067,
          0.7300930464267731,
          0.7314701184630394,
          0.7328471904993057,
          0.734224262535572,
          0.7356013345718384,
          0.7369784066081047,
          0.738355478644371,
          0.7397325506806374,
          0.7411096227169036,
          0.7424866947531701,
          0.7438637667894363,
          0.7452408388257027,
          0.746617910861969,
          0.7479949828982353,
          0.7493720549345017,
          0.750749126970768,
          0.7521261990070343,
          0.7535032710433006,
          0.754880343079567,
          0.7562574151158332,
          0.7576344871520997,
          0.7590115591883659,
          0.7603886312246322,
          0.7617657032608987,
          0.7631427752971649,
          0.7645198473334313,
          0.7658969193696976,
          0.7672739914059639,
          0.7686510634422302,
          0.7700281354784966,
          0.7714052075147628,
          0.7727822795510292,
          0.7741593515872955,
          0.7755364236235618,
          0.7769134956598283,
          0.7782905676960945,
          0.7796676397323609,
          0.7810447117686272,
          0.7824217838048935,
          0.7837988558411598,
          0.7851759278774262,
          0.7865529999136924,
          0.7879300719499588,
          0.7893071439862251,
          0.7906842160224914,
          0.7920612880587579,
          0.7934383600950241,
          0.7948154321312904,
          0.7961925041675568,
          0.7975695762038231,
          0.7989466482400894,
          0.8003237202763558,
          0.801700792312622,
          0.8030778643488884,
          0.8044549363851548,
          0.805832008421421,
          0.8072090804576874,
          0.8085861524939537,
          0.80996322453022,
          0.8113402965664864,
          0.8127173686027527,
          0.814094440639019,
          0.8154715126752854,
          0.8168485847115516,
          0.818225656747818,
          0.8196027287840844,
          0.8209798008203506,
          0.822356872856617,
          0.8237339448928833,
          0.8251110169291497,
          0.8264880889654159,
          0.8278651610016823,
          0.8292422330379486,
          0.8306193050742149,
          0.8319963771104812,
          0.8333734491467476,
          0.834750521183014,
          0.8361275932192802,
          0.8375046652555466,
          0.8388817372918129,
          0.8402588093280792,
          0.8416358813643455,
          0.8430129534006119,
          0.8443900254368782,
          0.8457670974731445,
          0.8471441695094108,
          0.8485212415456772,
          0.8498983135819436,
          0.8512753856182098,
          0.8526524576544762,
          0.8540295296907425,
          0.8554066017270088,
          0.8567836737632751,
          0.8581607457995415,
          0.8595378178358078,
          0.8609148898720741,
          0.8622919619083405,
          0.8636690339446068,
          0.8650461059808731,
          0.8664231780171394,
          0.8678002500534058,
          0.8691773220896721,
          0.8705543941259384,
          0.8719314661622047,
          0.8733085381984711,
          0.8746856102347373,
          0.8760626822710037,
          0.8774397543072701,
          0.8788168263435364,
          0.8801938983798027,
          0.881570970416069,
          0.8829480424523354,
          0.8843251144886017,
          0.885702186524868,
          0.8870792585611343,
          0.8884563305974007,
          0.889833402633667,
          0.8912104746699333,
          0.8925875467061997,
          0.893964618742466,
          0.8953416907787323,
          0.8967187628149986,
          0.898095834851265,
          0.8994729068875312,
          0.9008499789237976,
          0.902227050960064,
          0.9036041229963303,
          0.9049811950325966,
          0.9063582670688629,
          0.9077353391051293,
          0.9091124111413955,
          0.9104894831776619,
          0.9118665552139282,
          0.9132436272501946,
          0.9146206992864608,
          0.9159977713227272,
          0.9173748433589936,
          0.9187519153952599,
          0.9201289874315262,
          0.9215060594677925,
          0.9228831315040589,
          0.9242602035403251,
          0.9256372755765915,
          0.9270143476128578,
          0.9283914196491242,
          0.9297684916853904,
          0.9311455637216568,
          0.9325226357579232,
          0.9338997077941894,
          0.9352767798304558,
          0.9366538518667221,
          0.9380309239029885,
          0.9394079959392547,
          0.9407850679755211,
          0.9421621400117874,
          0.9435392120480537,
          0.94491628408432,
          0.9462933561205864,
          0.9476704281568528,
          0.949047500193119,
          0.9504245722293854,
          0.9518016442656517,
          0.9531787163019181,
          0.9545557883381843,
          0.9559328603744507,
          0.957309932410717,
          0.9586870044469833,
          0.9600640764832497,
          0.961441148519516,
          0.9628182205557824,
          0.9641952925920486,
          0.965572364628315,
          0.9669494366645813,
          0.9683265087008476,
          0.9697035807371139,
          0.9710806527733803,
          0.9724577248096467,
          0.9738347968459129,
          0.9752118688821793,
          0.9765889409184456,
          0.9779660129547119,
          0.9793430849909782,
          0.9807201570272446,
          0.9820972290635109,
          0.9834743010997772,
          0.9848513731360435,
          0.9862284451723099,
          0.9876055172085763,
          0.9889825892448425,
          0.9903596612811089,
          0.9917367333173752,
          0.9931138053536415,
          0.9944908773899078,
          0.9958679494261742,
          0.9972450214624405,
          0.9986220934987068
         ],
         "xaxis": "x",
         "y": [
          0.09670914267404607,
          0.09667807634056272,
          0.09658014791309129,
          0.09641559346336348,
          0.09618479047429751,
          0.09588825680309972,
          0.09552664917872704,
          0.09510076124223615,
          0.09461152114077377,
          0.09405998868813134,
          0.09344735210686574,
          0.09277492436897555,
          0.09204413915400236,
          0.09125654644518477,
          0.09041380778592394,
          0.08951769122030902,
          0.08857006594279257,
          0.08757289668329137,
          0.08652823785501065,
          0.08543822749314396,
          0.08430508101328293,
          0.08313108481887731,
          0.08191858978741566,
          0.0806700046651482,
          0.07938778940014694,
          0.07807444844330075,
          0.07673252404646762,
          0.07536458958646748,
          0.07397324294289827,
          0.07256109995689691,
          0.07113078799696505,
          0.06968493965682629,
          0.06822618660901328,
          0.06675715363647702,
          0.06528045286300858,
          0.0637986782016543,
          0.06231440003861418,
          0.06083016016834236,
          0.059348466993743784,
          0.05787179100347819,
          0.05640256053647043,
          0.0549431578417899,
          0.05349591544011096,
          0.05206311279102773,
          0.05064697326856494,
          0.04924966144532746,
          0.047873280683875516,
          0.04651987103209995,
          0.04519140741763456,
          0.043889798134667285,
          0.0426168836149284,
          0.041374435473140785,
          0.040164155815821945,
          0.03898767680104809,
          0.037846560435620166,
          0.03674229859502657,
          0.03567631325067905,
          0.034649956888109755,
          0.03366451309916374,
          0.03272119733070613,
          0.031821157771982515,
          0.030965476362534713,
          0.030155169902471583,
          0.029391191246931236,
          0.028674430566745984,
          0.02800571665762243,
          0.02738581828058703,
          0.026815445517002323,
          0.026295251122139054,
          0.025825831862079134,
          0.025407729819621725,
          0.02504143365586332,
          0.024727379815209737,
          0.024465953662751904,
          0.02425749054418314,
          0.024102276759748867,
          0.024000550445087167,
          0.02395250235323313,
          0.023958276533509276,
          0.02401797090449939,
          0.024131637719792442,
          0.024299283926676768,
          0.024520871419451074,
          0.024796317190488033,
          0.02512549338362672,
          0.02550822725587254,
          0.02594430105473547,
          0.026433451819831616,
          0.026975371118597765,
          0.02756970472711356,
          0.02821605226808626,
          0.028913966819013207,
          0.029662954504397786,
          0.03046247408663921,
          0.03131193657084582,
          0.03221070483932589,
          0.03315809333188135,
          0.03415336778827245,
          0.03519574506931878,
          0.03628439307306356,
          0.03741843076224457,
          0.038596928318984765,
          0.039818907442144245,
          0.04108334180215911,
          0.04238915766743119,
          0.04373523471543883,
          0.04512040704070221,
          0.04654346437057524,
          0.04800315349854916,
          0.04949817994334372,
          0.051027209840552576,
          0.05258887207198764,
          0.0541817606361644,
          0.05580443726158165,
          0.0574554342625929,
          0.05913325763575034,
          0.06083639039255326,
          0.06256329612253689,
          0.06431242277863976,
          0.06608220667478057,
          0.06787107668358609,
          0.06967745862024709,
          0.07149977979655972,
          0.07333647372735307,
          0.07518598496971832,
          0.07704677407375729,
          0.0789173226219834,
          0.08079613833303531,
          0.08268176020402783,
          0.0845727636646744,
          0.08646776571528546,
          0.08836543001989075,
          0.09026447192505006,
          0.09216366337443704,
          0.09406183768899219,
          0.09595789418235846,
          0.09785080258145286,
          0.09973960722236781,
          0.10162343099237235,
          0.10350147898956837,
          0.10537304187276368,
          0.10723749887535511,
          0.10909432045844561,
          0.11094307058007498,
          0.1127834085592809,
          0.11461509051575147,
          0.11643797036804569,
          0.11825200037574138,
          0.12005723121341191,
          0.12185381156701149,
          0.12364198724604353,
          0.12542209980779356,
          0.1271945846928946,
          0.12895996887454175,
          0.13071886802677218,
          0.13247198322033474,
          0.13422009715779826,
          0.13596406996263102,
          0.1377048345400285,
          0.139443391530247,
          0.14118080387807697,
          0.1429181910448551,
          0.14465672289205336,
          0.14639761326794248,
          0.14814211333112967,
          0.1498915046468569,
          0.15164709209383298,
          0.15341019662101155,
          0.15518214789512869,
          0.15696427688094916,
          0.15875790839703938,
          0.1605643536904607,
          0.16238490307407732,
          0.16422081867016727,
          0.16607332730372787,
          0.16794361358826934,
          0.16983281324599667,
          0.17174200670309306,
          0.17367221299934224,
          0.17562438404958078,
          0.17759939929244659,
          0.17959806075961857,
          0.18162108859623413,
          0.18366911706042682,
          0.18574269102699914,
          0.18784226301711532,
          0.18996819077262422,
          0.19212073539019975,
          0.19430006002695935,
          0.1965062291855995,
          0.19873920858341954,
          0.20099886560588304,
          0.2032849703416663,
          0.20559719719244265,
          0.20793512704701117,
          0.21029825000581887,
          0.21268596863846245,
          0.21509760175342124,
          0.21753238865610622,
          0.21998949386830488,
          0.22246801227929974,
          0.22496697469637572,
          0.22748535376007148,
          0.23002207018746182,
          0.23257599930494077,
          0.23514597783043503,
          0.23773081086374942,
          0.2403292790427938,
          0.24294014582281187,
          0.24556216483539903,
          0.248194087284066,
          0.2508346693333924,
          0.2534826794493834,
          0.25613690564951247,
          0.25879616262206595,
          0.26145929867584145,
          0.2641252024828845,
          0.2667928095788696,
          0.2694611085878372,
          0.2721291471403051,
          0.27479603745626585,
          0.2774609615672078,
          0.28012317615406357,
          0.28278201698084876,
          0.28543690290669305,
          0.2880873394619465,
          0.2907329219770666,
          0.2933733382559752,
          0.2960083707885682,
          0.29863789849998845,
          0.3012618980370867,
          0.3038804445952773,
          0.30649371229158645,
          0.30910197409217705,
          0.311705601304952,
          0.31430506264996916,
          0.31690092292234195,
          0.3194938412640425,
          0.3220845690625457,
          0.32467394749553713,
          0.32726290474200287,
          0.3298524528808246,
          0.332443684498639,
          0.3350377690290677,
          0.33763594884559783,
          0.3402395351303036,
          0.34284990354033024,
          0.3454684896935816,
          0.3480967844943852,
          0.3507363293190784,
          0.35338871108046654,
          0.35605555718899184,
          0.3587385304271963,
          0.3614393237527406,
          0.36415965504384007,
          0.36690126179949795,
          0.3696658958054533,
          0.3724553177752565,
          0.37527129197440995,
          0.37811558083407637,
          0.3809899395594765,
          0.3838961107368064,
          0.38683581894130004,
          0.3898107653479961,
          0.39282262234581306,
          0.3958730281547589,
          0.3989635814454605,
          0.40209583595975606,
          0.40527129513082055,
          0.408491406701217,
          0.41175755733739033,
          0.4150710672394323,
          0.4184331847454631,
          0.42184508093069095,
          0.425307844202107,
          0.4288224748908574,
          0.432389879845606,
          0.4360108670316032,
          0.4396861401417607,
          0.4434162932277373,
          0.447201805360843,
          0.451043035334498,
          0.45494021642197285,
          0.458893451205164,
          0.46290270649226,
          0.46696780834421375,
          0.47108843723201255,
          0.4752641233487659,
          0.47949424210258895,
          0.4837780098181229,
          0.4881144796763116,
          0.49250253792364995,
          0.4969409003836011,
          0.5014281093041575,
          0.5059625305765971,
          0.5105423513613639,
          0.5151655781576178,
          0.519830035353396,
          0.5245333642934342,
          0.5292730229015551,
          0.5340462858940848,
          0.5388502456200637,
          0.5436818135629744,
          0.5485377225374466,
          0.5534145296127947,
          0.558308619793364,
          0.5632162104835463,
          0.56813335676287,
          0.573055957493928,
          0.5779797622829798,
          0.5829003793099281,
          0.5878132840410177,
          0.5927138288340779,
          0.5975972534424296,
          0.6024586964197116,
          0.6072932074239776,
          0.6120957604152995,
          0.6168612677370544,
          0.6215845950668957,
          0.6262605772192715,
          0.6308840347772077,
          0.635449791527009,
          0.6399526926655141,
          0.6443876237456592,
          0.6487495303223435,
          0.6530334382569786,
          0.6572344746357311,
          0.6613478892532121,
          0.6653690766104557,
          0.6692935983732848,
          0.6731172062347205,
          0.6768358651229566,
          0.6804457766945546,
          0.6839434030509753,
          0.6873254906153741,
          0.6905890941056574,
          0.6937316005392813,
          0.6967507532050355,
          0.6996446755371603,
          0.7024118948275719,
          0.7050513657127463,
          0.7075624933728132,
          0.7099451563817997,
          0.7121997291495553,
          0.714327103897754,
          0.7163287121144775,
          0.7182065454341882,
          0.7199631758923722,
          0.7216017755067792,
          0.7231261351399284,
          0.7245406826003985,
          0.7258504999433009,
          0.7270613399332396,
          0.7281796416359623,
          0.7292125451077267,
          0.7301679051541495,
          0.7310543041329081,
          0.7318810637771143,
          0.7326582560184189,
          0.7333967127908937,
          0.7341080347985005,
          0.7348045992303565,
          0.7354995664091276,
          0.7362068853586367,
          0.7369412982770999,
          0.737718343902431,
          0.7385543597555448,
          0.7394664832467545,
          0.7404726516290184,
          0.7415916007800488,
          0.7428428627930731,
          0.7442467623534442,
          0.7458244118751932,
          0.7475977053681937,
          0.749589311002737,
          0.7518226623341212,
          0.7543219481453202,
          0.7571121008609984,
          0.7602187834810697,
          0.7636683749767743,
          0.7674879540868531,
          0.7717052814459693,
          0.7763487799720731,
          0.7814475134339995,
          0.7870311631153799,
          0.793130002485885,
          0.7997748697861243,
          0.8069971384281764,
          0.8148286851098797,
          0.8233018555377357,
          0.832449427650621,
          0.8423045722346646,
          0.8529008108185879,
          0.8642719707387357,
          0.8764521372639027,
          0.8894756026721418,
          0.9033768121749144,
          0.9181903065884635,
          0.9339506616580563,
          0.9506924239480394,
          0.9684500432192363,
          0.9872578012254649,
          1.0071497368726399,
          1.028159567697289,
          1.0503206076360416,
          1.0736656810743885,
          1.0982270331807862,
          1.124036236552122,
          1.151124094217407,
          1.179520539069562,
          1.209254529818926,
          1.2403539435877364,
          1.2728454652913714,
          1.3067544739800376,
          1.3421049263432323,
          1.3789192376091204,
          1.4172181601012124,
          1.4570206597457498,
          1.4983437908542843,
          1.5412025695375102,
          1.585609846137631,
          1.6315761770976438,
          1.6791096967163839,
          1.7282159892681306,
          1.778897961994011,
          1.8311557195002948,
          1.8849864401243146,
          1.940384254853243,
          1.9973401294027309,
          2.055841750082555,
          2.115873414093473,
          2.1774159249139444,
          2.2404464934469193,
          2.304938645604669,
          2.370862137014502,
          2.4381828755289434,
          2.506862852220939,
          2.5768600815375087,
          2.6481285512741706,
          2.7206181830165166,
          2.794274803675591,
          2.8690401287189804,
          2.944851757670668,
          3.0216431824188925,
          3.0993438088333853,
          3.1778789921506836,
          3.257170086539601,
          3.3371345092072313,
          3.417685819351647,
          3.4987338122073437,
          3.580184628367848,
          3.6619408785028043,
          3.7439017835188424,
          3.825963330140684,
          3.908018441815288,
          3.9899571647652907,
          4.071666868940383,
          4.153032463535918,
          4.233936626668701,
          4.314260048719789,
          4.393881688774618,
          4.472679043511791,
          4.550528427814614,
          4.627305266303298,
          4.702884394912837,
          4.7771403715706535,
          4.849947794961335,
          4.921181630302042,
          4.990717540993676,
          5.058432224958469,
          5.124203754425967,
          5.187911917886237,
          5.249438562891803,
          5.30866793835946,
          5.365487034998884,
          5.419785922478359,
          5.471458081927729,
          5.520400732377189,
          5.566515149735136,
          5.609706976921762,
          5.649886523795526,
          5.686969055538256,
          5.720875068200357,
          5.751530550151388,
          5.778867228231972,
          5.802822797461085,
          5.823341133217394,
          5.8403724848849485,
          5.853873650030702,
          5.863808128264711,
          5.87014625402231,
          5.872865307600792,
          5.871949603880625,
          5.867390558262424,
          5.859186729455043,
          5.84734383885705,
          5.831874766382142,
          5.812799522689004,
          5.790145197886062,
          5.763945886891888
         ],
         "yaxis": "y"
        },
        {
         "legendgroup": "Healthy",
         "marker": {
          "color": "rgb(255, 127, 14)"
         },
         "mode": "lines",
         "name": "Healthy",
         "showlegend": true,
         "type": "scatter",
         "x": [
          3.334456778247841e-05,
          0.001865824351196352,
          0.0036983041346102257,
          0.005530783918024099,
          0.007363263701437973,
          0.009195743484851845,
          0.011028223268265719,
          0.012860703051679592,
          0.014693182835093467,
          0.01652566261850734,
          0.018358142401921212,
          0.020190622185335086,
          0.02202310196874896,
          0.023855581752162833,
          0.025688061535576706,
          0.02752054131899058,
          0.029353021102404456,
          0.03118550088581833,
          0.0330179806692322,
          0.03485046045264607,
          0.03668294023605995,
          0.03851542001947382,
          0.04034789980288769,
          0.04218037958630157,
          0.04401285936971544,
          0.045845339153129314,
          0.04767781893654319,
          0.04951029871995706,
          0.051342778503370934,
          0.05317525828678481,
          0.05500773807019868,
          0.056840217853612554,
          0.058672697637026434,
          0.06050517742044031,
          0.06233765720385418,
          0.06417013698726805,
          0.06600261677068192,
          0.0678350965540958,
          0.06966757633750967,
          0.07150005612092354,
          0.07333253590433741,
          0.07516501568775129,
          0.07699749547116516,
          0.07882997525457903,
          0.08066245503799291,
          0.08249493482140678,
          0.08432741460482066,
          0.08615989438823453,
          0.0879923741716484,
          0.08982485395506228,
          0.09165733373847615,
          0.09348981352189002,
          0.0953222933053039,
          0.09715477308871777,
          0.09898725287213164,
          0.10081973265554552,
          0.10265221243895939,
          0.10448469222237326,
          0.10631717200578714,
          0.10814965178920101,
          0.10998213157261488,
          0.11181461135602876,
          0.11364709113944263,
          0.11547957092285652,
          0.11731205070627039,
          0.11914453048968426,
          0.12097701027309814,
          0.12280949005651201,
          0.12464196983992588,
          0.12647444962333976,
          0.12830692940675362,
          0.1301394091901675,
          0.13197188897358136,
          0.13380436875699525,
          0.1356368485404091,
          0.137469328323823,
          0.13930180810723686,
          0.14113428789065074,
          0.1429667676740646,
          0.1447992474574785,
          0.14663172724089235,
          0.14846420702430624,
          0.1502966868077201,
          0.15212916659113399,
          0.15396164637454784,
          0.15579412615796173,
          0.1576266059413756,
          0.15945908572478948,
          0.16129156550820334,
          0.16312404529161723,
          0.16495652507503109,
          0.16678900485844497,
          0.16862148464185883,
          0.17045396442527272,
          0.17228644420868658,
          0.17411892399210047,
          0.17595140377551433,
          0.1777838835589282,
          0.17961636334234207,
          0.18144884312575596,
          0.18328132290916982,
          0.1851138026925837,
          0.18694628247599757,
          0.18877876225941145,
          0.1906112420428253,
          0.1924437218262392,
          0.19427620160965306,
          0.19610868139306695,
          0.1979411611764808,
          0.1997736409598947,
          0.20160612074330855,
          0.20343860052672244,
          0.2052710803101363,
          0.2071035600935502,
          0.20893603987696405,
          0.21076851966037793,
          0.2126009994437918,
          0.21443347922720568,
          0.21626595901061954,
          0.21809843879403343,
          0.2199309185774473,
          0.22176339836086117,
          0.22359587814427503,
          0.22542835792768892,
          0.22726083771110278,
          0.22909331749451667,
          0.23092579727793056,
          0.23275827706134442,
          0.2345907568447583,
          0.23642323662817216,
          0.23825571641158605,
          0.2400881961949999,
          0.2419206759784138,
          0.24375315576182766,
          0.24558563554524154,
          0.2474181153286554,
          0.2492505951120693,
          0.25108307489548315,
          0.25291555467889704,
          0.2547480344623109,
          0.25658051424572476,
          0.25841299402913864,
          0.26024547381255253,
          0.2620779535959664,
          0.26391043337938025,
          0.26574291316279414,
          0.267575392946208,
          0.2694078727296219,
          0.27124035251303574,
          0.27307283229644963,
          0.2749053120798635,
          0.2767377918632774,
          0.27857027164669124,
          0.2804027514301051,
          0.282235231213519,
          0.2840677109969329,
          0.28590019078034673,
          0.2877326705637606,
          0.2895651503471745,
          0.2913976301305884,
          0.2932301099140022,
          0.2950625896974161,
          0.29689506948083,
          0.2987275492642439,
          0.3005600290476577,
          0.3023925088310716,
          0.3042249886144855,
          0.3060574683978994,
          0.3078899481813132,
          0.3097224279647271,
          0.311554907748141,
          0.3133873875315549,
          0.3152198673149687,
          0.3170523470983826,
          0.3188848268817965,
          0.32071730666521037,
          0.3225497864486242,
          0.3243822662320381,
          0.326214746015452,
          0.32804722579886586,
          0.3298797055822797,
          0.3317121853656936,
          0.33354466514910747,
          0.33537714493252135,
          0.3372096247159352,
          0.3390421044993491,
          0.34087458428276296,
          0.34270706406617685,
          0.3445395438495907,
          0.34637202363300457,
          0.34820450341641845,
          0.35003698319983234,
          0.3518694629832462,
          0.35370194276666006,
          0.35553442255007395,
          0.35736690233348783,
          0.35919938211690167,
          0.36103186190031555,
          0.36286434168372944,
          0.36469682146714333,
          0.36652930125055716,
          0.36836178103397105,
          0.37019426081738493,
          0.3720267406007988,
          0.37385922038421265,
          0.37569170016762654,
          0.37752417995104043,
          0.3793566597344543,
          0.38118913951786815,
          0.38302161930128203,
          0.3848540990846959,
          0.3866865788681098,
          0.38851905865152364,
          0.39035153843493753,
          0.3921840182183514,
          0.3940164980017653,
          0.39584897778517913,
          0.397681457568593,
          0.3995139373520069,
          0.4013464171354208,
          0.40317889691883463,
          0.4050113767022485,
          0.4068438564856624,
          0.4086763362690763,
          0.4105088160524901,
          0.412341295835904,
          0.4141737756193179,
          0.4160062554027318,
          0.4178387351861456,
          0.4196712149695595,
          0.4215036947529734,
          0.4233361745363873,
          0.4251686543198011,
          0.427001134103215,
          0.4288336138866289,
          0.43066609367004277,
          0.4324985734534566,
          0.4343310532368705,
          0.4361635330202844,
          0.43799601280369826,
          0.4398284925871121,
          0.441660972370526,
          0.44349345215393987,
          0.44532593193735376,
          0.4471584117207676,
          0.4489908915041815,
          0.45082337128759536,
          0.45265585107100925,
          0.4544883308544231,
          0.45632081063783697,
          0.45815329042125086,
          0.45998577020466475,
          0.46181824998807863,
          0.46365072977149246,
          0.46548320955490635,
          0.46731568933832024,
          0.4691481691217341,
          0.47098064890514796,
          0.47281312868856185,
          0.47464560847197573,
          0.4764780882553896,
          0.47831056803880345,
          0.48014304782221734,
          0.4819755276056312,
          0.4838080073890451,
          0.48564048717245895,
          0.48747296695587283,
          0.4893054467392867,
          0.4911379265227006,
          0.49297040630611444,
          0.4948028860895283,
          0.4966353658729422,
          0.4984678456563561,
          0.50030032543977,
          0.5021328052231838,
          0.5039652850065977,
          0.5057977647900116,
          0.5076302445734254,
          0.5094627243568394,
          0.5112952041402532,
          0.513127683923667,
          0.514960163707081,
          0.5167926434904948,
          0.5186251232739086,
          0.5204576030573226,
          0.5222900828407364,
          0.5241225626241504,
          0.5259550424075642,
          0.527787522190978,
          0.529620001974392,
          0.5314524817578058,
          0.5332849615412196,
          0.5351174413246336,
          0.5369499211080474,
          0.5387824008914613,
          0.5406148806748752,
          0.542447360458289,
          0.544279840241703,
          0.5461123200251168,
          0.5479447998085306,
          0.5497772795919446,
          0.5516097593753584,
          0.5534422391587723,
          0.5552747189421862,
          0.5571071987256,
          0.5589396785090139,
          0.5607721582924278,
          0.5626046380758416,
          0.5644371178592555,
          0.5662695976426694,
          0.5681020774260833,
          0.5699345572094972,
          0.571767036992911,
          0.5735995167763249,
          0.5754319965597388,
          0.5772644763431526,
          0.5790969561265665,
          0.5809294359099804,
          0.5827619156933943,
          0.5845943954768081,
          0.586426875260222,
          0.5882593550436359,
          0.5900918348270497,
          0.5919243146104636,
          0.5937567943938775,
          0.5955892741772914,
          0.5974217539607053,
          0.5992542337441191,
          0.601086713527533,
          0.6029191933109469,
          0.6047516730943607,
          0.6065841528777746,
          0.6084166326611885,
          0.6102491124446023,
          0.6120815922280163,
          0.6139140720114301,
          0.6157465517948439,
          0.6175790315782579,
          0.6194115113616717,
          0.6212439911450856,
          0.6230764709284995,
          0.6249089507119133,
          0.6267414304953273,
          0.6285739102787411,
          0.6304063900621549,
          0.6322388698455689,
          0.6340713496289827,
          0.6359038294123965,
          0.6377363091958105,
          0.6395687889792243,
          0.6414012687626383,
          0.6432337485460521,
          0.6450662283294659,
          0.6468987081128799,
          0.6487311878962937,
          0.6505636676797075,
          0.6523961474631215,
          0.6542286272465353,
          0.6560611070299492,
          0.6578935868133631,
          0.6597260665967769,
          0.6615585463801908,
          0.6633910261636047,
          0.6652235059470185,
          0.6670559857304325,
          0.6688884655138463,
          0.6707209452972602,
          0.6725534250806741,
          0.6743859048640879,
          0.6762183846475018,
          0.6780508644309157,
          0.6798833442143295,
          0.6817158239977434,
          0.6835483037811573,
          0.6853807835645712,
          0.687213263347985,
          0.6890457431313989,
          0.6908782229148128,
          0.6927107026982267,
          0.6945431824816406,
          0.6963756622650544,
          0.6982081420484683,
          0.7000406218318822,
          0.701873101615296,
          0.7037055813987099,
          0.7055380611821238,
          0.7073705409655376,
          0.7092030207489516,
          0.7110355005323654,
          0.7128679803157792,
          0.7147004600991932,
          0.716532939882607,
          0.7183654196660209,
          0.7201978994494348,
          0.7220303792328486,
          0.7238628590162626,
          0.7256953387996764,
          0.7275278185830902,
          0.7293602983665042,
          0.731192778149918,
          0.7330252579333318,
          0.7348577377167458,
          0.7366902175001596,
          0.7385226972835736,
          0.7403551770669874,
          0.7421876568504012,
          0.7440201366338152,
          0.745852616417229,
          0.7476850962006428,
          0.7495175759840568,
          0.7513500557674706,
          0.7531825355508845,
          0.7550150153342984,
          0.7568474951177122,
          0.7586799749011262,
          0.76051245468454,
          0.7623449344679538,
          0.7641774142513678,
          0.7660098940347816,
          0.7678423738181955,
          0.7696748536016094,
          0.7715073333850232,
          0.7733398131684371,
          0.775172292951851,
          0.7770047727352648,
          0.7788372525186787,
          0.7806697323020926,
          0.7825022120855065,
          0.7843346918689204,
          0.7861671716523342,
          0.7879996514357481,
          0.789832131219162,
          0.7916646110025758,
          0.7934970907859897,
          0.7953295705694036,
          0.7971620503528175,
          0.7989945301362313,
          0.8008270099196452,
          0.8026594897030591,
          0.804491969486473,
          0.8063244492698868,
          0.8081569290533007,
          0.8099894088367146,
          0.8118218886201285,
          0.8136543684035423,
          0.8154868481869562,
          0.8173193279703701,
          0.8191518077537839,
          0.8209842875371978,
          0.8228167673206117,
          0.8246492471040255,
          0.8264817268874395,
          0.8283142066708533,
          0.8301466864542671,
          0.8319791662376811,
          0.8338116460210949,
          0.8356441258045088,
          0.8374766055879227,
          0.8393090853713365,
          0.8411415651547505,
          0.8429740449381643,
          0.8448065247215781,
          0.8466390045049921,
          0.8484714842884059,
          0.8503039640718197,
          0.8521364438552337,
          0.8539689236386475,
          0.8558014034220615,
          0.8576338832054753,
          0.8594663629888891,
          0.8612988427723031,
          0.8631313225557169,
          0.8649638023391307,
          0.8667962821225447,
          0.8686287619059585,
          0.8704612416893724,
          0.8722937214727863,
          0.8741262012562001,
          0.875958681039614,
          0.8777911608230279,
          0.8796236406064417,
          0.8814561203898557,
          0.8832886001732695,
          0.8851210799566834,
          0.8869535597400973,
          0.8887860395235111,
          0.890618519306925,
          0.8924509990903389,
          0.8942834788737527,
          0.8961159586571666,
          0.8979484384405805,
          0.8997809182239944,
          0.9016133980074083,
          0.9034458777908221,
          0.905278357574236,
          0.9071108373576499,
          0.9089433171410637,
          0.9107757969244776,
          0.9126082767078915,
          0.9144407564913054
         ],
         "xaxis": "x",
         "y": [
          2.408312930568136,
          2.415792520374462,
          2.4227431348583393,
          2.429160985208398,
          2.435042662625695,
          2.440385141958014,
          2.445185784876657,
          2.4494423425910505,
          2.453152958097166,
          2.456316167956596,
          2.4589309036038913,
          2.460996492180548,
          2.4625126568948446,
          2.4634795169075057,
          2.463897586743966,
          2.4637677752347957,
          2.463091383986618,
          2.4618701053866743,
          2.4601060201448806,
          2.4578015943780547,
          2.454959676241704,
          2.4515834921154913,
          2.447676642349247,
          2.443243096577071,
          2.4382871886077844,
          2.432813610900623,
          2.426827408635744,
          2.420333973389751,
          2.4133390364269993,
          2.4058486616180907,
          2.3978692379974795,
          2.38940747197264,
          2.3804703791978006,
          2.3710652761256674,
          2.361199771251021,
          2.3508817560605473,
          2.340119395703565,
          2.3289211193987374,
          2.317295610592163,
          2.3052517968825117,
          2.292798839729213,
          2.2799461239598373,
          2.266703247093076,
          2.2530800084939075,
          2.2390863983776153,
          2.22473258667947,
          2.210028911806949,
          2.1949858692914197,
          2.1796141003561784,
          2.1639243804177815,
          2.147927607537479,
          2.1316347908395175,
          2.115057038912974,
          2.0982055482135906,
          2.0810915914819494,
          2.0637265061941013,
          2.046121683060542,
          2.0282885545891776,
          2.0102385837276064,
          1.9919832525997954,
          1.9735340513518427,
          1.9549024671211788,
          1.9360999731432198,
          1.917138018009026,
          1.898028015087154,
          1.8787813321224398,
          1.8594092810239635,
          1.83992310785406,
          1.8203339830296594,
          1.8006529917467966,
          1.780891124638643,
          1.7610592686768023,
          1.7411681983251968,
          1.721228566955207,
          1.7012508985303136,
          1.6812455795677839,
          1.6612228513845373,
          1.641192802633629,
          1.6211653621373232,
          1.60115029202209,
          1.5811571811603364,
          1.5611954389230835,
          1.5412742892472595,
          1.5214027650206847,
          1.501589702787313,
          1.4818437377746745,
          1.4621732992449925,
          1.4425866061708246,
          1.4230916632356299,
          1.4036962571590603,
          1.3844079533463274,
          1.3652340928604374,
          1.3461817897156454,
          1.3272579284899526,
          1.3084691622540405,
          1.2898219108135676,
          1.2713223592613054,
          1.2529764568351958,
          1.234789916077965,
          1.216768212293565,
          1.1989165832953375,
          1.1812400294403975,
          1.163743313944451,
          1.1464309634708751,
          1.1293072689876285,
          1.1123762868852325,
          1.0956418403488213,
          1.0791075209769792,
          1.0627766906398703,
          1.0466524835689293,
          1.030737808670188,
          1.0150353520531368,
          0.9995475797668528,
          0.984276740734976,
          0.969224869880995,
          0.9543937914351874,
          0.9397851224144823,
          0.9254002762664082,
          0.9112404666682736,
          0.8973067114726372,
          0.8835998367901504,
          0.8701204812008083,
          0.8568691000846653,
          0.8438459700631028,
          0.8310511935417572,
          0.8184847033462846,
          0.8061462674421866,
          0.7940354937300186,
          0.7821518349073805,
          0.7704945933892036,
          0.7590629262779577,
          0.747855850375536,
          0.7368722472287071,
          0.7261108682001853,
          0.7155703395575148,
          0.7052491675721462,
          0.6951457436212489,
          0.685258349285001,
          0.6755851614322781,
          0.6661242572878787,
          0.6568736194746101,
          0.6478311410237998,
          0.6389946303479848,
          0.630361816169777,
          0.6219303524011228,
          0.6136978229674034,
          0.6056617465710643,
          0.5978195813896908,
          0.5901687297036955,
          0.5827065424490163,
          0.5754303236904754,
          0.5683373350116856,
          0.561424799817636,
          0.5546899075463363,
          0.5481298177861385,
          0.5417416642955994,
          0.5355225589229858,
          0.529469595422764,
          0.5235798531666565,
          0.5178504007470752,
          0.5122782994709809,
          0.5068606067424354,
          0.5015943793323562,
          0.4964766765341821,
          0.4915045632043934,
          0.4866751126870334,
          0.4819854096215889,
          0.47743255263379114,
          0.47301365690909447,
          0.4687258566487843,
          0.4645663074088556,
          0.4605321883219795,
          0.45662070420305684,
          0.45282908753902346,
          0.44915460036374205,
          0.4455945360189653,
          0.4421462208025101,
          0.4388070155049345,
          0.43557431683613657,
          0.4324455587434319,
          0.4294182136227982,
          0.42648979342508336,
          0.4236578506590986,
          0.4209199792936118,
          0.4182738155603701,
          0.415717038660361,
          0.4132473713756185,
          0.4108625805889547,
          0.408560477714073,
          0.4063389190385928,
          0.4041958059825637,
          0.40212908527511965,
          0.40013674905195934,
          0.3982168348763867,
          0.39636742568668903,
          0.39458664967265283,
          0.392872680084049,
          0.39122373497393775,
          0.38963807687966256,
          0.38811401244440624,
          0.3866498919821957,
          0.3852441089892313,
          0.38389509960442375,
          0.3826013420220039,
          0.3813613558590588,
          0.38017370148083257,
          0.37903697928660396,
          0.3779498289589289,
          0.3769109286790049,
          0.3759189943108811,
          0.37497277855720146,
          0.37407107008912416,
          0.37321269265302137,
          0.37239650415651415,
          0.37162139573634617,
          0.3708862908105528,
          0.37019014411731954,
          0.36953194074287676,
          0.3689106951407068,
          0.3683254501442892,
          0.36777527597553916,
          0.3672592692510328,
          0.36677655198804726,
          0.36632627061237105,
          0.3659075949697803,
          0.36551971734299565,
          0.36516185147587277,
          0.3648332316065023,
          0.3645331115108256,
          0.36426076355829934,
          0.3640154777810654,
          0.36379656095801766,
          0.3636033357150721,
          0.3634351396428831,
          0.36329132443317264,
          0.36317125503475983,
          0.36307430883031594,
          0.3629998748347914,
          0.3629473529163867,
          0.3629161530408781,
          0.36290569454002725,
          0.3629154054047442,
          0.3629447216035959,
          0.36299308642719436,
          0.3630599498589233,
          0.363144767972402,
          0.3632470023560224,
          0.3633661195648275,
          0.363501590599943,
          0.36365289041571247,
          0.3638194974546276,
          0.3640008932100894,
          0.36419656181698223,
          0.3644059896699848,
          0.3646286650694971,
          0.3648640778950073,
          0.3651117193056761,
          0.36537108146786956,
          0.36564165730932957,
          0.36592294029962197,
          0.36621442425647055,
          0.3665156031775369,
          0.3668259710971777,
          0.3671450219676698,
          0.3674722495643643,
          0.3678071474141959,
          0.36814920874695006,
          0.36849792646865703,
          0.36885279315646313,
          0.3692133010742977,
          0.36957894220864324,
          0.3699492083236866,
          0.3703235910351209,
          0.37070158190183944,
          0.37108267253476585,
          0.37146635472203693,
          0.371852120569752,
          0.37223946265749397,
          0.3726278742078185,
          0.37301684926890233,
          0.3734058829095402,
          0.3737944714256772,
          0.374182112557661,
          0.37456830571740374,
          0.374952552224642,
          0.37533435555149114,
          0.3757132215744921,
          0.37608865883335885,
          0.37646017879564314,
          0.3768272961265383,
          0.37718952896306024,
          0.37754639919185295,
          0.3778974327298769,
          0.3782421598072576,
          0.3785801152515815,
          0.3789108387729454,
          0.3792338752490808,
          0.3795487750098941,
          0.37985509412077756,
          0.3801523946640707,
          0.38044024501806706,
          0.3807182201329814,
          0.3809859018033167,
          0.38124287893608644,
          0.38148874781437375,
          0.3817231123557259,
          0.3819455843649101,
          0.38215578378057213,
          0.38235333891537027,
          0.38253788668916866,
          0.38270907285490796,
          0.3828665522167834,
          0.38300998884039206,
          0.3831390562545244,
          0.38325343764430536,
          0.3833528260354063,
          0.38343692446907385,
          0.3835054461677418,
          0.38355811469101414,
          0.38359466408182813,
          0.3836148390026221,
          0.3836183948613633,
          0.3836050979272963,
          0.3835747254363034,
          0.38352706568578004,
          0.3834619181189483,
          0.3833790933985488,
          0.38327841346986824,
          0.38315971161307405,
          0.3830228324848464,
          0.38286763214930963,
          0.3826939780982814,
          0.38250174926087055,
          0.38229083600246866,
          0.3820611401131907,
          0.3818125747858353,
          0.38154506458344434,
          0.3812585453965489,
          0.3809529643902091,
          0.38062827994094967,
          0.38028446156371787,
          0.37992148982898455,
          0.3795393562701287,
          0.37913806328124466,
          0.37871762400552306,
          0.3782780622143613,
          0.3778194121773638,
          0.37734171852340287,
          0.37684503609290815,
          0.3763294297815673,
          0.3757949743756157,
          0.3752417543789044,
          0.3746698638319354,
          0.3740794061230582,
          0.3734704937920281,
          0.3728432483261224,
          0.37219779994902435,
          0.3715342874026789,
          0.3708528577223326,
          0.370153666004972,
          0.3694368751713744,
          0.3687026557219955,
          0.36795118548691236,
          0.36718264937005,
          0.36639723908792116,
          0.36559515290310907,
          0.3647765953527322,
          0.3639417769721269,
          0.3630909140139935,
          0.3622242281632499,
          0.3613419462478451,
          0.36044429994578553,
          0.35953152548863243,
          0.3586038633617364,
          0.35766155800147154,
          0.3567048574897465,
          0.3557340132460659,
          0.3547492797174251,
          0.3537509140663275,
          0.35273917585721376,
          0.3517143267416032,
          0.3506766301422496,
          0.34962635093662153,
          0.34856375514001925,
          0.34748910958865203,
          0.34640268162299837,
          0.34530473877178347,
          0.3441955484369079,
          0.3430753775796728,
          0.34194449240864827,
          0.34080315806953726,
          0.33965163833739515,
          0.33849019531156493,
          0.3373190891136983,
          0.33613857758923127,
          0.33494891601269383,
          0.3337503567972263,
          0.3325431492086904,
          0.33132753908475643,
          0.330103768559352,
          0.32887207579286376,
          0.32763269470847733,
          0.3263858547350479,
          0.3251317805568856,
          0.3238706918708519,
          0.32260280315114054,
          0.32132832342214046,
          0.3200474560397479,
          0.3187603984815125,
          0.317467342145984,
          0.31616847216162575,
          0.3148639672056511,
          0.3135539993331359,
          0.31223873381674655,
          0.3109183289974163,
          0.30959293614629063,
          0.3082626993382523,
          0.30692775533732286,
          0.30558823349422365,
          0.30424425565636765,
          0.30289593609053267,
          0.3015433814184575,
          0.300186690565577,
          0.2988259547231001,
          0.2974612573236146,
          0.2960926740303775,
          0.2947202727404375,
          0.2933441136017056,
          0.2919642490440733,
          0.2905807238246536,
          0.2891935750871931,
          0.287802832435683,
          0.28640851802216866,
          0.28501064664873416,
          0.283609225883608,
          0.28220425619131545,
          0.28079573107677064,
          0.27938363724317716,
          0.27796795476357605,
          0.27654865726585737,
          0.2751257121310143,
          0.2736990807044024,
          0.27226871851973056,
          0.2708345755354825,
          0.26939659638344826,
          0.26795472062900544,
          0.26650888304277565,
          0.26505901388324515,
          0.26360503918991757,
          0.2621468810865419,
          0.2606844580939291,
          0.2592176854518531,
          0.25774647544950396,
          0.2562707377639382,
          0.25479037980595604,
          0.2533053070728051,
          0.25181542350709984,
          0.2503206318613227,
          0.24882083406725491,
          0.24731593160967422,
          0.24580582590363756,
          0.24429041867465512,
          0.24276961234105104,
          0.2412433103977955,
          0.23971141780108315,
          0.23817384135292782,
          0.23663049008503564,
          0.23508127564121561,
          0.23352611265758516,
          0.23196491913982573,
          0.230397616836746,
          0.2288241316094122,
          0.22724439379510955,
          0.2256583385654048,
          0.22406590627758816,
          0.22246704281878082,
          0.2208616999420081,
          0.2192498355935474,
          0.21763141423087812,
          0.21600640713057417,
          0.21437479268549858,
          0.21273655669067826,
          0.21109169261725771,
          0.209440201873953,
          0.20778209405545045,
          0.20611738717721798,
          0.2044461078962265,
          0.20276829171710314,
          0.201083983183267,
          0.1993932360526291,
          0.1976961134574683,
          0.19599268804812517,
          0.19428304212019099,
          0.19256726772489882,
          0.19084546676246267,
          0.18911775105813852,
          0.1873842424208223,
          0.18564507268403307,
          0.18390038372916567,
          0.1821503274909304
         ],
         "yaxis": "y"
        },
        {
         "marker": {
          "color": "darkseagreen",
          "line": {
           "width": 2
          },
          "size": 10,
          "symbol": "star-diamond"
         },
         "name": "uploaded image",
         "type": "scatter",
         "x": [
          0.6200000047683716
         ],
         "y": [
          0.28543690290669305
         ]
        }
       ],
       "layout": {
        "barmode": "overlay",
        "height": 400,
        "hovermode": "closest",
        "legend": {
         "font": {
          "size": 12
         },
         "traceorder": "reversed"
        },
        "margin": {
         "b": 10,
         "l": 10,
         "r": 0,
         "t": 60
        },
        "paper_bgcolor": "lightsteelblue",
        "template": {
         "data": {
          "bar": [
           {
            "error_x": {
             "color": "#2a3f5f"
            },
            "error_y": {
             "color": "#2a3f5f"
            },
            "marker": {
             "line": {
              "color": "#E5ECF6",
              "width": 0.5
             },
             "pattern": {
              "fillmode": "overlay",
              "size": 10,
              "solidity": 0.2
             }
            },
            "type": "bar"
           }
          ],
          "barpolar": [
           {
            "marker": {
             "line": {
              "color": "#E5ECF6",
              "width": 0.5
             },
             "pattern": {
              "fillmode": "overlay",
              "size": 10,
              "solidity": 0.2
             }
            },
            "type": "barpolar"
           }
          ],
          "carpet": [
           {
            "aaxis": {
             "endlinecolor": "#2a3f5f",
             "gridcolor": "white",
             "linecolor": "white",
             "minorgridcolor": "white",
             "startlinecolor": "#2a3f5f"
            },
            "baxis": {
             "endlinecolor": "#2a3f5f",
             "gridcolor": "white",
             "linecolor": "white",
             "minorgridcolor": "white",
             "startlinecolor": "#2a3f5f"
            },
            "type": "carpet"
           }
          ],
          "choropleth": [
           {
            "colorbar": {
             "outlinewidth": 0,
             "ticks": ""
            },
            "type": "choropleth"
           }
          ],
          "contour": [
           {
            "colorbar": {
             "outlinewidth": 0,
             "ticks": ""
            },
            "colorscale": [
             [
              0,
              "#0d0887"
             ],
             [
              0.1111111111111111,
              "#46039f"
             ],
             [
              0.2222222222222222,
              "#7201a8"
             ],
             [
              0.3333333333333333,
              "#9c179e"
             ],
             [
              0.4444444444444444,
              "#bd3786"
             ],
             [
              0.5555555555555556,
              "#d8576b"
             ],
             [
              0.6666666666666666,
              "#ed7953"
             ],
             [
              0.7777777777777778,
              "#fb9f3a"
             ],
             [
              0.8888888888888888,
              "#fdca26"
             ],
             [
              1,
              "#f0f921"
             ]
            ],
            "type": "contour"
           }
          ],
          "contourcarpet": [
           {
            "colorbar": {
             "outlinewidth": 0,
             "ticks": ""
            },
            "type": "contourcarpet"
           }
          ],
          "heatmap": [
           {
            "colorbar": {
             "outlinewidth": 0,
             "ticks": ""
            },
            "colorscale": [
             [
              0,
              "#0d0887"
             ],
             [
              0.1111111111111111,
              "#46039f"
             ],
             [
              0.2222222222222222,
              "#7201a8"
             ],
             [
              0.3333333333333333,
              "#9c179e"
             ],
             [
              0.4444444444444444,
              "#bd3786"
             ],
             [
              0.5555555555555556,
              "#d8576b"
             ],
             [
              0.6666666666666666,
              "#ed7953"
             ],
             [
              0.7777777777777778,
              "#fb9f3a"
             ],
             [
              0.8888888888888888,
              "#fdca26"
             ],
             [
              1,
              "#f0f921"
             ]
            ],
            "type": "heatmap"
           }
          ],
          "heatmapgl": [
           {
            "colorbar": {
             "outlinewidth": 0,
             "ticks": ""
            },
            "colorscale": [
             [
              0,
              "#0d0887"
             ],
             [
              0.1111111111111111,
              "#46039f"
             ],
             [
              0.2222222222222222,
              "#7201a8"
             ],
             [
              0.3333333333333333,
              "#9c179e"
             ],
             [
              0.4444444444444444,
              "#bd3786"
             ],
             [
              0.5555555555555556,
              "#d8576b"
             ],
             [
              0.6666666666666666,
              "#ed7953"
             ],
             [
              0.7777777777777778,
              "#fb9f3a"
             ],
             [
              0.8888888888888888,
              "#fdca26"
             ],
             [
              1,
              "#f0f921"
             ]
            ],
            "type": "heatmapgl"
           }
          ],
          "histogram": [
           {
            "marker": {
             "pattern": {
              "fillmode": "overlay",
              "size": 10,
              "solidity": 0.2
             }
            },
            "type": "histogram"
           }
          ],
          "histogram2d": [
           {
            "colorbar": {
             "outlinewidth": 0,
             "ticks": ""
            },
            "colorscale": [
             [
              0,
              "#0d0887"
             ],
             [
              0.1111111111111111,
              "#46039f"
             ],
             [
              0.2222222222222222,
              "#7201a8"
             ],
             [
              0.3333333333333333,
              "#9c179e"
             ],
             [
              0.4444444444444444,
              "#bd3786"
             ],
             [
              0.5555555555555556,
              "#d8576b"
             ],
             [
              0.6666666666666666,
              "#ed7953"
             ],
             [
              0.7777777777777778,
              "#fb9f3a"
             ],
             [
              0.8888888888888888,
              "#fdca26"
             ],
             [
              1,
              "#f0f921"
             ]
            ],
            "type": "histogram2d"
           }
          ],
          "histogram2dcontour": [
           {
            "colorbar": {
             "outlinewidth": 0,
             "ticks": ""
            },
            "colorscale": [
             [
              0,
              "#0d0887"
             ],
             [
              0.1111111111111111,
              "#46039f"
             ],
             [
              0.2222222222222222,
              "#7201a8"
             ],
             [
              0.3333333333333333,
              "#9c179e"
             ],
             [
              0.4444444444444444,
              "#bd3786"
             ],
             [
              0.5555555555555556,
              "#d8576b"
             ],
             [
              0.6666666666666666,
              "#ed7953"
             ],
             [
              0.7777777777777778,
              "#fb9f3a"
             ],
             [
              0.8888888888888888,
              "#fdca26"
             ],
             [
              1,
              "#f0f921"
             ]
            ],
            "type": "histogram2dcontour"
           }
          ],
          "mesh3d": [
           {
            "colorbar": {
             "outlinewidth": 0,
             "ticks": ""
            },
            "type": "mesh3d"
           }
          ],
          "parcoords": [
           {
            "line": {
             "colorbar": {
              "outlinewidth": 0,
              "ticks": ""
             }
            },
            "type": "parcoords"
           }
          ],
          "pie": [
           {
            "automargin": true,
            "type": "pie"
           }
          ],
          "scatter": [
           {
            "marker": {
             "colorbar": {
              "outlinewidth": 0,
              "ticks": ""
             }
            },
            "type": "scatter"
           }
          ],
          "scatter3d": [
           {
            "line": {
             "colorbar": {
              "outlinewidth": 0,
              "ticks": ""
             }
            },
            "marker": {
             "colorbar": {
              "outlinewidth": 0,
              "ticks": ""
             }
            },
            "type": "scatter3d"
           }
          ],
          "scattercarpet": [
           {
            "marker": {
             "colorbar": {
              "outlinewidth": 0,
              "ticks": ""
             }
            },
            "type": "scattercarpet"
           }
          ],
          "scattergeo": [
           {
            "marker": {
             "colorbar": {
              "outlinewidth": 0,
              "ticks": ""
             }
            },
            "type": "scattergeo"
           }
          ],
          "scattergl": [
           {
            "marker": {
             "colorbar": {
              "outlinewidth": 0,
              "ticks": ""
             }
            },
            "type": "scattergl"
           }
          ],
          "scattermapbox": [
           {
            "marker": {
             "colorbar": {
              "outlinewidth": 0,
              "ticks": ""
             }
            },
            "type": "scattermapbox"
           }
          ],
          "scatterpolar": [
           {
            "marker": {
             "colorbar": {
              "outlinewidth": 0,
              "ticks": ""
             }
            },
            "type": "scatterpolar"
           }
          ],
          "scatterpolargl": [
           {
            "marker": {
             "colorbar": {
              "outlinewidth": 0,
              "ticks": ""
             }
            },
            "type": "scatterpolargl"
           }
          ],
          "scatterternary": [
           {
            "marker": {
             "colorbar": {
              "outlinewidth": 0,
              "ticks": ""
             }
            },
            "type": "scatterternary"
           }
          ],
          "surface": [
           {
            "colorbar": {
             "outlinewidth": 0,
             "ticks": ""
            },
            "colorscale": [
             [
              0,
              "#0d0887"
             ],
             [
              0.1111111111111111,
              "#46039f"
             ],
             [
              0.2222222222222222,
              "#7201a8"
             ],
             [
              0.3333333333333333,
              "#9c179e"
             ],
             [
              0.4444444444444444,
              "#bd3786"
             ],
             [
              0.5555555555555556,
              "#d8576b"
             ],
             [
              0.6666666666666666,
              "#ed7953"
             ],
             [
              0.7777777777777778,
              "#fb9f3a"
             ],
             [
              0.8888888888888888,
              "#fdca26"
             ],
             [
              1,
              "#f0f921"
             ]
            ],
            "type": "surface"
           }
          ],
          "table": [
           {
            "cells": {
             "fill": {
              "color": "#EBF0F8"
             },
             "line": {
              "color": "white"
             }
            },
            "header": {
             "fill": {
              "color": "#C8D4E3"
             },
             "line": {
              "color": "white"
             }
            },
            "type": "table"
           }
          ]
         },
         "layout": {
          "annotationdefaults": {
           "arrowcolor": "#2a3f5f",
           "arrowhead": 0,
           "arrowwidth": 1
          },
          "autotypenumbers": "strict",
          "coloraxis": {
           "colorbar": {
            "outlinewidth": 0,
            "ticks": ""
           }
          },
          "colorscale": {
           "diverging": [
            [
             0,
             "#8e0152"
            ],
            [
             0.1,
             "#c51b7d"
            ],
            [
             0.2,
             "#de77ae"
            ],
            [
             0.3,
             "#f1b6da"
            ],
            [
             0.4,
             "#fde0ef"
            ],
            [
             0.5,
             "#f7f7f7"
            ],
            [
             0.6,
             "#e6f5d0"
            ],
            [
             0.7,
             "#b8e186"
            ],
            [
             0.8,
             "#7fbc41"
            ],
            [
             0.9,
             "#4d9221"
            ],
            [
             1,
             "#276419"
            ]
           ],
           "sequential": [
            [
             0,
             "#0d0887"
            ],
            [
             0.1111111111111111,
             "#46039f"
            ],
            [
             0.2222222222222222,
             "#7201a8"
            ],
            [
             0.3333333333333333,
             "#9c179e"
            ],
            [
             0.4444444444444444,
             "#bd3786"
            ],
            [
             0.5555555555555556,
             "#d8576b"
            ],
            [
             0.6666666666666666,
             "#ed7953"
            ],
            [
             0.7777777777777778,
             "#fb9f3a"
            ],
            [
             0.8888888888888888,
             "#fdca26"
            ],
            [
             1,
             "#f0f921"
            ]
           ],
           "sequentialminus": [
            [
             0,
             "#0d0887"
            ],
            [
             0.1111111111111111,
             "#46039f"
            ],
            [
             0.2222222222222222,
             "#7201a8"
            ],
            [
             0.3333333333333333,
             "#9c179e"
            ],
            [
             0.4444444444444444,
             "#bd3786"
            ],
            [
             0.5555555555555556,
             "#d8576b"
            ],
            [
             0.6666666666666666,
             "#ed7953"
            ],
            [
             0.7777777777777778,
             "#fb9f3a"
            ],
            [
             0.8888888888888888,
             "#fdca26"
            ],
            [
             1,
             "#f0f921"
            ]
           ]
          },
          "colorway": [
           "#636efa",
           "#EF553B",
           "#00cc96",
           "#ab63fa",
           "#FFA15A",
           "#19d3f3",
           "#FF6692",
           "#B6E880",
           "#FF97FF",
           "#FECB52"
          ],
          "font": {
           "color": "#2a3f5f"
          },
          "geo": {
           "bgcolor": "white",
           "lakecolor": "white",
           "landcolor": "#E5ECF6",
           "showlakes": true,
           "showland": true,
           "subunitcolor": "white"
          },
          "hoverlabel": {
           "align": "left"
          },
          "hovermode": "closest",
          "mapbox": {
           "style": "light"
          },
          "paper_bgcolor": "white",
          "plot_bgcolor": "#E5ECF6",
          "polar": {
           "angularaxis": {
            "gridcolor": "white",
            "linecolor": "white",
            "ticks": ""
           },
           "bgcolor": "#E5ECF6",
           "radialaxis": {
            "gridcolor": "white",
            "linecolor": "white",
            "ticks": ""
           }
          },
          "scene": {
           "xaxis": {
            "backgroundcolor": "#E5ECF6",
            "gridcolor": "white",
            "gridwidth": 2,
            "linecolor": "white",
            "showbackground": true,
            "ticks": "",
            "zerolinecolor": "white"
           },
           "yaxis": {
            "backgroundcolor": "#E5ECF6",
            "gridcolor": "white",
            "gridwidth": 2,
            "linecolor": "white",
            "showbackground": true,
            "ticks": "",
            "zerolinecolor": "white"
           },
           "zaxis": {
            "backgroundcolor": "#E5ECF6",
            "gridcolor": "white",
            "gridwidth": 2,
            "linecolor": "white",
            "showbackground": true,
            "ticks": "",
            "zerolinecolor": "white"
           }
          },
          "shapedefaults": {
           "line": {
            "color": "#2a3f5f"
           }
          },
          "ternary": {
           "aaxis": {
            "gridcolor": "white",
            "linecolor": "white",
            "ticks": ""
           },
           "baxis": {
            "gridcolor": "white",
            "linecolor": "white",
            "ticks": ""
           },
           "bgcolor": "#E5ECF6",
           "caxis": {
            "gridcolor": "white",
            "linecolor": "white",
            "ticks": ""
           }
          },
          "title": {
           "x": 0.05
          },
          "xaxis": {
           "automargin": true,
           "gridcolor": "white",
           "linecolor": "white",
           "ticks": "",
           "title": {
            "standoff": 15
           },
           "zerolinecolor": "white",
           "zerolinewidth": 2
          },
          "yaxis": {
           "automargin": true,
           "gridcolor": "white",
           "linecolor": "white",
           "ticks": "",
           "title": {
            "standoff": 15
           },
           "zerolinecolor": "white",
           "zerolinewidth": 2
          }
         }
        },
        "title": {
         "font": {
          "size": 18
         },
         "text": "Predicted Probabilities for Pathological and Healthy Retinas",
         "x": 0.45,
         "y": 0.92
        },
        "width": 500,
        "xaxis": {
         "anchor": "y2",
         "domain": [
          0,
          1
         ],
         "range": [
          -0.1,
          1.1
         ],
         "tickfont": {
          "size": 15
         },
         "ticks": "outside",
         "title": {
          "font": {
           "size": 18
          },
          "text": "Predicted Probability"
         },
         "type": "linear",
         "zeroline": false
        },
        "yaxis": {
         "anchor": "free",
         "autorange": true,
         "domain": [
          0,
          1
         ],
         "position": 0,
         "range": [
          -0.30098709793829787,
          6.197804907892323
         ],
         "tickfont": {
          "size": 15
         },
         "ticks": "outside",
         "title": {
          "font": {
           "size": 18
          },
          "text": "Density in Distribution"
         },
         "type": "linear"
        }
       }
      },
      "image/png": "[encoded data removed]",
      "text/html": [
       "<div>                            <div id=\"b81af0be-a623-459e-be1e-bae4f61f07b1\" class=\"plotly-graph-div\" style=\"height:400px; width:500px;\"></div>            <script type=\"text/javascript\">                require([\"plotly\"], function(Plotly) {                    window.PLOTLYENV=window.PLOTLYENV || {};                                    if (document.getElementById(\"b81af0be-a623-459e-be1e-bae4f61f07b1\")) {                    Plotly.newPlot(                        \"b81af0be-a623-459e-be1e-bae4f61f07b1\",                        [{\"legendgroup\":\"Glaucoma\",\"marker\":{\"color\":\"rgb(31, 119, 180)\"},\"mode\":\"lines\",\"name\":\"Glaucoma\",\"showlegend\":true,\"x\":[0.3114631474018097,0.312840219438076,0.31421729147434235,0.31559436351060866,0.316971435546875,0.3183485075831413,0.3197255796194077,0.321102651655674,0.32247972369194033,0.32385679572820664,0.32523386776447294,0.3266109398007393,0.3279880118370056,0.32936508387327196,0.33074215590953826,0.3321192279458046,0.3334962999820709,0.3348733720183372,0.3362504440546036,0.3376275160908699,0.33900458812713624,0.34038166016340254,0.3417587321996689,0.3431358042359352,0.3445128762722015,0.34588994830846786,0.3472670203447342,0.3486440923810005,0.35002116441726683,0.3513982364535332,0.3527753084897995,0.35415238052606585,0.35552945256233215,0.3569065245985985,0.3582835966348648,0.3596606686711311,0.36103774070739747,0.3624148127436638,0.36379188477993013,0.36516895681619643,0.3665460288524628,0.3679231008887291,0.3693001729249954,0.37067724496126175,0.37205431699752806,0.3734313890337944,0.3748084610700607,0.3761855331063271,0.3775626051425934,0.3789396771788597,0.38031674921512604,0.3816938212513924,0.3830708932876587,0.384447965323925,0.38582503736019136,0.38720210939645766,0.388579181432724,0.3899562534689903,0.3913333255052567,0.392710397541523,0.3940874695777893,0.39546454161405564,0.39684161365032194,0.3982186856865883,0.3995957577228546,0.40097282975912096,0.40234990179538727,0.40372697383165357,0.4051040458679199,0.40648111790418623,0.4078581899404526,0.4092352619767189,0.41061233401298525,0.41198940604925155,0.41336647808551785,0.4147435501217842,0.41612062215805057,0.41749769419431687,0.4188747662305832,0.42025183826684953,0.42162891030311583,0.4230059823393822,0.4243830543756485,0.42576012641191485,0.42713719844818115,0.42851427048444746,0.4298913425207138,0.4312684145569801,0.4326454865932465,0.4340225586295128,0.43539963066577914,0.43677670270204544,0.43815377473831174,0.4395308467745781,0.44090791881084446,0.44228499084711076,0.44366206288337706,0.4450391349196434,0.4464162069559097,0.447793278992176,0.4491703510284424,0.45054742306470874,0.45192449510097504,0.45330156713724135,0.4546786391735077,0.456055711209774,0.4574327832460403,0.45880985528230667,0.460186927318573,0.4615639993548393,0.46294107139110563,0.464318143427372,0.46569521546363835,0.4670722874999046,0.46844935953617095,0.4698264315724373,0.4712035036087036,0.4725805756449699,0.47395764768123627,0.47533471971750263,0.47671179175376893,0.47808886379003523,0.4794659358263016,0.4808430078625679,0.4822200798988342,0.48359715193510056,0.4849742239713669,0.4863512960076332,0.4877283680438995,0.4891054400801659,0.4904825121164322,0.4918595841526985,0.49323665618896484,0.4946137282252312,0.4959908002614975,0.4973678722977638,0.49874494433403016,0.5001220163702965,0.5014990884065628,0.5028761604428291,0.5042532324790955,0.5056303045153618,0.5070073765516281,0.5083844485878944,0.5097615206241608,0.511138592660427,0.5125156646966934,0.5138927367329598,0.515269808769226,0.5166468808054924,0.5180239528417587,0.5194010248780251,0.5207780969142914,0.5221551689505577,0.523532240986824,0.5249093130230904,0.5262863850593567,0.527663457095623,0.5290405291318894,0.5304176011681556,0.531794673204422,0.5331717452406883,0.5345488172769547,0.5359258893132209,0.5373029613494873,0.5386800333857537,0.54005710542202,0.5414341774582863,0.5428112494945526,0.544188321530819,0.5455653935670852,0.5469424656033516,0.5483195376396179,0.5496966096758842,0.5510736817121505,0.5524507537484169,0.5538278257846833,0.5552048978209496,0.5565819698572159,0.5579590418934822,0.5593361139297486,0.5607131859660148,0.5620902580022812,0.5634673300385475,0.5648444020748138,0.5662214741110801,0.5675985461473465,0.5689756181836128,0.5703526902198792,0.5717297622561455,0.5731068342924118,0.5744839063286782,0.5758609783649444,0.5772380504012108,0.5786151224374771,0.5799921944737434,0.5813692665100098,0.5827463385462761,0.5841234105825424,0.5855004826188088,0.5868775546550751,0.5882546266913413,0.5896316987276078,0.591008770763874,0.5923858428001404,0.5937629148364068,0.595139986872673,0.5965170589089394,0.5978941309452057,0.599271202981472,0.6006482750177383,0.6020253470540047,0.6034024190902709,0.6047794911265374,0.6061565631628036,0.60753363519907,0.6089107072353364,0.6102877792716026,0.611664851307869,0.6130419233441353,0.6144189953804016,0.6157960674166679,0.6171731394529343,0.6185502114892005,0.619927283525467,0.6213043555617332,0.6226814275979995,0.624058499634266,0.6254355716705322,0.6268126437067986,0.6281897157430649,0.6295667877793312,0.6309438598155975,0.6323209318518639,0.6336980038881301,0.6350750759243965,0.6364521479606629,0.6378292199969291,0.6392062920331956,0.6405833640694618,0.6419604361057282,0.6433375081419945,0.6447145801782608,0.6460916522145271,0.6474687242507935,0.6488457962870597,0.6502228683233261,0.6515999403595925,0.6529770123958587,0.6543540844321252,0.6557311564683914,0.6571082285046577,0.6584853005409241,0.6598623725771904,0.6612394446134567,0.6626165166497231,0.6639935886859893,0.6653706607222557,0.6667477327585221,0.6681248047947883,0.6695018768310547,0.670878948867321,0.6722560209035873,0.6736330929398537,0.67501016497612,0.6763872370123863,0.6777643090486527,0.679141381084919,0.6805184531211853,0.6818955251574517,0.6832725971937179,0.6846496692299843,0.6860267412662506,0.6874038133025169,0.6887808853387833,0.6901579573750496,0.6915350294113158,0.6929121014475823,0.6942891734838486,0.6956662455201149,0.6970433175563813,0.6984203895926475,0.6997974616289139,0.7011745336651802,0.7025516057014465,0.7039286777377128,0.7053057497739792,0.7066828218102454,0.7080598938465119,0.7094369658827782,0.7108140379190445,0.7121911099553109,0.7135681819915771,0.7149452540278435,0.7163223260641098,0.7176993981003761,0.7190764701366424,0.7204535421729088,0.721830614209175,0.7232076862454415,0.7245847582817078,0.725961830317974,0.7273389023542405,0.7287159743905067,0.7300930464267731,0.7314701184630394,0.7328471904993057,0.734224262535572,0.7356013345718384,0.7369784066081047,0.738355478644371,0.7397325506806374,0.7411096227169036,0.7424866947531701,0.7438637667894363,0.7452408388257027,0.746617910861969,0.7479949828982353,0.7493720549345017,0.750749126970768,0.7521261990070343,0.7535032710433006,0.754880343079567,0.7562574151158332,0.7576344871520997,0.7590115591883659,0.7603886312246322,0.7617657032608987,0.7631427752971649,0.7645198473334313,0.7658969193696976,0.7672739914059639,0.7686510634422302,0.7700281354784966,0.7714052075147628,0.7727822795510292,0.7741593515872955,0.7755364236235618,0.7769134956598283,0.7782905676960945,0.7796676397323609,0.7810447117686272,0.7824217838048935,0.7837988558411598,0.7851759278774262,0.7865529999136924,0.7879300719499588,0.7893071439862251,0.7906842160224914,0.7920612880587579,0.7934383600950241,0.7948154321312904,0.7961925041675568,0.7975695762038231,0.7989466482400894,0.8003237202763558,0.801700792312622,0.8030778643488884,0.8044549363851548,0.805832008421421,0.8072090804576874,0.8085861524939537,0.80996322453022,0.8113402965664864,0.8127173686027527,0.814094440639019,0.8154715126752854,0.8168485847115516,0.818225656747818,0.8196027287840844,0.8209798008203506,0.822356872856617,0.8237339448928833,0.8251110169291497,0.8264880889654159,0.8278651610016823,0.8292422330379486,0.8306193050742149,0.8319963771104812,0.8333734491467476,0.834750521183014,0.8361275932192802,0.8375046652555466,0.8388817372918129,0.8402588093280792,0.8416358813643455,0.8430129534006119,0.8443900254368782,0.8457670974731445,0.8471441695094108,0.8485212415456772,0.8498983135819436,0.8512753856182098,0.8526524576544762,0.8540295296907425,0.8554066017270088,0.8567836737632751,0.8581607457995415,0.8595378178358078,0.8609148898720741,0.8622919619083405,0.8636690339446068,0.8650461059808731,0.8664231780171394,0.8678002500534058,0.8691773220896721,0.8705543941259384,0.8719314661622047,0.8733085381984711,0.8746856102347373,0.8760626822710037,0.8774397543072701,0.8788168263435364,0.8801938983798027,0.881570970416069,0.8829480424523354,0.8843251144886017,0.885702186524868,0.8870792585611343,0.8884563305974007,0.889833402633667,0.8912104746699333,0.8925875467061997,0.893964618742466,0.8953416907787323,0.8967187628149986,0.898095834851265,0.8994729068875312,0.9008499789237976,0.902227050960064,0.9036041229963303,0.9049811950325966,0.9063582670688629,0.9077353391051293,0.9091124111413955,0.9104894831776619,0.9118665552139282,0.9132436272501946,0.9146206992864608,0.9159977713227272,0.9173748433589936,0.9187519153952599,0.9201289874315262,0.9215060594677925,0.9228831315040589,0.9242602035403251,0.9256372755765915,0.9270143476128578,0.9283914196491242,0.9297684916853904,0.9311455637216568,0.9325226357579232,0.9338997077941894,0.9352767798304558,0.9366538518667221,0.9380309239029885,0.9394079959392547,0.9407850679755211,0.9421621400117874,0.9435392120480537,0.94491628408432,0.9462933561205864,0.9476704281568528,0.949047500193119,0.9504245722293854,0.9518016442656517,0.9531787163019181,0.9545557883381843,0.9559328603744507,0.957309932410717,0.9586870044469833,0.9600640764832497,0.961441148519516,0.9628182205557824,0.9641952925920486,0.965572364628315,0.9669494366645813,0.9683265087008476,0.9697035807371139,0.9710806527733803,0.9724577248096467,0.9738347968459129,0.9752118688821793,0.9765889409184456,0.9779660129547119,0.9793430849909782,0.9807201570272446,0.9820972290635109,0.9834743010997772,0.9848513731360435,0.9862284451723099,0.9876055172085763,0.9889825892448425,0.9903596612811089,0.9917367333173752,0.9931138053536415,0.9944908773899078,0.9958679494261742,0.9972450214624405,0.9986220934987068],\"xaxis\":\"x\",\"y\":[0.09670914267404607,0.09667807634056272,0.09658014791309129,0.09641559346336348,0.09618479047429751,0.09588825680309972,0.09552664917872704,0.09510076124223615,0.09461152114077377,0.09405998868813134,0.09344735210686574,0.09277492436897555,0.09204413915400236,0.09125654644518477,0.09041380778592394,0.08951769122030902,0.08857006594279257,0.08757289668329137,0.08652823785501065,0.08543822749314396,0.08430508101328293,0.08313108481887731,0.08191858978741566,0.0806700046651482,0.07938778940014694,0.07807444844330075,0.07673252404646762,0.07536458958646748,0.07397324294289827,0.07256109995689691,0.07113078799696505,0.06968493965682629,0.06822618660901328,0.06675715363647702,0.06528045286300858,0.0637986782016543,0.06231440003861418,0.06083016016834236,0.059348466993743784,0.05787179100347819,0.05640256053647043,0.0549431578417899,0.05349591544011096,0.05206311279102773,0.05064697326856494,0.04924966144532746,0.047873280683875516,0.04651987103209995,0.04519140741763456,0.043889798134667285,0.0426168836149284,0.041374435473140785,0.040164155815821945,0.03898767680104809,0.037846560435620166,0.03674229859502657,0.03567631325067905,0.034649956888109755,0.03366451309916374,0.03272119733070613,0.031821157771982515,0.030965476362534713,0.030155169902471583,0.029391191246931236,0.028674430566745984,0.02800571665762243,0.02738581828058703,0.026815445517002323,0.026295251122139054,0.025825831862079134,0.025407729819621725,0.02504143365586332,0.024727379815209737,0.024465953662751904,0.02425749054418314,0.024102276759748867,0.024000550445087167,0.02395250235323313,0.023958276533509276,0.02401797090449939,0.024131637719792442,0.024299283926676768,0.024520871419451074,0.024796317190488033,0.02512549338362672,0.02550822725587254,0.02594430105473547,0.026433451819831616,0.026975371118597765,0.02756970472711356,0.02821605226808626,0.028913966819013207,0.029662954504397786,0.03046247408663921,0.03131193657084582,0.03221070483932589,0.03315809333188135,0.03415336778827245,0.03519574506931878,0.03628439307306356,0.03741843076224457,0.038596928318984765,0.039818907442144245,0.04108334180215911,0.04238915766743119,0.04373523471543883,0.04512040704070221,0.04654346437057524,0.04800315349854916,0.04949817994334372,0.051027209840552576,0.05258887207198764,0.0541817606361644,0.05580443726158165,0.0574554342625929,0.05913325763575034,0.06083639039255326,0.06256329612253689,0.06431242277863976,0.06608220667478057,0.06787107668358609,0.06967745862024709,0.07149977979655972,0.07333647372735307,0.07518598496971832,0.07704677407375729,0.0789173226219834,0.08079613833303531,0.08268176020402783,0.0845727636646744,0.08646776571528546,0.08836543001989075,0.09026447192505006,0.09216366337443704,0.09406183768899219,0.09595789418235846,0.09785080258145286,0.09973960722236781,0.10162343099237235,0.10350147898956837,0.10537304187276368,0.10723749887535511,0.10909432045844561,0.11094307058007498,0.1127834085592809,0.11461509051575147,0.11643797036804569,0.11825200037574138,0.12005723121341191,0.12185381156701149,0.12364198724604353,0.12542209980779356,0.1271945846928946,0.12895996887454175,0.13071886802677218,0.13247198322033474,0.13422009715779826,0.13596406996263102,0.1377048345400285,0.139443391530247,0.14118080387807697,0.1429181910448551,0.14465672289205336,0.14639761326794248,0.14814211333112967,0.1498915046468569,0.15164709209383298,0.15341019662101155,0.15518214789512869,0.15696427688094916,0.15875790839703938,0.1605643536904607,0.16238490307407732,0.16422081867016727,0.16607332730372787,0.16794361358826934,0.16983281324599667,0.17174200670309306,0.17367221299934224,0.17562438404958078,0.17759939929244659,0.17959806075961857,0.18162108859623413,0.18366911706042682,0.18574269102699914,0.18784226301711532,0.18996819077262422,0.19212073539019975,0.19430006002695935,0.1965062291855995,0.19873920858341954,0.20099886560588304,0.2032849703416663,0.20559719719244265,0.20793512704701117,0.21029825000581887,0.21268596863846245,0.21509760175342124,0.21753238865610622,0.21998949386830488,0.22246801227929974,0.22496697469637572,0.22748535376007148,0.23002207018746182,0.23257599930494077,0.23514597783043503,0.23773081086374942,0.2403292790427938,0.24294014582281187,0.24556216483539903,0.248194087284066,0.2508346693333924,0.2534826794493834,0.25613690564951247,0.25879616262206595,0.26145929867584145,0.2641252024828845,0.2667928095788696,0.2694611085878372,0.2721291471403051,0.27479603745626585,0.2774609615672078,0.28012317615406357,0.28278201698084876,0.28543690290669305,0.2880873394619465,0.2907329219770666,0.2933733382559752,0.2960083707885682,0.29863789849998845,0.3012618980370867,0.3038804445952773,0.30649371229158645,0.30910197409217705,0.311705601304952,0.31430506264996916,0.31690092292234195,0.3194938412640425,0.3220845690625457,0.32467394749553713,0.32726290474200287,0.3298524528808246,0.332443684498639,0.3350377690290677,0.33763594884559783,0.3402395351303036,0.34284990354033024,0.3454684896935816,0.3480967844943852,0.3507363293190784,0.35338871108046654,0.35605555718899184,0.3587385304271963,0.3614393237527406,0.36415965504384007,0.36690126179949795,0.3696658958054533,0.3724553177752565,0.37527129197440995,0.37811558083407637,0.3809899395594765,0.3838961107368064,0.38683581894130004,0.3898107653479961,0.39282262234581306,0.3958730281547589,0.3989635814454605,0.40209583595975606,0.40527129513082055,0.408491406701217,0.41175755733739033,0.4150710672394323,0.4184331847454631,0.42184508093069095,0.425307844202107,0.4288224748908574,0.432389879845606,0.4360108670316032,0.4396861401417607,0.4434162932277373,0.447201805360843,0.451043035334498,0.45494021642197285,0.458893451205164,0.46290270649226,0.46696780834421375,0.47108843723201255,0.4752641233487659,0.47949424210258895,0.4837780098181229,0.4881144796763116,0.49250253792364995,0.4969409003836011,0.5014281093041575,0.5059625305765971,0.5105423513613639,0.5151655781576178,0.519830035353396,0.5245333642934342,0.5292730229015551,0.5340462858940848,0.5388502456200637,0.5436818135629744,0.5485377225374466,0.5534145296127947,0.558308619793364,0.5632162104835463,0.56813335676287,0.573055957493928,0.5779797622829798,0.5829003793099281,0.5878132840410177,0.5927138288340779,0.5975972534424296,0.6024586964197116,0.6072932074239776,0.6120957604152995,0.6168612677370544,0.6215845950668957,0.6262605772192715,0.6308840347772077,0.635449791527009,0.6399526926655141,0.6443876237456592,0.6487495303223435,0.6530334382569786,0.6572344746357311,0.6613478892532121,0.6653690766104557,0.6692935983732848,0.6731172062347205,0.6768358651229566,0.6804457766945546,0.6839434030509753,0.6873254906153741,0.6905890941056574,0.6937316005392813,0.6967507532050355,0.6996446755371603,0.7024118948275719,0.7050513657127463,0.7075624933728132,0.7099451563817997,0.7121997291495553,0.714327103897754,0.7163287121144775,0.7182065454341882,0.7199631758923722,0.7216017755067792,0.7231261351399284,0.7245406826003985,0.7258504999433009,0.7270613399332396,0.7281796416359623,0.7292125451077267,0.7301679051541495,0.7310543041329081,0.7318810637771143,0.7326582560184189,0.7333967127908937,0.7341080347985005,0.7348045992303565,0.7354995664091276,0.7362068853586367,0.7369412982770999,0.737718343902431,0.7385543597555448,0.7394664832467545,0.7404726516290184,0.7415916007800488,0.7428428627930731,0.7442467623534442,0.7458244118751932,0.7475977053681937,0.749589311002737,0.7518226623341212,0.7543219481453202,0.7571121008609984,0.7602187834810697,0.7636683749767743,0.7674879540868531,0.7717052814459693,0.7763487799720731,0.7814475134339995,0.7870311631153799,0.793130002485885,0.7997748697861243,0.8069971384281764,0.8148286851098797,0.8233018555377357,0.832449427650621,0.8423045722346646,0.8529008108185879,0.8642719707387357,0.8764521372639027,0.8894756026721418,0.9033768121749144,0.9181903065884635,0.9339506616580563,0.9506924239480394,0.9684500432192363,0.9872578012254649,1.0071497368726399,1.028159567697289,1.0503206076360416,1.0736656810743885,1.0982270331807862,1.124036236552122,1.151124094217407,1.179520539069562,1.209254529818926,1.2403539435877364,1.2728454652913714,1.3067544739800376,1.3421049263432323,1.3789192376091204,1.4172181601012124,1.4570206597457498,1.4983437908542843,1.5412025695375102,1.585609846137631,1.6315761770976438,1.6791096967163839,1.7282159892681306,1.778897961994011,1.8311557195002948,1.8849864401243146,1.940384254853243,1.9973401294027309,2.055841750082555,2.115873414093473,2.1774159249139444,2.2404464934469193,2.304938645604669,2.370862137014502,2.4381828755289434,2.506862852220939,2.5768600815375087,2.6481285512741706,2.7206181830165166,2.794274803675591,2.8690401287189804,2.944851757670668,3.0216431824188925,3.0993438088333853,3.1778789921506836,3.257170086539601,3.3371345092072313,3.417685819351647,3.4987338122073437,3.580184628367848,3.6619408785028043,3.7439017835188424,3.825963330140684,3.908018441815288,3.9899571647652907,4.071666868940383,4.153032463535918,4.233936626668701,4.314260048719789,4.393881688774618,4.472679043511791,4.550528427814614,4.627305266303298,4.702884394912837,4.7771403715706535,4.849947794961335,4.921181630302042,4.990717540993676,5.058432224958469,5.124203754425967,5.187911917886237,5.249438562891803,5.30866793835946,5.365487034998884,5.419785922478359,5.471458081927729,5.520400732377189,5.566515149735136,5.609706976921762,5.649886523795526,5.686969055538256,5.720875068200357,5.751530550151388,5.778867228231972,5.802822797461085,5.823341133217394,5.8403724848849485,5.853873650030702,5.863808128264711,5.87014625402231,5.872865307600792,5.871949603880625,5.867390558262424,5.859186729455043,5.84734383885705,5.831874766382142,5.812799522689004,5.790145197886062,5.763945886891888],\"yaxis\":\"y\",\"type\":\"scatter\"},{\"legendgroup\":\"Healthy\",\"marker\":{\"color\":\"rgb(255, 127, 14)\"},\"mode\":\"lines\",\"name\":\"Healthy\",\"showlegend\":true,\"x\":[3.334456778247841e-05,0.001865824351196352,0.0036983041346102257,0.005530783918024099,0.007363263701437973,0.009195743484851845,0.011028223268265719,0.012860703051679592,0.014693182835093467,0.01652566261850734,0.018358142401921212,0.020190622185335086,0.02202310196874896,0.023855581752162833,0.025688061535576706,0.02752054131899058,0.029353021102404456,0.03118550088581833,0.0330179806692322,0.03485046045264607,0.03668294023605995,0.03851542001947382,0.04034789980288769,0.04218037958630157,0.04401285936971544,0.045845339153129314,0.04767781893654319,0.04951029871995706,0.051342778503370934,0.05317525828678481,0.05500773807019868,0.056840217853612554,0.058672697637026434,0.06050517742044031,0.06233765720385418,0.06417013698726805,0.06600261677068192,0.0678350965540958,0.06966757633750967,0.07150005612092354,0.07333253590433741,0.07516501568775129,0.07699749547116516,0.07882997525457903,0.08066245503799291,0.08249493482140678,0.08432741460482066,0.08615989438823453,0.0879923741716484,0.08982485395506228,0.09165733373847615,0.09348981352189002,0.0953222933053039,0.09715477308871777,0.09898725287213164,0.10081973265554552,0.10265221243895939,0.10448469222237326,0.10631717200578714,0.10814965178920101,0.10998213157261488,0.11181461135602876,0.11364709113944263,0.11547957092285652,0.11731205070627039,0.11914453048968426,0.12097701027309814,0.12280949005651201,0.12464196983992588,0.12647444962333976,0.12830692940675362,0.1301394091901675,0.13197188897358136,0.13380436875699525,0.1356368485404091,0.137469328323823,0.13930180810723686,0.14113428789065074,0.1429667676740646,0.1447992474574785,0.14663172724089235,0.14846420702430624,0.1502966868077201,0.15212916659113399,0.15396164637454784,0.15579412615796173,0.1576266059413756,0.15945908572478948,0.16129156550820334,0.16312404529161723,0.16495652507503109,0.16678900485844497,0.16862148464185883,0.17045396442527272,0.17228644420868658,0.17411892399210047,0.17595140377551433,0.1777838835589282,0.17961636334234207,0.18144884312575596,0.18328132290916982,0.1851138026925837,0.18694628247599757,0.18877876225941145,0.1906112420428253,0.1924437218262392,0.19427620160965306,0.19610868139306695,0.1979411611764808,0.1997736409598947,0.20160612074330855,0.20343860052672244,0.2052710803101363,0.2071035600935502,0.20893603987696405,0.21076851966037793,0.2126009994437918,0.21443347922720568,0.21626595901061954,0.21809843879403343,0.2199309185774473,0.22176339836086117,0.22359587814427503,0.22542835792768892,0.22726083771110278,0.22909331749451667,0.23092579727793056,0.23275827706134442,0.2345907568447583,0.23642323662817216,0.23825571641158605,0.2400881961949999,0.2419206759784138,0.24375315576182766,0.24558563554524154,0.2474181153286554,0.2492505951120693,0.25108307489548315,0.25291555467889704,0.2547480344623109,0.25658051424572476,0.25841299402913864,0.26024547381255253,0.2620779535959664,0.26391043337938025,0.26574291316279414,0.267575392946208,0.2694078727296219,0.27124035251303574,0.27307283229644963,0.2749053120798635,0.2767377918632774,0.27857027164669124,0.2804027514301051,0.282235231213519,0.2840677109969329,0.28590019078034673,0.2877326705637606,0.2895651503471745,0.2913976301305884,0.2932301099140022,0.2950625896974161,0.29689506948083,0.2987275492642439,0.3005600290476577,0.3023925088310716,0.3042249886144855,0.3060574683978994,0.3078899481813132,0.3097224279647271,0.311554907748141,0.3133873875315549,0.3152198673149687,0.3170523470983826,0.3188848268817965,0.32071730666521037,0.3225497864486242,0.3243822662320381,0.326214746015452,0.32804722579886586,0.3298797055822797,0.3317121853656936,0.33354466514910747,0.33537714493252135,0.3372096247159352,0.3390421044993491,0.34087458428276296,0.34270706406617685,0.3445395438495907,0.34637202363300457,0.34820450341641845,0.35003698319983234,0.3518694629832462,0.35370194276666006,0.35553442255007395,0.35736690233348783,0.35919938211690167,0.36103186190031555,0.36286434168372944,0.36469682146714333,0.36652930125055716,0.36836178103397105,0.37019426081738493,0.3720267406007988,0.37385922038421265,0.37569170016762654,0.37752417995104043,0.3793566597344543,0.38118913951786815,0.38302161930128203,0.3848540990846959,0.3866865788681098,0.38851905865152364,0.39035153843493753,0.3921840182183514,0.3940164980017653,0.39584897778517913,0.397681457568593,0.3995139373520069,0.4013464171354208,0.40317889691883463,0.4050113767022485,0.4068438564856624,0.4086763362690763,0.4105088160524901,0.412341295835904,0.4141737756193179,0.4160062554027318,0.4178387351861456,0.4196712149695595,0.4215036947529734,0.4233361745363873,0.4251686543198011,0.427001134103215,0.4288336138866289,0.43066609367004277,0.4324985734534566,0.4343310532368705,0.4361635330202844,0.43799601280369826,0.4398284925871121,0.441660972370526,0.44349345215393987,0.44532593193735376,0.4471584117207676,0.4489908915041815,0.45082337128759536,0.45265585107100925,0.4544883308544231,0.45632081063783697,0.45815329042125086,0.45998577020466475,0.46181824998807863,0.46365072977149246,0.46548320955490635,0.46731568933832024,0.4691481691217341,0.47098064890514796,0.47281312868856185,0.47464560847197573,0.4764780882553896,0.47831056803880345,0.48014304782221734,0.4819755276056312,0.4838080073890451,0.48564048717245895,0.48747296695587283,0.4893054467392867,0.4911379265227006,0.49297040630611444,0.4948028860895283,0.4966353658729422,0.4984678456563561,0.50030032543977,0.5021328052231838,0.5039652850065977,0.5057977647900116,0.5076302445734254,0.5094627243568394,0.5112952041402532,0.513127683923667,0.514960163707081,0.5167926434904948,0.5186251232739086,0.5204576030573226,0.5222900828407364,0.5241225626241504,0.5259550424075642,0.527787522190978,0.529620001974392,0.5314524817578058,0.5332849615412196,0.5351174413246336,0.5369499211080474,0.5387824008914613,0.5406148806748752,0.542447360458289,0.544279840241703,0.5461123200251168,0.5479447998085306,0.5497772795919446,0.5516097593753584,0.5534422391587723,0.5552747189421862,0.5571071987256,0.5589396785090139,0.5607721582924278,0.5626046380758416,0.5644371178592555,0.5662695976426694,0.5681020774260833,0.5699345572094972,0.571767036992911,0.5735995167763249,0.5754319965597388,0.5772644763431526,0.5790969561265665,0.5809294359099804,0.5827619156933943,0.5845943954768081,0.586426875260222,0.5882593550436359,0.5900918348270497,0.5919243146104636,0.5937567943938775,0.5955892741772914,0.5974217539607053,0.5992542337441191,0.601086713527533,0.6029191933109469,0.6047516730943607,0.6065841528777746,0.6084166326611885,0.6102491124446023,0.6120815922280163,0.6139140720114301,0.6157465517948439,0.6175790315782579,0.6194115113616717,0.6212439911450856,0.6230764709284995,0.6249089507119133,0.6267414304953273,0.6285739102787411,0.6304063900621549,0.6322388698455689,0.6340713496289827,0.6359038294123965,0.6377363091958105,0.6395687889792243,0.6414012687626383,0.6432337485460521,0.6450662283294659,0.6468987081128799,0.6487311878962937,0.6505636676797075,0.6523961474631215,0.6542286272465353,0.6560611070299492,0.6578935868133631,0.6597260665967769,0.6615585463801908,0.6633910261636047,0.6652235059470185,0.6670559857304325,0.6688884655138463,0.6707209452972602,0.6725534250806741,0.6743859048640879,0.6762183846475018,0.6780508644309157,0.6798833442143295,0.6817158239977434,0.6835483037811573,0.6853807835645712,0.687213263347985,0.6890457431313989,0.6908782229148128,0.6927107026982267,0.6945431824816406,0.6963756622650544,0.6982081420484683,0.7000406218318822,0.701873101615296,0.7037055813987099,0.7055380611821238,0.7073705409655376,0.7092030207489516,0.7110355005323654,0.7128679803157792,0.7147004600991932,0.716532939882607,0.7183654196660209,0.7201978994494348,0.7220303792328486,0.7238628590162626,0.7256953387996764,0.7275278185830902,0.7293602983665042,0.731192778149918,0.7330252579333318,0.7348577377167458,0.7366902175001596,0.7385226972835736,0.7403551770669874,0.7421876568504012,0.7440201366338152,0.745852616417229,0.7476850962006428,0.7495175759840568,0.7513500557674706,0.7531825355508845,0.7550150153342984,0.7568474951177122,0.7586799749011262,0.76051245468454,0.7623449344679538,0.7641774142513678,0.7660098940347816,0.7678423738181955,0.7696748536016094,0.7715073333850232,0.7733398131684371,0.775172292951851,0.7770047727352648,0.7788372525186787,0.7806697323020926,0.7825022120855065,0.7843346918689204,0.7861671716523342,0.7879996514357481,0.789832131219162,0.7916646110025758,0.7934970907859897,0.7953295705694036,0.7971620503528175,0.7989945301362313,0.8008270099196452,0.8026594897030591,0.804491969486473,0.8063244492698868,0.8081569290533007,0.8099894088367146,0.8118218886201285,0.8136543684035423,0.8154868481869562,0.8173193279703701,0.8191518077537839,0.8209842875371978,0.8228167673206117,0.8246492471040255,0.8264817268874395,0.8283142066708533,0.8301466864542671,0.8319791662376811,0.8338116460210949,0.8356441258045088,0.8374766055879227,0.8393090853713365,0.8411415651547505,0.8429740449381643,0.8448065247215781,0.8466390045049921,0.8484714842884059,0.8503039640718197,0.8521364438552337,0.8539689236386475,0.8558014034220615,0.8576338832054753,0.8594663629888891,0.8612988427723031,0.8631313225557169,0.8649638023391307,0.8667962821225447,0.8686287619059585,0.8704612416893724,0.8722937214727863,0.8741262012562001,0.875958681039614,0.8777911608230279,0.8796236406064417,0.8814561203898557,0.8832886001732695,0.8851210799566834,0.8869535597400973,0.8887860395235111,0.890618519306925,0.8924509990903389,0.8942834788737527,0.8961159586571666,0.8979484384405805,0.8997809182239944,0.9016133980074083,0.9034458777908221,0.905278357574236,0.9071108373576499,0.9089433171410637,0.9107757969244776,0.9126082767078915,0.9144407564913054],\"xaxis\":\"x\",\"y\":[2.408312930568136,2.415792520374462,2.4227431348583393,2.429160985208398,2.435042662625695,2.440385141958014,2.445185784876657,2.4494423425910505,2.453152958097166,2.456316167956596,2.4589309036038913,2.460996492180548,2.4625126568948446,2.4634795169075057,2.463897586743966,2.4637677752347957,2.463091383986618,2.4618701053866743,2.4601060201448806,2.4578015943780547,2.454959676241704,2.4515834921154913,2.447676642349247,2.443243096577071,2.4382871886077844,2.432813610900623,2.426827408635744,2.420333973389751,2.4133390364269993,2.4058486616180907,2.3978692379974795,2.38940747197264,2.3804703791978006,2.3710652761256674,2.361199771251021,2.3508817560605473,2.340119395703565,2.3289211193987374,2.317295610592163,2.3052517968825117,2.292798839729213,2.2799461239598373,2.266703247093076,2.2530800084939075,2.2390863983776153,2.22473258667947,2.210028911806949,2.1949858692914197,2.1796141003561784,2.1639243804177815,2.147927607537479,2.1316347908395175,2.115057038912974,2.0982055482135906,2.0810915914819494,2.0637265061941013,2.046121683060542,2.0282885545891776,2.0102385837276064,1.9919832525997954,1.9735340513518427,1.9549024671211788,1.9360999731432198,1.917138018009026,1.898028015087154,1.8787813321224398,1.8594092810239635,1.83992310785406,1.8203339830296594,1.8006529917467966,1.780891124638643,1.7610592686768023,1.7411681983251968,1.721228566955207,1.7012508985303136,1.6812455795677839,1.6612228513845373,1.641192802633629,1.6211653621373232,1.60115029202209,1.5811571811603364,1.5611954389230835,1.5412742892472595,1.5214027650206847,1.501589702787313,1.4818437377746745,1.4621732992449925,1.4425866061708246,1.4230916632356299,1.4036962571590603,1.3844079533463274,1.3652340928604374,1.3461817897156454,1.3272579284899526,1.3084691622540405,1.2898219108135676,1.2713223592613054,1.2529764568351958,1.234789916077965,1.216768212293565,1.1989165832953375,1.1812400294403975,1.163743313944451,1.1464309634708751,1.1293072689876285,1.1123762868852325,1.0956418403488213,1.0791075209769792,1.0627766906398703,1.0466524835689293,1.030737808670188,1.0150353520531368,0.9995475797668528,0.984276740734976,0.969224869880995,0.9543937914351874,0.9397851224144823,0.9254002762664082,0.9112404666682736,0.8973067114726372,0.8835998367901504,0.8701204812008083,0.8568691000846653,0.8438459700631028,0.8310511935417572,0.8184847033462846,0.8061462674421866,0.7940354937300186,0.7821518349073805,0.7704945933892036,0.7590629262779577,0.747855850375536,0.7368722472287071,0.7261108682001853,0.7155703395575148,0.7052491675721462,0.6951457436212489,0.685258349285001,0.6755851614322781,0.6661242572878787,0.6568736194746101,0.6478311410237998,0.6389946303479848,0.630361816169777,0.6219303524011228,0.6136978229674034,0.6056617465710643,0.5978195813896908,0.5901687297036955,0.5827065424490163,0.5754303236904754,0.5683373350116856,0.561424799817636,0.5546899075463363,0.5481298177861385,0.5417416642955994,0.5355225589229858,0.529469595422764,0.5235798531666565,0.5178504007470752,0.5122782994709809,0.5068606067424354,0.5015943793323562,0.4964766765341821,0.4915045632043934,0.4866751126870334,0.4819854096215889,0.47743255263379114,0.47301365690909447,0.4687258566487843,0.4645663074088556,0.4605321883219795,0.45662070420305684,0.45282908753902346,0.44915460036374205,0.4455945360189653,0.4421462208025101,0.4388070155049345,0.43557431683613657,0.4324455587434319,0.4294182136227982,0.42648979342508336,0.4236578506590986,0.4209199792936118,0.4182738155603701,0.415717038660361,0.4132473713756185,0.4108625805889547,0.408560477714073,0.4063389190385928,0.4041958059825637,0.40212908527511965,0.40013674905195934,0.3982168348763867,0.39636742568668903,0.39458664967265283,0.392872680084049,0.39122373497393775,0.38963807687966256,0.38811401244440624,0.3866498919821957,0.3852441089892313,0.38389509960442375,0.3826013420220039,0.3813613558590588,0.38017370148083257,0.37903697928660396,0.3779498289589289,0.3769109286790049,0.3759189943108811,0.37497277855720146,0.37407107008912416,0.37321269265302137,0.37239650415651415,0.37162139573634617,0.3708862908105528,0.37019014411731954,0.36953194074287676,0.3689106951407068,0.3683254501442892,0.36777527597553916,0.3672592692510328,0.36677655198804726,0.36632627061237105,0.3659075949697803,0.36551971734299565,0.36516185147587277,0.3648332316065023,0.3645331115108256,0.36426076355829934,0.3640154777810654,0.36379656095801766,0.3636033357150721,0.3634351396428831,0.36329132443317264,0.36317125503475983,0.36307430883031594,0.3629998748347914,0.3629473529163867,0.3629161530408781,0.36290569454002725,0.3629154054047442,0.3629447216035959,0.36299308642719436,0.3630599498589233,0.363144767972402,0.3632470023560224,0.3633661195648275,0.363501590599943,0.36365289041571247,0.3638194974546276,0.3640008932100894,0.36419656181698223,0.3644059896699848,0.3646286650694971,0.3648640778950073,0.3651117193056761,0.36537108146786956,0.36564165730932957,0.36592294029962197,0.36621442425647055,0.3665156031775369,0.3668259710971777,0.3671450219676698,0.3674722495643643,0.3678071474141959,0.36814920874695006,0.36849792646865703,0.36885279315646313,0.3692133010742977,0.36957894220864324,0.3699492083236866,0.3703235910351209,0.37070158190183944,0.37108267253476585,0.37146635472203693,0.371852120569752,0.37223946265749397,0.3726278742078185,0.37301684926890233,0.3734058829095402,0.3737944714256772,0.374182112557661,0.37456830571740374,0.374952552224642,0.37533435555149114,0.3757132215744921,0.37608865883335885,0.37646017879564314,0.3768272961265383,0.37718952896306024,0.37754639919185295,0.3778974327298769,0.3782421598072576,0.3785801152515815,0.3789108387729454,0.3792338752490808,0.3795487750098941,0.37985509412077756,0.3801523946640707,0.38044024501806706,0.3807182201329814,0.3809859018033167,0.38124287893608644,0.38148874781437375,0.3817231123557259,0.3819455843649101,0.38215578378057213,0.38235333891537027,0.38253788668916866,0.38270907285490796,0.3828665522167834,0.38300998884039206,0.3831390562545244,0.38325343764430536,0.3833528260354063,0.38343692446907385,0.3835054461677418,0.38355811469101414,0.38359466408182813,0.3836148390026221,0.3836183948613633,0.3836050979272963,0.3835747254363034,0.38352706568578004,0.3834619181189483,0.3833790933985488,0.38327841346986824,0.38315971161307405,0.3830228324848464,0.38286763214930963,0.3826939780982814,0.38250174926087055,0.38229083600246866,0.3820611401131907,0.3818125747858353,0.38154506458344434,0.3812585453965489,0.3809529643902091,0.38062827994094967,0.38028446156371787,0.37992148982898455,0.3795393562701287,0.37913806328124466,0.37871762400552306,0.3782780622143613,0.3778194121773638,0.37734171852340287,0.37684503609290815,0.3763294297815673,0.3757949743756157,0.3752417543789044,0.3746698638319354,0.3740794061230582,0.3734704937920281,0.3728432483261224,0.37219779994902435,0.3715342874026789,0.3708528577223326,0.370153666004972,0.3694368751713744,0.3687026557219955,0.36795118548691236,0.36718264937005,0.36639723908792116,0.36559515290310907,0.3647765953527322,0.3639417769721269,0.3630909140139935,0.3622242281632499,0.3613419462478451,0.36044429994578553,0.35953152548863243,0.3586038633617364,0.35766155800147154,0.3567048574897465,0.3557340132460659,0.3547492797174251,0.3537509140663275,0.35273917585721376,0.3517143267416032,0.3506766301422496,0.34962635093662153,0.34856375514001925,0.34748910958865203,0.34640268162299837,0.34530473877178347,0.3441955484369079,0.3430753775796728,0.34194449240864827,0.34080315806953726,0.33965163833739515,0.33849019531156493,0.3373190891136983,0.33613857758923127,0.33494891601269383,0.3337503567972263,0.3325431492086904,0.33132753908475643,0.330103768559352,0.32887207579286376,0.32763269470847733,0.3263858547350479,0.3251317805568856,0.3238706918708519,0.32260280315114054,0.32132832342214046,0.3200474560397479,0.3187603984815125,0.317467342145984,0.31616847216162575,0.3148639672056511,0.3135539993331359,0.31223873381674655,0.3109183289974163,0.30959293614629063,0.3082626993382523,0.30692775533732286,0.30558823349422365,0.30424425565636765,0.30289593609053267,0.3015433814184575,0.300186690565577,0.2988259547231001,0.2974612573236146,0.2960926740303775,0.2947202727404375,0.2933441136017056,0.2919642490440733,0.2905807238246536,0.2891935750871931,0.287802832435683,0.28640851802216866,0.28501064664873416,0.283609225883608,0.28220425619131545,0.28079573107677064,0.27938363724317716,0.27796795476357605,0.27654865726585737,0.2751257121310143,0.2736990807044024,0.27226871851973056,0.2708345755354825,0.26939659638344826,0.26795472062900544,0.26650888304277565,0.26505901388324515,0.26360503918991757,0.2621468810865419,0.2606844580939291,0.2592176854518531,0.25774647544950396,0.2562707377639382,0.25479037980595604,0.2533053070728051,0.25181542350709984,0.2503206318613227,0.24882083406725491,0.24731593160967422,0.24580582590363756,0.24429041867465512,0.24276961234105104,0.2412433103977955,0.23971141780108315,0.23817384135292782,0.23663049008503564,0.23508127564121561,0.23352611265758516,0.23196491913982573,0.230397616836746,0.2288241316094122,0.22724439379510955,0.2256583385654048,0.22406590627758816,0.22246704281878082,0.2208616999420081,0.2192498355935474,0.21763141423087812,0.21600640713057417,0.21437479268549858,0.21273655669067826,0.21109169261725771,0.209440201873953,0.20778209405545045,0.20611738717721798,0.2044461078962265,0.20276829171710314,0.201083983183267,0.1993932360526291,0.1976961134574683,0.19599268804812517,0.19428304212019099,0.19256726772489882,0.19084546676246267,0.18911775105813852,0.1873842424208223,0.18564507268403307,0.18390038372916567,0.1821503274909304],\"yaxis\":\"y\",\"type\":\"scatter\"},{\"marker\":{\"color\":\"darkseagreen\",\"line\":{\"width\":2},\"size\":10,\"symbol\":\"star-diamond\"},\"name\":\"uploaded image\",\"x\":[0.6200000047683716],\"y\":[0.28543690290669305],\"type\":\"scatter\"}],                        {\"barmode\":\"overlay\",\"hovermode\":\"closest\",\"legend\":{\"traceorder\":\"reversed\",\"font\":{\"size\":12}},\"xaxis\":{\"anchor\":\"y2\",\"domain\":[0.0,1.0],\"zeroline\":false,\"range\":[-0.1,1.1],\"title\":{\"text\":\"Predicted Probability\",\"font\":{\"size\":18}},\"tickfont\":{\"size\":15},\"ticks\":\"outside\"},\"yaxis\":{\"anchor\":\"free\",\"domain\":[0.0,1],\"position\":0.0,\"title\":{\"text\":\"Density in Distribution\",\"font\":{\"size\":18}},\"tickfont\":{\"size\":15},\"ticks\":\"outside\"},\"template\":{\"data\":{\"bar\":[{\"error_x\":{\"color\":\"#2a3f5f\"},\"error_y\":{\"color\":\"#2a3f5f\"},\"marker\":{\"line\":{\"color\":\"#E5ECF6\",\"width\":0.5},\"pattern\":{\"fillmode\":\"overlay\",\"size\":10,\"solidity\":0.2}},\"type\":\"bar\"}],\"barpolar\":[{\"marker\":{\"line\":{\"color\":\"#E5ECF6\",\"width\":0.5},\"pattern\":{\"fillmode\":\"overlay\",\"size\":10,\"solidity\":0.2}},\"type\":\"barpolar\"}],\"carpet\":[{\"aaxis\":{\"endlinecolor\":\"#2a3f5f\",\"gridcolor\":\"white\",\"linecolor\":\"white\",\"minorgridcolor\":\"white\",\"startlinecolor\":\"#2a3f5f\"},\"baxis\":{\"endlinecolor\":\"#2a3f5f\",\"gridcolor\":\"white\",\"linecolor\":\"white\",\"minorgridcolor\":\"white\",\"startlinecolor\":\"#2a3f5f\"},\"type\":\"carpet\"}],\"choropleth\":[{\"colorbar\":{\"outlinewidth\":0,\"ticks\":\"\"},\"type\":\"choropleth\"}],\"contour\":[{\"colorbar\":{\"outlinewidth\":0,\"ticks\":\"\"},\"colorscale\":[[0.0,\"#0d0887\"],[0.1111111111111111,\"#46039f\"],[0.2222222222222222,\"#7201a8\"],[0.3333333333333333,\"#9c179e\"],[0.4444444444444444,\"#bd3786\"],[0.5555555555555556,\"#d8576b\"],[0.6666666666666666,\"#ed7953\"],[0.7777777777777778,\"#fb9f3a\"],[0.8888888888888888,\"#fdca26\"],[1.0,\"#f0f921\"]],\"type\":\"contour\"}],\"contourcarpet\":[{\"colorbar\":{\"outlinewidth\":0,\"ticks\":\"\"},\"type\":\"contourcarpet\"}],\"heatmap\":[{\"colorbar\":{\"outlinewidth\":0,\"ticks\":\"\"},\"colorscale\":[[0.0,\"#0d0887\"],[0.1111111111111111,\"#46039f\"],[0.2222222222222222,\"#7201a8\"],[0.3333333333333333,\"#9c179e\"],[0.4444444444444444,\"#bd3786\"],[0.5555555555555556,\"#d8576b\"],[0.6666666666666666,\"#ed7953\"],[0.7777777777777778,\"#fb9f3a\"],[0.8888888888888888,\"#fdca26\"],[1.0,\"#f0f921\"]],\"type\":\"heatmap\"}],\"heatmapgl\":[{\"colorbar\":{\"outlinewidth\":0,\"ticks\":\"\"},\"colorscale\":[[0.0,\"#0d0887\"],[0.1111111111111111,\"#46039f\"],[0.2222222222222222,\"#7201a8\"],[0.3333333333333333,\"#9c179e\"],[0.4444444444444444,\"#bd3786\"],[0.5555555555555556,\"#d8576b\"],[0.6666666666666666,\"#ed7953\"],[0.7777777777777778,\"#fb9f3a\"],[0.8888888888888888,\"#fdca26\"],[1.0,\"#f0f921\"]],\"type\":\"heatmapgl\"}],\"histogram\":[{\"marker\":{\"pattern\":{\"fillmode\":\"overlay\",\"size\":10,\"solidity\":0.2}},\"type\":\"histogram\"}],\"histogram2d\":[{\"colorbar\":{\"outlinewidth\":0,\"ticks\":\"\"},\"colorscale\":[[0.0,\"#0d0887\"],[0.1111111111111111,\"#46039f\"],[0.2222222222222222,\"#7201a8\"],[0.3333333333333333,\"#9c179e\"],[0.4444444444444444,\"#bd3786\"],[0.5555555555555556,\"#d8576b\"],[0.6666666666666666,\"#ed7953\"],[0.7777777777777778,\"#fb9f3a\"],[0.8888888888888888,\"#fdca26\"],[1.0,\"#f0f921\"]],\"type\":\"histogram2d\"}],\"histogram2dcontour\":[{\"colorbar\":{\"outlinewidth\":0,\"ticks\":\"\"},\"colorscale\":[[0.0,\"#0d0887\"],[0.1111111111111111,\"#46039f\"],[0.2222222222222222,\"#7201a8\"],[0.3333333333333333,\"#9c179e\"],[0.4444444444444444,\"#bd3786\"],[0.5555555555555556,\"#d8576b\"],[0.6666666666666666,\"#ed7953\"],[0.7777777777777778,\"#fb9f3a\"],[0.8888888888888888,\"#fdca26\"],[1.0,\"#f0f921\"]],\"type\":\"histogram2dcontour\"}],\"mesh3d\":[{\"colorbar\":{\"outlinewidth\":0,\"ticks\":\"\"},\"type\":\"mesh3d\"}],\"parcoords\":[{\"line\":{\"colorbar\":{\"outlinewidth\":0,\"ticks\":\"\"}},\"type\":\"parcoords\"}],\"pie\":[{\"automargin\":true,\"type\":\"pie\"}],\"scatter\":[{\"marker\":{\"colorbar\":{\"outlinewidth\":0,\"ticks\":\"\"}},\"type\":\"scatter\"}],\"scatter3d\":[{\"line\":{\"colorbar\":{\"outlinewidth\":0,\"ticks\":\"\"}},\"marker\":{\"colorbar\":{\"outlinewidth\":0,\"ticks\":\"\"}},\"type\":\"scatter3d\"}],\"scattercarpet\":[{\"marker\":{\"colorbar\":{\"outlinewidth\":0,\"ticks\":\"\"}},\"type\":\"scattercarpet\"}],\"scattergeo\":[{\"marker\":{\"colorbar\":{\"outlinewidth\":0,\"ticks\":\"\"}},\"type\":\"scattergeo\"}],\"scattergl\":[{\"marker\":{\"colorbar\":{\"outlinewidth\":0,\"ticks\":\"\"}},\"type\":\"scattergl\"}],\"scattermapbox\":[{\"marker\":{\"colorbar\":{\"outlinewidth\":0,\"ticks\":\"\"}},\"type\":\"scattermapbox\"}],\"scatterpolar\":[{\"marker\":{\"colorbar\":{\"outlinewidth\":0,\"ticks\":\"\"}},\"type\":\"scatterpolar\"}],\"scatterpolargl\":[{\"marker\":{\"colorbar\":{\"outlinewidth\":0,\"ticks\":\"\"}},\"type\":\"scatterpolargl\"}],\"scatterternary\":[{\"marker\":{\"colorbar\":{\"outlinewidth\":0,\"ticks\":\"\"}},\"type\":\"scatterternary\"}],\"surface\":[{\"colorbar\":{\"outlinewidth\":0,\"ticks\":\"\"},\"colorscale\":[[0.0,\"#0d0887\"],[0.1111111111111111,\"#46039f\"],[0.2222222222222222,\"#7201a8\"],[0.3333333333333333,\"#9c179e\"],[0.4444444444444444,\"#bd3786\"],[0.5555555555555556,\"#d8576b\"],[0.6666666666666666,\"#ed7953\"],[0.7777777777777778,\"#fb9f3a\"],[0.8888888888888888,\"#fdca26\"],[1.0,\"#f0f921\"]],\"type\":\"surface\"}],\"table\":[{\"cells\":{\"fill\":{\"color\":\"#EBF0F8\"},\"line\":{\"color\":\"white\"}},\"header\":{\"fill\":{\"color\":\"#C8D4E3\"},\"line\":{\"color\":\"white\"}},\"type\":\"table\"}]},\"layout\":{\"annotationdefaults\":{\"arrowcolor\":\"#2a3f5f\",\"arrowhead\":0,\"arrowwidth\":1},\"autotypenumbers\":\"strict\",\"coloraxis\":{\"colorbar\":{\"outlinewidth\":0,\"ticks\":\"\"}},\"colorscale\":{\"diverging\":[[0,\"#8e0152\"],[0.1,\"#c51b7d\"],[0.2,\"#de77ae\"],[0.3,\"#f1b6da\"],[0.4,\"#fde0ef\"],[0.5,\"#f7f7f7\"],[0.6,\"#e6f5d0\"],[0.7,\"#b8e186\"],[0.8,\"#7fbc41\"],[0.9,\"#4d9221\"],[1,\"#276419\"]],\"sequential\":[[0.0,\"#0d0887\"],[0.1111111111111111,\"#46039f\"],[0.2222222222222222,\"#7201a8\"],[0.3333333333333333,\"#9c179e\"],[0.4444444444444444,\"#bd3786\"],[0.5555555555555556,\"#d8576b\"],[0.6666666666666666,\"#ed7953\"],[0.7777777777777778,\"#fb9f3a\"],[0.8888888888888888,\"#fdca26\"],[1.0,\"#f0f921\"]],\"sequentialminus\":[[0.0,\"#0d0887\"],[0.1111111111111111,\"#46039f\"],[0.2222222222222222,\"#7201a8\"],[0.3333333333333333,\"#9c179e\"],[0.4444444444444444,\"#bd3786\"],[0.5555555555555556,\"#d8576b\"],[0.6666666666666666,\"#ed7953\"],[0.7777777777777778,\"#fb9f3a\"],[0.8888888888888888,\"#fdca26\"],[1.0,\"#f0f921\"]]},\"colorway\":[\"#636efa\",\"#EF553B\",\"#00cc96\",\"#ab63fa\",\"#FFA15A\",\"#19d3f3\",\"#FF6692\",\"#B6E880\",\"#FF97FF\",\"#FECB52\"],\"font\":{\"color\":\"#2a3f5f\"},\"geo\":{\"bgcolor\":\"white\",\"lakecolor\":\"white\",\"landcolor\":\"#E5ECF6\",\"showlakes\":true,\"showland\":true,\"subunitcolor\":\"white\"},\"hoverlabel\":{\"align\":\"left\"},\"hovermode\":\"closest\",\"mapbox\":{\"style\":\"light\"},\"paper_bgcolor\":\"white\",\"plot_bgcolor\":\"#E5ECF6\",\"polar\":{\"angularaxis\":{\"gridcolor\":\"white\",\"linecolor\":\"white\",\"ticks\":\"\"},\"bgcolor\":\"#E5ECF6\",\"radialaxis\":{\"gridcolor\":\"white\",\"linecolor\":\"white\",\"ticks\":\"\"}},\"scene\":{\"xaxis\":{\"backgroundcolor\":\"#E5ECF6\",\"gridcolor\":\"white\",\"gridwidth\":2,\"linecolor\":\"white\",\"showbackground\":true,\"ticks\":\"\",\"zerolinecolor\":\"white\"},\"yaxis\":{\"backgroundcolor\":\"#E5ECF6\",\"gridcolor\":\"white\",\"gridwidth\":2,\"linecolor\":\"white\",\"showbackground\":true,\"ticks\":\"\",\"zerolinecolor\":\"white\"},\"zaxis\":{\"backgroundcolor\":\"#E5ECF6\",\"gridcolor\":\"white\",\"gridwidth\":2,\"linecolor\":\"white\",\"showbackground\":true,\"ticks\":\"\",\"zerolinecolor\":\"white\"}},\"shapedefaults\":{\"line\":{\"color\":\"#2a3f5f\"}},\"ternary\":{\"aaxis\":{\"gridcolor\":\"white\",\"linecolor\":\"white\",\"ticks\":\"\"},\"baxis\":{\"gridcolor\":\"white\",\"linecolor\":\"white\",\"ticks\":\"\"},\"bgcolor\":\"#E5ECF6\",\"caxis\":{\"gridcolor\":\"white\",\"linecolor\":\"white\",\"ticks\":\"\"}},\"title\":{\"x\":0.05},\"xaxis\":{\"automargin\":true,\"gridcolor\":\"white\",\"linecolor\":\"white\",\"ticks\":\"\",\"title\":{\"standoff\":15},\"zerolinecolor\":\"white\",\"zerolinewidth\":2},\"yaxis\":{\"automargin\":true,\"gridcolor\":\"white\",\"linecolor\":\"white\",\"ticks\":\"\",\"title\":{\"standoff\":15},\"zerolinecolor\":\"white\",\"zerolinewidth\":2}}},\"title\":{\"font\":{\"size\":18},\"text\":\"Predicted Probabilities for Pathological and Healthy Retinas\",\"y\":0.92,\"x\":0.45},\"margin\":{\"l\":10,\"r\":0,\"t\":60,\"b\":10},\"width\":500,\"height\":400,\"paper_bgcolor\":\"lightsteelblue\"},                        {\"responsive\": true}                    ).then(function(){\n",
       "                            \n",
       "var gd = document.getElementById('b81af0be-a623-459e-be1e-bae4f61f07b1');\n",
       "var x = new MutationObserver(function (mutations, observer) {{\n",
       "        var display = window.getComputedStyle(gd).display;\n",
       "        if (!display || display === 'none') {{\n",
       "            console.log([gd, 'removed!']);\n",
       "            Plotly.purge(gd);\n",
       "            observer.disconnect();\n",
       "        }}\n",
       "}});\n",
       "\n",
       "// Listen for the removal of the full notebook cells\n",
       "var notebookContainer = gd.closest('#notebook-container');\n",
       "if (notebookContainer) {{\n",
       "    x.observe(notebookContainer, {childList: true});\n",
       "}}\n",
       "\n",
       "// Listen for the clearing of the current output cell\n",
       "var outputEl = gd.closest('.output');\n",
       "if (outputEl) {{\n",
       "    x.observe(outputEl, {childList: true});\n",
       "}}\n",
       "\n",
       "                        })                };                });            </script>        </div>"
      ]
     },
     "metadata": {},
     "output_type": "display_data"
    }
   ],
   "source": [
    "var = [glauc, healthy]\n",
    "labels = ['Glaucoma', 'Healthy']\n",
    "\n",
    "# generate figure using true labels\n",
    "fig = ff.create_distplot(var, \n",
    "                         labels,\n",
    "                         # bin_size=0.01,\n",
    "                         show_hist=False, \n",
    "                         show_rug=False)\n",
    "# set size and title\n",
    "fig.update_layout(width=500, \n",
    "                  height=400,\n",
    "                  title_text='Predicted Probabilities for Pathological and Healthy Retinas',\n",
    "                  title_y=0.92,\n",
    "                  title_x=0.45,\n",
    "                  xaxis_range=[-0.1, 1.1],\n",
    "                  margin=dict(l=10, r=0, t=60, b=10),\n",
    "                  paper_bgcolor=\"lightsteelblue\",\n",
    "                  legend=dict(font=dict(size=12)),\n",
    "                  title_font=dict(size=18)\n",
    "                 )\n",
    "\n",
    "# set axes labels\n",
    "fig.update_xaxes(title='Predicted Probability', title_font_size=18, tickfont_size=15, ticks='outside')\n",
    "fig.update_yaxes(title='Density in Distribution', title_font_size=18, tickfont_size=15, ticks='outside')\n",
    "\n",
    "# add marker at position matching predicted probability of the uploaded image \n",
    "fig.add_scatter(x=[round(prediction, 2)], \n",
    "                y=[find_y(round(prediction, 2),fig)], # use helper function 'find_y' to determine what the y coordinate for the marker should be\n",
    "                name='uploaded image', \n",
    "                marker=dict(size=10, \n",
    "                            line=dict(width=2),\n",
    "                            color='darkseagreen', \n",
    "                            symbol=\"star-diamond\"))\n",
    "\n",
    "\n",
    "\n",
    "fig.show()"
   ]
  }
 ],
 "metadata": {
  "kernelspec": {
   "display_name": "Python [conda env:tensorflow]",
   "language": "python",
   "name": "conda-env-tensorflow-py"
  },
  "language_info": {
   "codemirror_mode": {
    "name": "ipython",
    "version": 3
   },
   "file_extension": ".py",
   "mimetype": "text/x-python",
   "name": "python",
   "nbconvert_exporter": "python",
   "pygments_lexer": "ipython3",
   "version": "3.9.12"
  }
 },
 "nbformat": 4,
 "nbformat_minor": 5
}
